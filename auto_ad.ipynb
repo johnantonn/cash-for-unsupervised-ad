{
 "cells": [
  {
   "cell_type": "markdown",
   "id": "70ba3c3e-177c-4051-b7bd-def702574389",
   "metadata": {},
   "source": [
    "### Automated anomaly detection using PyOD and Auto-Sklearn\n",
    "This notebook incorporates anomaly detection algorithms from PyOD into Auto-Sklearn. The following steps are followed:\n",
    "- Auto-Sklearn is extended to incorporate PyOD algorithms\n",
    "- Anomaly detection dataset(s) are imported and pre-processed\n",
    "- Dataset is passed to Auto-Sklearn automl object for automated modeling and prediction\n",
    "- Results and stats are obtained and analyzed"
   ]
  },
  {
   "cell_type": "code",
   "execution_count": 1,
   "id": "59f6d5d8-2dd9-481a-98a0-9c84a6c2fe6e",
   "metadata": {},
   "outputs": [],
   "source": [
    "# Imports\n",
    "import pandas as pd\n",
    "import numpy as np\n",
    "import sklearn.metrics\n",
    "import autosklearn.classification\n",
    "from sklearn.model_selection import train_test_split\n",
    "from autosklearn.metrics import roc_auc\n",
    "from scipy.io import arff\n",
    "from matplotlib import pyplot as plt"
   ]
  },
  {
   "cell_type": "code",
   "execution_count": 9,
   "id": "b1464bd5-9d7d-4a4a-86e9-5f2a4ba912a9",
   "metadata": {},
   "outputs": [
    {
     "name": "stdout",
     "output_type": "stream",
     "text": [
      "Ratio of outliers in training set: 0.0675\n",
      "Ratio of outliers in test set: 0.068\n",
      "Training size: 4000\n",
      "Test size: 1000\n"
     ]
    }
   ],
   "source": [
    "# Shuttle dataset\n",
    "from scipy.io import loadmat  # this is the SciPy module that loads mat-files\n",
    "mat = loadmat('data/shuttle.mat')  # load mat-file\n",
    "X = mat['X']\n",
    "y = mat['y']\n",
    "X = pd.DataFrame(X)\n",
    "y = pd.DataFrame(y)\n",
    "y = y[0]\n",
    "N = 5000\n",
    "if(len(X) > N):\n",
    "    X = X.sample(n=N, ignore_index=True, random_state=1)\n",
    "    y = y.sample(n=N, ignore_index=True, random_state=1)\n",
    "X_train, X_test, y_train, y_test = train_test_split(X, y, test_size=0.2, random_state=1, stratify=y) # stratified split\n",
    "# Reset indexes\n",
    "X_train.reset_index(drop=True, inplace=True)\n",
    "y_train.reset_index(drop=True, inplace=True)\n",
    "X_test.reset_index(drop=True, inplace=True)\n",
    "y_test.reset_index(drop=True, inplace=True)\n",
    "#X_train_norm = X_train.copy()\n",
    "#X_test_norm = X_test.copy()\n",
    "#for col in X_train_norm.columns:\n",
    "#    mu = X_train_norm[col].mean()\n",
    "#    sig = X_train_norm[col].std()\n",
    "#    X_train_norm[col] = (X_train_norm[col] - mu) / sig\n",
    "#    X_test_norm[col] = (X_test_norm[col] - mu) / sig\n",
    "#X_train = X_train_norm.copy()\n",
    "#X_test = X_test_norm.copy()\n",
    "print(\"Ratio of outliers in training set:\", len(y_train[y_train==1])/len(y_train))\n",
    "print(\"Ratio of outliers in test set:\", len(y_test[y_test==1])/len(y_test))\n",
    "print(\"Training size:\", len(X_train))\n",
    "print(\"Test size:\", len(X_test))"
   ]
  },
  {
   "cell_type": "code",
   "execution_count": 10,
   "id": "40dabce0-814b-4e9b-851b-ebb0c5988993",
   "metadata": {},
   "outputs": [],
   "source": [
    "# Import Auto-Sklearn implemented PyOD classifiers\n",
    "from pyod_models.abod import ABODClassifier # probabilistic\n",
    "from pyod_models.cblof import CBLOFClassifier # proximity-based\n",
    "from pyod_models.cof import COFClassifier # proximity-based\n",
    "from pyod_models.copod import COPODClassifier # probabilistic\n",
    "from pyod_models.ecod import ECODClassifier # probabilistic\n",
    "from pyod_models.hbos import HBOSClassifier # proximity-based\n",
    "from pyod_models.iforest import IForestClassifier # outlier ensembles\n",
    "from pyod_models.knn import KNNClassifier # proximity-based\n",
    "from pyod_models.lmdd import LMDDClassifier # linear model\n",
    "from pyod_models.loci import LOCIClassifier # proximity-based\n",
    "from pyod_models.lof import LOFClassifier # proximity-based\n",
    "from pyod_models.mad import MADClassifier # probabilistic\n",
    "from pyod_models.mcd import MCDClassifier # linear model\n",
    "from pyod_models.ocsvm import OCSVMClassifier # linear model\n",
    "from pyod_models.pca import PCAClassifier # linear model\n",
    "from pyod_models.rod import RODClassifier # proximity-based\n",
    "from pyod_models.sod import SODClassifier # proximity-based\n",
    "from pyod_models.sos import SOSClassifier # probabilistic\n",
    "# Add algorithms to the pipeline components of Auto-Sklearn\n",
    "autosklearn.pipeline.components.classification.add_classifier(ABODClassifier)\n",
    "autosklearn.pipeline.components.classification.add_classifier(CBLOFClassifier)\n",
    "autosklearn.pipeline.components.classification.add_classifier(COFClassifier)\n",
    "autosklearn.pipeline.components.classification.add_classifier(COPODClassifier)\n",
    "autosklearn.pipeline.components.classification.add_classifier(ECODClassifier)\n",
    "autosklearn.pipeline.components.classification.add_classifier(HBOSClassifier)\n",
    "autosklearn.pipeline.components.classification.add_classifier(IForestClassifier)\n",
    "autosklearn.pipeline.components.classification.add_classifier(KNNClassifier)\n",
    "autosklearn.pipeline.components.classification.add_classifier(LMDDClassifier)\n",
    "autosklearn.pipeline.components.classification.add_classifier(LOCIClassifier)\n",
    "autosklearn.pipeline.components.classification.add_classifier(LOFClassifier)\n",
    "autosklearn.pipeline.components.classification.add_classifier(MADClassifier)\n",
    "autosklearn.pipeline.components.classification.add_classifier(MCDClassifier)\n",
    "autosklearn.pipeline.components.classification.add_classifier(OCSVMClassifier)\n",
    "autosklearn.pipeline.components.classification.add_classifier(PCAClassifier)\n",
    "autosklearn.pipeline.components.classification.add_classifier(RODClassifier)\n",
    "autosklearn.pipeline.components.classification.add_classifier(SODClassifier)\n",
    "autosklearn.pipeline.components.classification.add_classifier(SOSClassifier)"
   ]
  },
  {
   "cell_type": "code",
   "execution_count": 11,
   "id": "21302870-7540-4392-b114-2c25305b84a2",
   "metadata": {},
   "outputs": [
    {
     "data": {
      "text/plain": [
       "AutoSklearnClassifier(ensemble_size=5,\n",
       "                      include={'classifier': ['ABODClassifier',\n",
       "                                              'CBLOFClassifier',\n",
       "                                              'COFClassifier',\n",
       "                                              'COPODClassifier',\n",
       "                                              'ECODClassifier',\n",
       "                                              'HBOSClassifier',\n",
       "                                              'IForestClassifier',\n",
       "                                              'KNNClassifier', 'LMDDClassifier',\n",
       "                                              'LOCIClassifier', 'LOFClassifier',\n",
       "                                              'MADClassifier', 'MCDClassifier',\n",
       "                                              'OCSVMClassifier',\n",
       "                                              'PCAClassifier', 'RODClassifier',\n",
       "                                              'SODClassifier',\n",
       "                                              'SOSClassifier'],\n",
       "                               'feature_preprocessor': ['no_preprocessing']},\n",
       "                      initial_configurations_via_metalearning=0, metric=roc_auc,\n",
       "                      per_run_time_limit=30,\n",
       "                      resampling_strategy_arguments={'train_size': 0.67},\n",
       "                      time_left_for_this_task=600)"
      ]
     },
     "execution_count": 11,
     "metadata": {},
     "output_type": "execute_result"
    }
   ],
   "source": [
    "# Build and fit a classifier\n",
    "automl = autosklearn.classification.AutoSklearnClassifier(\n",
    "    include = {\n",
    "      'classifier': [\n",
    "          'ABODClassifier',\n",
    "          'CBLOFClassifier',\n",
    "          'COFClassifier',\n",
    "          'COPODClassifier',\n",
    "          'ECODClassifier',\n",
    "          'HBOSClassifier',\n",
    "          'IForestClassifier',\n",
    "          'KNNClassifier',\n",
    "          'LMDDClassifier',\n",
    "          'LOCIClassifier',\n",
    "          'LOFClassifier',\n",
    "          'MADClassifier',\n",
    "          'MCDClassifier',\n",
    "          'OCSVMClassifier',\n",
    "          'PCAClassifier',\n",
    "          'RODClassifier',\n",
    "          'SODClassifier',\n",
    "          'SOSClassifier'\n",
    "      ],\n",
    "      'feature_preprocessor': [\"no_preprocessing\"],\n",
    "    },\n",
    "    exclude=None,\n",
    "    metric=autosklearn.metrics.roc_auc,\n",
    "    time_left_for_this_task=600,\n",
    "    per_run_time_limit=30,\n",
    "    ensemble_size=5,\n",
    "    initial_configurations_via_metalearning=0,\n",
    "    resampling_strategy='holdout',\n",
    "    resampling_strategy_arguments={'train_size': 0.67}\n",
    "    #resampling_strategy='cv',\n",
    "    #resampling_strategy_arguments={'folds': 10}\n",
    ")\n",
    "# Fit\n",
    "automl.fit(X_train, y_train, X_test, y_test, dataset_name='Shuttle')"
   ]
  },
  {
   "cell_type": "code",
   "execution_count": 12,
   "id": "17a82302-1d15-4a73-bba4-04057f3f47c8",
   "metadata": {},
   "outputs": [
    {
     "name": "stdout",
     "output_type": "stream",
     "text": [
      "auto-sklearn results:\n",
      "  Dataset name: Shuttle\n",
      "  Metric: roc_auc\n",
      "  Best validation score: 0.999115\n",
      "  Number of target algorithm runs: 83\n",
      "  Number of successful target algorithm runs: 64\n",
      "  Number of crashed target algorithm runs: 13\n",
      "  Number of target algorithms that exceeded the time limit: 6\n",
      "  Number of target algorithms that exceeded the memory limit: 0\n",
      "\n"
     ]
    }
   ],
   "source": [
    "# auto-sklearn execution details\n",
    "print(automl.sprint_statistics())\n",
    "# Top ranked model\n",
    "#print(automl.leaderboard(top_k=10))\n",
    "# Top ranked model configuration\n",
    "#print()\n",
    "#print(automl.show_models())"
   ]
  },
  {
   "cell_type": "code",
   "execution_count": 13,
   "id": "394c7915-2386-43f7-8036-5f77061198c8",
   "metadata": {},
   "outputs": [
    {
     "name": "stdout",
     "output_type": "stream",
     "text": [
      "ROC AUC score: 0.999810653875284\n"
     ]
    }
   ],
   "source": [
    "# Evaluate on test set\n",
    "y_pred=automl.predict_proba(X_test)\n",
    "# score\n",
    "score=sklearn.metrics.roc_auc_score(y_test,y_pred[:,1])\n",
    "print(\"ROC AUC score:\", score)"
   ]
  },
  {
   "cell_type": "code",
   "execution_count": 14,
   "id": "a33a7330-2800-460b-9649-21b2f56a2955",
   "metadata": {},
   "outputs": [
    {
     "name": "stdout",
     "output_type": "stream",
     "text": [
      " rank_test_scores  status param_classifier:__choice__  mean_test_score  mean_fit_time\n",
      "                1 Success             COPODClassifier         0.999115       1.705635\n",
      "                1 Success             COPODClassifier         0.999115       1.016845\n",
      "                1 Success             COPODClassifier         0.999115       1.277198\n",
      "                1 Success             COPODClassifier         0.999115       1.010083\n",
      "                1 Success             COPODClassifier         0.999115       1.489329\n",
      "                1 Success             COPODClassifier         0.999115       1.012709\n",
      "                1 Success             COPODClassifier         0.999115       1.008583\n",
      "                1 Success             COPODClassifier         0.999115       1.197987\n",
      "                1 Success             COPODClassifier         0.999115       1.533244\n",
      "                1 Success             COPODClassifier         0.999115       1.010616\n",
      "                1 Success             COPODClassifier         0.999115       1.204274\n",
      "                1 Success             COPODClassifier         0.999115       1.025186\n",
      "               13 Success              ECODClassifier         0.998686       1.206022\n",
      "               13 Success              ECODClassifier         0.998686       1.017404\n",
      "               13 Success              ECODClassifier         0.998686       1.241731\n",
      "               13 Success              ECODClassifier         0.998686       1.584920\n",
      "               13 Success              ECODClassifier         0.998686       1.113546\n",
      "               13 Success              ECODClassifier         0.998686       1.176914\n",
      "               13 Success              ECODClassifier         0.998686       1.346522\n",
      "               13 Success              ECODClassifier         0.998686       1.998643\n",
      "               13 Success              ECODClassifier         0.998686       1.198649\n",
      "               13 Success              ECODClassifier         0.998686       1.086085\n",
      "               13 Success              ECODClassifier         0.998686       1.376629\n",
      "               13 Success              ECODClassifier         0.998686       1.551223\n",
      "               13 Success              ECODClassifier         0.998686       1.181130\n",
      "               13 Success              ECODClassifier         0.998686       1.624495\n",
      "               27 Success             COPODClassifier         0.997481       1.152676\n",
      "               28 Success              HBOSClassifier         0.996942       3.009921\n",
      "               29 Success               MCDClassifier         0.996924       2.509811\n",
      "               30 Success               MCDClassifier         0.996833       2.544498\n",
      "               31 Success           IForestClassifier         0.996714       4.742428\n",
      "               32 Success               MCDClassifier         0.995153       2.065008\n",
      "               33 Success           IForestClassifier         0.994962       3.402767\n",
      "               34 Success           IForestClassifier         0.994834       3.065022\n",
      "               35 Success             OCSVMClassifier         0.994405       1.192784\n",
      "               36 Success           IForestClassifier         0.994104       1.043634\n",
      "               37 Success           IForestClassifier         0.993967       1.580231\n",
      "               38 Success              ECODClassifier         0.991119       1.645851\n",
      "               38 Success              ECODClassifier         0.991119       1.340320\n",
      "               40 Success              HBOSClassifier         0.989266       3.469987\n",
      "               41 Success               MCDClassifier         0.986674       2.216170\n",
      "               42 Success           IForestClassifier         0.984675       4.270390\n",
      "               43 Success              ECODClassifier         0.978742       1.557926\n",
      "               44 Success               RODClassifier         0.977501      11.478778\n",
      "               45 Success             COPODClassifier         0.975557       1.336231\n",
      "               46 Success              HBOSClassifier         0.968647       7.577643\n",
      "               47 Success               RODClassifier         0.967753      10.709389\n",
      "               47 Success               RODClassifier         0.967753      11.300555\n",
      "               49 Success             CBLOFClassifier         0.965197       2.854315\n",
      "               50 Success              HBOSClassifier         0.948233       3.233940\n",
      "               51 Success               LOFClassifier         0.944140       1.724956\n",
      "               52 Success               RODClassifier         0.919687      25.118730\n",
      "               53 Success               LOFClassifier         0.887075       2.035335\n",
      "               54 Success             OCSVMClassifier         0.747232       2.632851\n",
      "               55 Success              ABODClassifier         0.726467       5.119640\n",
      "               56 Success               SOSClassifier         0.690176      10.225153\n",
      "               57 Success              ABODClassifier         0.668635      10.672394\n",
      "               58 Success               LOFClassifier         0.633412       1.740139\n",
      "               59 Success               LOFClassifier         0.599786       1.178983\n",
      "               60 Success             OCSVMClassifier         0.500000       2.341984\n",
      "               60 Success             OCSVMClassifier         0.500000       1.513950\n",
      "               62 Success               LOFClassifier         0.397165       2.069403\n",
      "               63 Success             CBLOFClassifier         0.228945       3.124384\n",
      "               64 Success             OCSVMClassifier         0.015608       2.045026\n",
      "               65 Timeout              ABODClassifier         0.000000      30.037626\n",
      "               65   Crash               COFClassifier         0.000000       3.832453\n",
      "               65   Crash               COFClassifier         0.000000       9.319270\n",
      "               65   Crash               PCAClassifier         0.000000       0.832206\n",
      "               65   Crash               KNNClassifier         0.000000       0.489798\n",
      "               65 Timeout              LOCIClassifier         0.000000      30.045496\n",
      "               65   Crash               MADClassifier         0.000000       1.179644\n",
      "               65   Crash              ABODClassifier         0.000000       1.153631\n",
      "               65 Timeout              LMDDClassifier         0.000000      30.039799\n",
      "               65   Crash               KNNClassifier         0.000000       0.525987\n",
      "               65   Crash               SODClassifier         0.000000      17.263420\n",
      "               65   Crash               SODClassifier         0.000000      21.600225\n",
      "               65 Timeout               COFClassifier         0.000000      30.038827\n",
      "               65   Crash               KNNClassifier         0.000000       0.796429\n",
      "               65 Timeout              LOCIClassifier         0.000000      30.040487\n",
      "               65   Crash               SODClassifier         0.000000      24.068381\n",
      "               65 Timeout              LOCIClassifier         0.000000      30.039679\n",
      "               65   Crash               PCAClassifier         0.000000       1.276363\n",
      "               65   Crash               SODClassifier         0.000000      14.006849\n"
     ]
    }
   ],
   "source": [
    "# Get metric results function definition\n",
    "def get_metric_result(cv_results):\n",
    "    results = pd.DataFrame.from_dict(cv_results)\n",
    "    #results = results[results['status'] == \"Success\"] # if we're interested only in successful runs\n",
    "    cols = ['rank_test_scores', 'status', 'param_classifier:__choice__', 'mean_test_score', 'mean_fit_time']\n",
    "    cols.extend([key for key in cv_results.keys() if key.startswith('metric_')]) # if there are additional metrics\n",
    "    return results[cols].sort_values(['rank_test_scores'])\n",
    "# Call the function\n",
    "print(get_metric_result(automl.cv_results_).to_string(index=False))"
   ]
  },
  {
   "cell_type": "code",
   "execution_count": 15,
   "id": "2548eea3-a5ac-4845-b883-61141f5b10da",
   "metadata": {},
   "outputs": [
    {
     "data": {
      "image/png": "[encoded data removed]",
      "text/plain": [
       "<Figure size 432x288 with 1 Axes>"
      ]
     },
     "metadata": {
      "needs_background": "light"
     },
     "output_type": "display_data"
    }
   ],
   "source": [
    "# Plot training performance over time\n",
    "automl.performance_over_time_.plot(\n",
    "   x='Timestamp',\n",
    "   kind='line',\n",
    "   legend=True,\n",
    "   title='Auto-sklearn ROC AUC score over time',\n",
    "   grid=True,\n",
    ")\n",
    "plt.show()"
   ]
  }
 ],
 "metadata": {
  "kernelspec": {
   "display_name": "Python 3 (ipykernel)",
   "language": "python",
   "name": "python3"
  },
  "language_info": {
   "codemirror_mode": {
    "name": "ipython",
    "version": 3
   },
   "file_extension": ".py",
   "mimetype": "text/x-python",
   "name": "python",
   "nbconvert_exporter": "python",
   "pygments_lexer": "ipython3",
   "version": "3.8.12"
  }
 },
 "nbformat": 4,
 "nbformat_minor": 5
}
