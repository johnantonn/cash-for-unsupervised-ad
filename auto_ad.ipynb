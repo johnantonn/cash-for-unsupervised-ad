{
 "cells": [
  {
   "cell_type": "markdown",
   "id": "70ba3c3e-177c-4051-b7bd-def702574389",
   "metadata": {},
   "source": [
    "### Automated anomaly detection using PyOD and Auto-Sklearn\n",
    "This notebook incorporates anomaly detection algorithms from PyOD into Auto-Sklearn. The following steps are followed:\n",
    "- Auto-Sklearn is extended to incorporate PyOD algorithms\n",
    "- Anomaly detection dataset(s) are imported and pre-processed\n",
    "- Dataset is passed to Auto-Sklearn automl object for automated modeling and prediction\n",
    "- Results and stats are obtained and analyzed"
   ]
  },
  {
   "cell_type": "code",
   "execution_count": null,
   "id": "59f6d5d8-2dd9-481a-98a0-9c84a6c2fe6e",
   "metadata": {},
   "outputs": [],
   "source": [
    "# Imports\n",
    "import pandas as pd\n",
    "import numpy as np\n",
    "import sklearn.metrics\n",
    "import autosklearn.classification\n",
    "from sklearn.model_selection import train_test_split\n",
    "from autosklearn.metrics import roc_auc\n",
    "from scipy.io import arff\n",
    "from matplotlib import pyplot as plt"
   ]
  },
  {
   "cell_type": "code",
   "execution_count": 8,
   "id": "b1464bd5-9d7d-4a4a-86e9-5f2a4ba912a9",
   "metadata": {},
   "outputs": [
    {
     "name": "stdout",
     "output_type": "stream",
     "text": [
      "Ratio of outliers in training set: 0.0675\n",
      "Ratio of outliers in test set: 0.065\n",
      "Training size: 800\n",
      "Test size: 200\n"
     ]
    }
   ],
   "source": [
    "# Shuttle dataset\n",
    "from scipy.io import loadmat  # this is the SciPy module that loads mat-files\n",
    "mat = loadmat('datasets/shuttle.mat')  # load mat-file\n",
    "X = mat['X']\n",
    "y = mat['y']\n",
    "X = pd.DataFrame(X)\n",
    "y = pd.DataFrame(y)\n",
    "y = y[0]\n",
    "N = 1000\n",
    "if(len(X) > N):\n",
    "    X = X.sample(n=N, ignore_index=True, random_state=1)\n",
    "    y = y.sample(n=N, ignore_index=True, random_state=1)\n",
    "X_train, X_test, y_train, y_test = train_test_split(X, y, test_size=0.2, random_state=1, stratify=y) # stratified split\n",
    "# Reset indexes\n",
    "X_train.reset_index(drop=True, inplace=True)\n",
    "y_train.reset_index(drop=True, inplace=True)\n",
    "X_test.reset_index(drop=True, inplace=True)\n",
    "y_test.reset_index(drop=True, inplace=True)\n",
    "#X_train_norm = X_train.copy()\n",
    "#X_test_norm = X_test.copy()\n",
    "#for col in X_train_norm.columns:\n",
    "#    mu = X_train_norm[col].mean()\n",
    "#    sig = X_train_norm[col].std()\n",
    "#    X_train_norm[col] = (X_train_norm[col] - mu) / sig\n",
    "#    X_test_norm[col] = (X_test_norm[col] - mu) / sig\n",
    "#X_train = X_train_norm.copy()\n",
    "#X_test = X_test_norm.copy()\n",
    "print(\"Ratio of outliers in training set:\", len(y_train[y_train==1])/len(y_train))\n",
    "print(\"Ratio of outliers in test set:\", len(y_test[y_test==1])/len(y_test))\n",
    "print(\"Training size:\", len(X_train))\n",
    "print(\"Test size:\", len(X_test))"
   ]
  },
  {
   "cell_type": "code",
   "execution_count": 3,
   "id": "40dabce0-814b-4e9b-851b-ebb0c5988993",
   "metadata": {},
   "outputs": [],
   "source": [
    "# Add PyOD classifiers to the pipeline components of auto-sklearn\n",
    "from pyod_models.knn import KNNClassifier\n",
    "from pyod_models.lof import LOFClassifier\n",
    "from pyod_models.copod import COPODClassifier\n",
    "from pyod_models.abod import ABODClassifier\n",
    "from pyod_models.iforest import IForestClassifier\n",
    "from pyod_models.ecod import ECODClassifier\n",
    "from pyod_models.mad import MADClassifier\n",
    "from pyod_models.sos import SOSClassifier\n",
    "from pyod_models.lmdd import LMDDClassifier\n",
    "from pyod_models.cblof import CBLOFClassifier\n",
    "from pyod_models.loci import LOCIClassifier\n",
    "from pyod_models.hbos import HBOSClassifier\n",
    "from pyod_models.sod import SODClassifier\n",
    "from pyod_models.rod import RODClassifier\n",
    "autosklearn.pipeline.components.classification.add_classifier(KNNClassifier)\n",
    "autosklearn.pipeline.components.classification.add_classifier(LOFClassifier)\n",
    "autosklearn.pipeline.components.classification.add_classifier(ABODClassifier)\n",
    "autosklearn.pipeline.components.classification.add_classifier(COPODClassifier)\n",
    "autosklearn.pipeline.components.classification.add_classifier(IForestClassifier)\n",
    "autosklearn.pipeline.components.classification.add_classifier(ECODClassifier)\n",
    "autosklearn.pipeline.components.classification.add_classifier(MADClassifier)\n",
    "autosklearn.pipeline.components.classification.add_classifier(SOSClassifier)\n",
    "autosklearn.pipeline.components.classification.add_classifier(LMDDClassifier)\n",
    "autosklearn.pipeline.components.classification.add_classifier(CBLOFClassifier)\n",
    "autosklearn.pipeline.components.classification.add_classifier(LOCIClassifier)\n",
    "autosklearn.pipeline.components.classification.add_classifier(HBOSClassifier)\n",
    "autosklearn.pipeline.components.classification.add_classifier(SODClassifier)\n",
    "autosklearn.pipeline.components.classification.add_classifier(RODClassifier)"
   ]
  },
  {
   "cell_type": "code",
   "execution_count": 9,
   "id": "21302870-7540-4392-b114-2c25305b84a2",
   "metadata": {},
   "outputs": [
    {
     "data": {
      "text/plain": [
       "AutoSklearnClassifier(ensemble_size=5,\n",
       "                      include={'classifier': ['HBOSClassifier', 'RODClassifier',\n",
       "                                              'SODClassifier'],\n",
       "                               'feature_preprocessor': ['no_preprocessing']},\n",
       "                      initial_configurations_via_metalearning=0, metric=roc_auc,\n",
       "                      per_run_time_limit=30, resampling_strategy='cv',\n",
       "                      resampling_strategy_arguments={'folds': 10},\n",
       "                      time_left_for_this_task=360)"
      ]
     },
     "execution_count": 9,
     "metadata": {},
     "output_type": "execute_result"
    }
   ],
   "source": [
    "# Build and fit a classifier\n",
    "automl = autosklearn.classification.AutoSklearnClassifier(\n",
    "    include = {\n",
    "      'classifier': [\n",
    "          'HBOSClassifier',\n",
    "          'RODClassifier',\n",
    "          'SODClassifier',\n",
    "      ],\n",
    "      'feature_preprocessor': [\"no_preprocessing\"],\n",
    "    },\n",
    "    exclude=None,\n",
    "    metric=autosklearn.metrics.roc_auc,\n",
    "    time_left_for_this_task=360,\n",
    "    per_run_time_limit=30,\n",
    "    ensemble_size=5,\n",
    "    initial_configurations_via_metalearning=0,\n",
    "    #resampling_strategy='holdout',\n",
    "    #resampling_strategy_arguments={'train_size': 0.67}\n",
    "    resampling_strategy='cv',\n",
    "    resampling_strategy_arguments={'folds': 10}\n",
    ")\n",
    "# Fit\n",
    "automl.fit(X_train, y_train, X_test, y_test, dataset_name='Shuttle')"
   ]
  },
  {
   "cell_type": "code",
   "execution_count": 10,
   "id": "17a82302-1d15-4a73-bba4-04057f3f47c8",
   "metadata": {},
   "outputs": [
    {
     "name": "stdout",
     "output_type": "stream",
     "text": [
      "auto-sklearn results:\n",
      "  Dataset name: Shuttle\n",
      "  Metric: roc_auc\n",
      "  Best validation score: 0.987220\n",
      "  Number of target algorithm runs: 16\n",
      "  Number of successful target algorithm runs: 7\n",
      "  Number of crashed target algorithm runs: 4\n",
      "  Number of target algorithms that exceeded the time limit: 5\n",
      "  Number of target algorithms that exceeded the memory limit: 0\n",
      "\n"
     ]
    }
   ],
   "source": [
    "# auto-sklearn execution details\n",
    "print(automl.sprint_statistics())\n",
    "# Top ranked model\n",
    "#print(automl.leaderboard(top_k=10))\n",
    "# Top ranked model configuration\n",
    "#print()\n",
    "#print(automl.show_models())"
   ]
  },
  {
   "cell_type": "code",
   "execution_count": 11,
   "id": "394c7915-2386-43f7-8036-5f77061198c8",
   "metadata": {},
   "outputs": [
    {
     "name": "stdout",
     "output_type": "stream",
     "text": [
      "ROC AUC score: 0.9979432332373509\n"
     ]
    }
   ],
   "source": [
    "# Evaluate on test set\n",
    "y_pred=automl.predict_proba(X_test)\n",
    "# score\n",
    "score=sklearn.metrics.roc_auc_score(y_test,y_pred[:,1])\n",
    "print(\"ROC AUC score:\", score)"
   ]
  },
  {
   "cell_type": "code",
   "execution_count": 12,
   "id": "a33a7330-2800-460b-9649-21b2f56a2955",
   "metadata": {},
   "outputs": [
    {
     "name": "stdout",
     "output_type": "stream",
     "text": [
      " rank_test_scores  status param_classifier:__choice__  mean_test_score  mean_fit_time\n",
      "                1 Success              HBOSClassifier         0.987220      10.024480\n",
      "                2 Success              HBOSClassifier         0.980153      16.332729\n",
      "                3 Success              HBOSClassifier         0.975868      10.731966\n",
      "                4 Success              HBOSClassifier         0.974085      19.547463\n",
      "                5 Success              HBOSClassifier         0.970274      20.781672\n",
      "                6 Success              HBOSClassifier         0.955901      21.764272\n",
      "                7 Success              HBOSClassifier         0.933400      21.310738\n",
      "                8 Timeout               RODClassifier         0.000000      30.041747\n",
      "                8   Crash               SODClassifier         0.000000      11.554686\n",
      "                8 Timeout               RODClassifier         0.000000      30.044482\n",
      "                8   Crash               SODClassifier         0.000000      19.247361\n",
      "                8   Crash               SODClassifier         0.000000      18.432311\n",
      "                8 Timeout               RODClassifier         0.000000      30.066075\n",
      "                8   Crash               SODClassifier         0.000000      21.022703\n",
      "                8 Timeout               RODClassifier         0.000000      30.080052\n",
      "                8 Timeout              HBOSClassifier         0.000000       6.045014\n"
     ]
    }
   ],
   "source": [
    "# Get metric results function definition\n",
    "def get_metric_result(cv_results):\n",
    "    results = pd.DataFrame.from_dict(cv_results)\n",
    "    #results = results[results['status'] == \"Success\"] # if we're interested only in successful runs\n",
    "    cols = ['rank_test_scores', 'status', 'param_classifier:__choice__', 'mean_test_score', 'mean_fit_time']\n",
    "    cols.extend([key for key in cv_results.keys() if key.startswith('metric_')]) # if there are additional metrics\n",
    "    return results[cols].sort_values(['rank_test_scores'])\n",
    "# Call the function\n",
    "print(get_metric_result(automl.cv_results_).to_string(index=False))"
   ]
  },
  {
   "cell_type": "code",
   "execution_count": 13,
   "id": "2548eea3-a5ac-4845-b883-61141f5b10da",
   "metadata": {},
   "outputs": [
    {
     "data": {
      "image/png": "[encoded data removed]",
      "text/plain": [
       "<Figure size 432x288 with 1 Axes>"
      ]
     },
     "metadata": {
      "needs_background": "light"
     },
     "output_type": "display_data"
    }
   ],
   "source": [
    "# Plot training performance over time\n",
    "automl.performance_over_time_.plot(\n",
    "   x='Timestamp',\n",
    "   kind='line',\n",
    "   legend=True,\n",
    "   title='Auto-sklearn ROC AUC score over time',\n",
    "   grid=True,\n",
    ")\n",
    "plt.show()"
   ]
  },
  {
   "cell_type": "code",
   "execution_count": null,
   "id": "c831b8c4-d85f-4a0b-ad53-2cca601884b5",
   "metadata": {},
   "outputs": [],
   "source": []
  }
 ],
 "metadata": {
  "kernelspec": {
   "display_name": "Python 3 (ipykernel)",
   "language": "python",
   "name": "python3"
  },
  "language_info": {
   "codemirror_mode": {
    "name": "ipython",
    "version": 3
   },
   "file_extension": ".py",
   "mimetype": "text/x-python",
   "name": "python",
   "nbconvert_exporter": "python",
   "pygments_lexer": "ipython3",
   "version": "3.8.12"
  }
 },
 "nbformat": 4,
 "nbformat_minor": 5
}
