{
 "cells": [
  {
   "cell_type": "markdown",
   "id": "b024889c-4c4b-4d9b-a780-0c03c4afbb0b",
   "metadata": {},
   "source": [
    "### Automated anomaly detection using PyOD and Auto-Sklearn\n",
    "This notebook incorporates anomaly detection algorithms from PyOD into Auto-Sklearn. The following steps are followed:\n",
    "- Auto-Sklearn is extended to incorporate PyOD algorithms\n",
    "- Anomaly detection dataset(s) are imported and pre-processed\n",
    "- Dataset is passed to Auto-Sklearn automl object for automated modeling and prediction\n",
    "- Results and stats are obtained and analyzed"
   ]
  },
  {
   "cell_type": "code",
   "execution_count": 1,
   "id": "3b9869dd-9366-43d1-989e-573b7dd7e052",
   "metadata": {},
   "outputs": [],
   "source": [
    "# Imports\n",
    "import os\n",
    "import pandas as pd\n",
    "import numpy as np\n",
    "from matplotlib import pyplot as plt\n",
    "from scipy.io import arff\n",
    "import sklearn.metrics\n",
    "from sklearn.model_selection import train_test_split, PredefinedSplit\n",
    "from autosklearn.pipeline.components.classification import add_classifier\n",
    "from autosklearn.classification import AutoSklearnClassifier\n",
    "from autosklearn.metrics import roc_auc, average_precision"
   ]
  },
  {
   "cell_type": "code",
   "execution_count": 2,
   "id": "78126010-62a5-4c3f-a3d8-013a0ccc8606",
   "metadata": {},
   "outputs": [],
   "source": [
    "def import_dataset(filepath):\n",
    "    \"\"\" Function that reads the KDDCup99 dataset and returns a dataframe.\n",
    "\n",
    "    Args:\n",
    "        filename (str): The name of the file\n",
    "\n",
    "    Returns:\n",
    "        (df): The dataframe with the data contents\n",
    "    \"\"\"\n",
    "\n",
    "    # If file does not exist\n",
    "    if not os.path.exists(filepath):\n",
    "        raise FileNotFoundError(\"filepath %s does not exist\" % filepath)\n",
    "\n",
    "    # Load file to a df\n",
    "    data = arff.loadarff(filepath)\n",
    "    df = pd.DataFrame(data[0])\n",
    "    df.outlier = df.outlier.str.decode(\"utf-8\")\n",
    "    df['outlier'] = df['outlier'].map({'yes':1,'no':0}) \n",
    "    if 'id' in df:\n",
    "        del df['id']\n",
    "\n",
    "    return df"
   ]
  },
  {
   "cell_type": "code",
   "execution_count": 4,
   "id": "863f3d61-0b56-4da1-900e-8e93175d9b6f",
   "metadata": {},
   "outputs": [
    {
     "name": "stdout",
     "output_type": "stream",
     "text": [
      "(1600, 21)\n",
      "(400, 21)\n"
     ]
    }
   ],
   "source": [
    "# Import DataFrame\n",
    "N = 2000\n",
    "df = import_dataset('../data/Annthyroid_withoutdupl_norm_02_v01.arff')\n",
    "if(len(df) > N):\n",
    "    df = df.sample(n=N)\n",
    "# Extract X, y\n",
    "X  = df.iloc[:, :-1]\n",
    "y = df['outlier']\n",
    "X_train, X_test, y_train, y_test = train_test_split(X, y, test_size=0.2, random_state=10)\n",
    "print(X_train.shape)\n",
    "print(X_test.shape)"
   ]
  },
  {
   "cell_type": "code",
   "execution_count": 6,
   "id": "fdb8de9e-6025-430b-afad-6b06564d1bda",
   "metadata": {},
   "outputs": [],
   "source": [
    "# Import Auto-Sklearn implemented PyOD classifiers\n",
    "from pyod_models.abod import ABODClassifier # probabilistic\n",
    "from pyod_models.cblof import CBLOFClassifier # proximity-based\n",
    "from pyod_models.cof import COFClassifier # proximity-based\n",
    "from pyod_models.copod import COPODClassifier # probabilistic\n",
    "from pyod_models.ecod import ECODClassifier # probabilistic\n",
    "from pyod_models.hbos import HBOSClassifier # proximity-based\n",
    "from pyod_models.iforest import IForestClassifier # outlier ensembles\n",
    "from pyod_models.knn import KNNClassifier # proximity-based\n",
    "from pyod_models.lmdd import LMDDClassifier # linear model\n",
    "from pyod_models.loci import LOCIClassifier # proximity-based\n",
    "from pyod_models.lof import LOFClassifier # proximity-based\n",
    "from pyod_models.mad import MADClassifier # probabilistic\n",
    "from pyod_models.mcd import MCDClassifier # linear model\n",
    "from pyod_models.ocsvm import OCSVMClassifier # linear model\n",
    "from pyod_models.pca import PCAClassifier # linear model\n",
    "from pyod_models.rod import RODClassifier # proximity-based\n",
    "from pyod_models.sod import SODClassifier # proximity-based\n",
    "from pyod_models.sos import SOSClassifier # probabilistic\n",
    "# Add algorithms to the pipeline components of Auto-Sklearn\n",
    "add_classifier(ABODClassifier)\n",
    "add_classifier(CBLOFClassifier)\n",
    "add_classifier(COFClassifier)\n",
    "add_classifier(COPODClassifier)\n",
    "add_classifier(ECODClassifier)\n",
    "add_classifier(HBOSClassifier)\n",
    "add_classifier(IForestClassifier)\n",
    "add_classifier(KNNClassifier)\n",
    "add_classifier(LMDDClassifier)\n",
    "add_classifier(LOCIClassifier)\n",
    "add_classifier(LOFClassifier)\n",
    "add_classifier(MADClassifier)\n",
    "add_classifier(MCDClassifier)\n",
    "add_classifier(OCSVMClassifier)\n",
    "add_classifier(PCAClassifier)\n",
    "add_classifier(RODClassifier)\n",
    "add_classifier(SODClassifier)\n",
    "add_classifier(SOSClassifier)"
   ]
  },
  {
   "cell_type": "code",
   "execution_count": 7,
   "id": "3e13211f-1dd2-4835-af9b-2735ea435849",
   "metadata": {},
   "outputs": [
    {
     "name": "stdout",
     "output_type": "stream",
     "text": [
      "Number of outliers: 30\n",
      "Number of sacrificed outliers: 3\n",
      "Number of validation samples: 171\n",
      "Number of training samples: 1429\n"
     ]
    }
   ],
   "source": [
    "# Pre-defined split indices for train and validation\n",
    "selected_indices = []\n",
    "sacrificed_outliers = 0 # count of outliers sampled for the training set\n",
    "for v in y_train:\n",
    "    if v==1: # outlier\n",
    "        if np.random.rand()>0.05:\n",
    "            selected_indices.append(1) # validation\n",
    "        else:\n",
    "            selected_indices.append(0) # training\n",
    "            sacrificed_outliers += 1 # will not be used for evaluation\n",
    "    else:\n",
    "        if np.random.rand()>0.9:\n",
    "            selected_indices.append(1) # validation\n",
    "        else:\n",
    "            selected_indices.append(0) # training\n",
    "# prints\n",
    "print('Number of outliers:', sum(y_train))\n",
    "print('Number of sacrificed outliers:', sacrificed_outliers)\n",
    "print('Number of validation samples:', sum(selected_indices))\n",
    "print('Number of training samples:', len(y_train) - sum(selected_indices))"
   ]
  },
  {
   "cell_type": "code",
   "execution_count": 8,
   "id": "5538bce2-e029-4036-a94a-3ae0eb525c56",
   "metadata": {},
   "outputs": [
    {
     "data": {
      "text/plain": [
       "AutoSklearnClassifier(delete_tmp_folder_after_terminate=False, ensemble_size=1,\n",
       "                      include={'classifier': ['ABODClassifier',\n",
       "                                              'CBLOFClassifier',\n",
       "                                              'COPODClassifier',\n",
       "                                              'ECODClassifier',\n",
       "                                              'HBOSClassifier',\n",
       "                                              'IForestClassifier',\n",
       "                                              'KNNClassifier', 'LMDDClassifier',\n",
       "                                              'LOCIClassifier', 'LOFClassifier',\n",
       "                                              'MCDClassifier',\n",
       "                                              'OCSVMClassifier',\n",
       "                                              'PCAClassifier', 'RODClassifier',\n",
       "                                              'SOSClassifier'],\n",
       "                               'feature_preprocessor': ['no_preprocessing']},\n",
       "                      initial_configurations_via_metalearning=0, metric=roc_auc,\n",
       "                      per_run_time_limit=10,\n",
       "                      resampling_strategy=PredefinedSplit(test_fold=array([0, 1, ..., 0, 0])),\n",
       "                      scoring_functions=[roc_auc, average_precision],\n",
       "                      time_left_for_this_task=60)"
      ]
     },
     "execution_count": 8,
     "metadata": {},
     "output_type": "execute_result"
    }
   ],
   "source": [
    "# Build and fit a classifier\n",
    "resampling_strategy = PredefinedSplit(test_fold=selected_indices)\n",
    "automl = AutoSklearnClassifier(\n",
    "    include = {\n",
    "      'classifier': [\n",
    "          'ABODClassifier',\n",
    "          'CBLOFClassifier',\n",
    "          #'COFClassifier',\n",
    "          'COPODClassifier',\n",
    "          'ECODClassifier',\n",
    "          'HBOSClassifier',\n",
    "          'IForestClassifier',\n",
    "          'KNNClassifier',\n",
    "          'LMDDClassifier',\n",
    "          'LOCIClassifier',\n",
    "          'LOFClassifier',\n",
    "          #'MADClassifier', # only for univariate data\n",
    "          'MCDClassifier',\n",
    "          'OCSVMClassifier',\n",
    "          'PCAClassifier',\n",
    "          'RODClassifier',\n",
    "          #'SODClassifier',\n",
    "          'SOSClassifier'\n",
    "      ],\n",
    "      'feature_preprocessor': [\"no_preprocessing\"],\n",
    "    },\n",
    "    exclude = None,\n",
    "    metric = roc_auc,\n",
    "    scoring_functions = [roc_auc, average_precision],\n",
    "    time_left_for_this_task = 60,\n",
    "    per_run_time_limit = 10,\n",
    "    ensemble_size = 1,\n",
    "    initial_configurations_via_metalearning = 0,\n",
    "    delete_tmp_folder_after_terminate = False,\n",
    "    resampling_strategy = resampling_strategy,\n",
    ")\n",
    "# Fit\n",
    "automl.fit(X_train, y_train, X_test, y_test, dataset_name='Annthyroid')"
   ]
  },
  {
   "cell_type": "code",
   "execution_count": 9,
   "id": "cbe626fe-266b-41f0-980d-5c11136be3b1",
   "metadata": {},
   "outputs": [
    {
     "name": "stdout",
     "output_type": "stream",
     "text": [
      "auto-sklearn results:\n",
      "  Dataset name: Annthyroid\n",
      "  Metric: roc_auc\n",
      "  Best validation score: 0.442887\n",
      "  Number of target algorithm runs: 4\n",
      "  Number of successful target algorithm runs: 2\n",
      "  Number of crashed target algorithm runs: 0\n",
      "  Number of target algorithms that exceeded the time limit: 2\n",
      "  Number of target algorithms that exceeded the memory limit: 0\n",
      "\n",
      "          rank  ensemble_weight               type      cost  duration\n",
      "model_id                                                              \n",
      "5            1              1.0  IForestClassifier  0.557113  9.096379\n",
      "\n",
      "{5: {'model_id': 5, 'rank': 1, 'cost': 0.5571131390090125, 'ensemble_weight': 1.0, 'data_preprocessor': <autosklearn.pipeline.components.data_preprocessing.DataPreprocessorChoice object at 0x7fe33e870ac0>, 'balancing': Balancing(random_state=1, strategy='weighting'), 'feature_preprocessor': <autosklearn.pipeline.components.feature_preprocessing.FeaturePreprocessorChoice object at 0x7fe34e8e7ac0>, 'classifier': <autosklearn.pipeline.components.classification.ClassifierChoice object at 0x7fe34e8e7670>, 'sklearn_classifier': None}}\n"
     ]
    }
   ],
   "source": [
    "# auto-sklearn execution details\n",
    "print(automl.sprint_statistics())\n",
    "# Top ranked model\n",
    "print(automl.leaderboard(top_k=10))\n",
    "# Top ranked model configuration\n",
    "print()\n",
    "print(automl.show_models())"
   ]
  },
  {
   "cell_type": "code",
   "execution_count": 10,
   "id": "d03489be-7c20-4464-8dd7-aa72fc334c12",
   "metadata": {},
   "outputs": [
    {
     "name": "stdout",
     "output_type": "stream",
     "text": [
      "ROC AUC score on test set: 0.7198067632850241\n"
     ]
    }
   ],
   "source": [
    "# Refit due to PredefinedSplit\n",
    "automl.refit(X_train, y_train)\n",
    "# Evaluate on test set\n",
    "y_pred = automl.predict_proba(X_test)\n",
    "# score\n",
    "score = roc_auc(y_test,y_pred[:,1])\n",
    "print(\"ROC AUC score on test set:\", score)"
   ]
  },
  {
   "cell_type": "code",
   "execution_count": 11,
   "id": "c8f316a0-5da4-4c2a-a75f-00c7b0562aa2",
   "metadata": {},
   "outputs": [
    {
     "name": "stdout",
     "output_type": "stream",
     "text": [
      " rank_test_scores  status param_classifier:__choice__  mean_test_score  mean_fit_time  metric_roc_auc  metric_average_precision\n",
      "                1 Success           IForestClassifier         0.442887       9.096379        0.442887                  0.056894\n",
      "                2 Success               LOFClassifier         0.404420       5.775031        0.404420                  0.027668\n",
      "                3 Timeout              ABODClassifier         0.000000      10.044095             NaN                       NaN\n",
      "                3 Timeout              LMDDClassifier         0.000000      10.105057             NaN                       NaN\n"
     ]
    }
   ],
   "source": [
    "# Get metric results function definition\n",
    "def get_metric_result(cv_results):\n",
    "    results = pd.DataFrame.from_dict(cv_results)\n",
    "    cols = ['rank_test_scores', 'status', 'param_classifier:__choice__', 'mean_test_score', 'mean_fit_time']\n",
    "    cols.extend([key for key in cv_results.keys() if key.startswith('metric_')]) # if there are additional metrics\n",
    "    return results[cols].sort_values(['rank_test_scores'])\n",
    "\n",
    "# Call the function\n",
    "print(get_metric_result(automl.cv_results_).to_string(index=False))"
   ]
  },
  {
   "cell_type": "code",
   "execution_count": 12,
   "id": "c778379c-3c2e-4180-82b8-1942dd25743f",
   "metadata": {},
   "outputs": [
    {
     "data": {
      "image/png": "[encoded data removed]",
      "text/plain": [
       "<Figure size 432x288 with 1 Axes>"
      ]
     },
     "metadata": {
      "needs_background": "light"
     },
     "output_type": "display_data"
    }
   ],
   "source": [
    "# Plot training performance over time\n",
    "automl.performance_over_time_.plot(\n",
    "   x='Timestamp',\n",
    "   kind='line',\n",
    "   legend=True,\n",
    "   title='Auto-sklearn: ROC AUC score over time',\n",
    "   grid=True,\n",
    ")\n",
    "plt.show()"
   ]
  },
  {
   "cell_type": "code",
   "execution_count": null,
   "id": "e7fa56ef-12d9-4715-a8d0-2c22f0595827",
   "metadata": {},
   "outputs": [],
   "source": []
  }
 ],
 "metadata": {
  "kernelspec": {
   "display_name": "Python 3 (ipykernel)",
   "language": "python",
   "name": "python3"
  },
  "language_info": {
   "codemirror_mode": {
    "name": "ipython",
    "version": 3
   },
   "file_extension": ".py",
   "mimetype": "text/x-python",
   "name": "python",
   "nbconvert_exporter": "python",
   "pygments_lexer": "ipython3",
   "version": "3.8.12"
  }
 },
 "nbformat": 4,
 "nbformat_minor": 5
}
