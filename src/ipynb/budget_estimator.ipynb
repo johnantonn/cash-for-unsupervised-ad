{
 "cells": [
  {
   "cell_type": "code",
   "execution_count": null,
   "id": "c6ee10de-2194-4cc6-beba-1e82972e3fa2",
   "metadata": {},
   "outputs": [],
   "source": [
    "# Shuttle dataset\n",
    "import os, sys, time\n",
    "from scipy.io import arff\n",
    "import pandas as pd\n",
    "import numpy as np\n",
    "from sklearn.model_selection import train_test_split\n",
    "from pyod.models.abod import ABOD # probabilistic\n",
    "from pyod.models.cblof import CBLOF # proximity-based\n",
    "from pyod.models.copod import COPOD # probabilistic\n",
    "from pyod.models.ecod import ECOD # probabilistic\n",
    "from pyod.models.hbos import HBOS # proximity-based\n",
    "from pyod.models.iforest import IForest # outlier ensembles\n",
    "from pyod.models.knn import KNN # proximity-based\n",
    "from pyod.models.lmdd import LMDD # linear model\n",
    "from pyod.models.lof import LOF # proximity-based\n",
    "from pyod.models.mcd import MCD # linear model\n",
    "from pyod.models.ocsvm import OCSVM # linear model\n",
    "from pyod.models.pca import PCA # linear model\n",
    "from pyod.models.rod import ROD # proximity-based\n",
    "from pyod.models.sos import SOS # probabilistic\n",
    "p = os.path.abspath('..')\n",
    "sys.path.insert(1, p)\n",
    "from utils import import_dataset"
   ]
  },
  {
   "cell_type": "code",
   "execution_count": null,
   "id": "4c198379-d0dd-4d31-8344-2a887c281bb2",
   "metadata": {},
   "outputs": [],
   "source": [
    "# Import dataset\n",
    "df = import_dataset('../../data/Annthyroid_withoutdupl_norm_07.arff')\n",
    "\n",
    "# Maximum number of points\n",
    "N = 5000\n",
    "\n",
    "# Subsample if necessary\n",
    "if(len(df) > N):\n",
    "    df = df.sample(n=N)\n",
    "\n",
    "# Extract X, y\n",
    "X  = df.iloc[:, :-1]\n",
    "y = df['outlier']\n",
    "\n",
    "X_train, X_test, y_train, y_test = train_test_split(X, y, test_size=0.25, stratify=y, random_state=10)\n",
    "\n",
    "print(\"Ratio of outliers in training set:\", len(y_train[y_train==1])/len(y_train))\n",
    "print(\"Ratio of outliers in test set:\", len(y_test[y_test==1])/len(y_test))\n",
    "print(\"Training size:\", len(X_train))\n",
    "print(\"Test size:\", len(X_test))"
   ]
  },
  {
   "cell_type": "code",
   "execution_count": null,
   "id": "37227461-73e4-48bb-a7eb-9466b967ac4d",
   "metadata": {},
   "outputs": [],
   "source": [
    "# PyOD Algorithms\n",
    "alg_list = [\n",
    "    ABOD(), #1\n",
    "    CBLOF(), #2\n",
    "    COPOD(), #3\n",
    "    ECOD(), #4\n",
    "    HBOS(), #5\n",
    "    IForest(),# 6\n",
    "    KNN(), #7\n",
    "    LMDD(), #8\n",
    "    LOF(), #9\n",
    "    MCD(), #10\n",
    "    OCSVM(), #11\n",
    "    PCA(), #12\n",
    "    ROD(), #13\n",
    "    SOS() #14\n",
    "]"
   ]
  },
  {
   "cell_type": "code",
   "execution_count": null,
   "id": "7288bd6b-151b-47b9-9b68-faeda86b875d",
   "metadata": {},
   "outputs": [],
   "source": [
    "# Time\n",
    "times = []\n",
    "# Ideally, one would sample uniformally from the given algorithm's hyperparameter space\n",
    "# For now, just use the default values\n",
    "for alg in alg_list:\n",
    "    start = time.time()\n",
    "    alg.fit(X_train)\n",
    "    end = time.time()\n",
    "    elapsed = end - start\n",
    "    print('Elapsed:', elapsed)\n",
    "    times.append(elapsed)"
   ]
  },
  {
   "cell_type": "code",
   "execution_count": null,
   "id": "32b5c368-a287-4d29-9956-bf457df0e01a",
   "metadata": {},
   "outputs": [],
   "source": [
    "# Print statistics\n",
    "print('Total time:', sum(times))\n",
    "print('Average time:', np.average(times))\n",
    "print('Standard deviation:', np.std(times))\n",
    "print('Estimated budget:', 100 * (np.average(times) + 3 * np.std(times)))"
   ]
  },
  {
   "cell_type": "code",
   "execution_count": null,
   "id": "e42ec991-0c1f-4dfc-8eee-e94bcbd80179",
   "metadata": {},
   "outputs": [],
   "source": [
    "# Cap large execution times\n",
    "lim = 60 # seconds, should be equal to the max allowed threshold for fit()\n",
    "times_cap = []\n",
    "for val in times:\n",
    "    if val > lim:\n",
    "        times_cap.append(lim)\n",
    "    else:\n",
    "        times_cap.append(val)\n",
    "        \n",
    "# Print statistics\n",
    "print('Total time:', sum(times_cap))\n",
    "print('Average time:', np.average(times_cap))\n",
    "print('Standard deviation:', np.std(times_cap))\n",
    "print('Estimated budget:', 100 * (np.average(times_cap) + 2 * np.std(times_cap)))"
   ]
  },
  {
   "cell_type": "code",
   "execution_count": null,
   "id": "e23634f5-e408-43d7-a7d9-0c902a91bae7",
   "metadata": {},
   "outputs": [],
   "source": []
  }
 ],
 "metadata": {
  "kernelspec": {
   "display_name": "Python 3 (ipykernel)",
   "language": "python",
   "name": "python3"
  },
  "language_info": {
   "codemirror_mode": {
    "name": "ipython",
    "version": 3
   },
   "file_extension": ".py",
   "mimetype": "text/x-python",
   "name": "python",
   "nbconvert_exporter": "python",
   "pygments_lexer": "ipython3",
   "version": "3.8.12"
  }
 },
 "nbformat": 4,
 "nbformat_minor": 5
}
