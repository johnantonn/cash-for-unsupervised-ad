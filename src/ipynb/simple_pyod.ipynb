{
 "cells": [
  {
   "cell_type": "markdown",
   "metadata": {},
   "source": [
    "### Simple PyOD code example\n",
    "This notebook illustrates a simple example of applying PyOD models to real-world anomaly detection dataset"
   ]
  },
  {
   "cell_type": "code",
   "execution_count": 3,
   "metadata": {},
   "outputs": [],
   "source": [
    "# Shuttle dataset\n",
    "import os\n",
    "from scipy.io import arff\n",
    "import pandas as pd\n",
    "import numpy as np\n",
    "from sklearn.model_selection import train_test_split\n",
    "from pyod.models.lof import LOF"
   ]
  },
  {
   "cell_type": "code",
   "execution_count": 4,
   "metadata": {},
   "outputs": [
    {
     "ename": "NameError",
     "evalue": "name 'N' is not defined",
     "output_type": "error",
     "traceback": [
      "\u001b[0;31m---------------------------------------------------------------------------\u001b[0m",
      "\u001b[0;31mNameError\u001b[0m                                 Traceback (most recent call last)",
      "Input \u001b[0;32mIn [4]\u001b[0m, in \u001b[0;36m<module>\u001b[0;34m\u001b[0m\n\u001b[1;32m     28\u001b[0m \u001b[38;5;66;03m# Subsample\u001b[39;00m\n\u001b[1;32m     29\u001b[0m Ν \u001b[38;5;241m=\u001b[39m \u001b[38;5;241m10000\u001b[39m\n\u001b[0;32m---> 30\u001b[0m \u001b[38;5;28;01mif\u001b[39;00m(\u001b[38;5;28mlen\u001b[39m(df) \u001b[38;5;241m>\u001b[39m \u001b[43mN\u001b[49m):\n\u001b[1;32m     31\u001b[0m     df \u001b[38;5;241m=\u001b[39m df\u001b[38;5;241m.\u001b[39msample(n\u001b[38;5;241m=\u001b[39mN)\n\u001b[1;32m     33\u001b[0m \u001b[38;5;66;03m# Extract X, y\u001b[39;00m\n",
      "\u001b[0;31mNameError\u001b[0m: name 'N' is not defined"
     ]
    }
   ],
   "source": [
    "def import_dataset(filepath):\n",
    "    \"\"\" Function that reads the KDDCup99 dataset and returns a dataframe.\n",
    "\n",
    "    Args:\n",
    "        filename (str): The name of the file\n",
    "\n",
    "    Returns:\n",
    "        (df): The dataframe with the data contents\n",
    "    \"\"\"\n",
    "\n",
    "    # If file does not exist\n",
    "    if not os.path.exists(filepath):\n",
    "        raise FileNotFoundError(\"filepath %s does not exist\" % filepath)\n",
    "\n",
    "    # Load file to a df\n",
    "    data = arff.loadarff(filepath)\n",
    "    df = pd.DataFrame(data[0])\n",
    "    df.outlier = df.outlier.str.decode(\"utf-8\")\n",
    "    df['outlier'] = df['outlier'].map({'yes':1,'no':0}) \n",
    "    if 'id' in df:\n",
    "        del df['id']\n",
    "\n",
    "    return df\n",
    "\n",
    "# Import dataset\n",
    "df = import_dataset('../../data/Annthyroid_withoutdupl_norm_07.arff')\n",
    "\n",
    "# Subsample\n",
    "Ν = 10000\n",
    "if(len(df) > N):\n",
    "    df = df.sample(n=N)\n",
    "\n",
    "# Extract X, y\n",
    "X  = df.iloc[:, :-1]\n",
    "y = df['outlier']\n",
    "\n",
    "X_train, X_test, y_train, y_test = train_test_split(X, y, test_size=0.25, stratify=y, random_state=10)\n",
    "\n",
    "print(\"Ratio of outliers in training set:\", len(y_train[y_train==1])/len(y_train))\n",
    "print(\"Ratio of outliers in test set:\", len(y_test[y_test==1])/len(y_test))\n",
    "print(\"Training size:\", len(X_train))\n",
    "print(\"Test size:\", len(X_test))"
   ]
  },
  {
   "cell_type": "code",
   "execution_count": 10,
   "metadata": {},
   "outputs": [
    {
     "name": "stdout",
     "output_type": "stream",
     "text": [
      "Model instance:\n",
      "Parameters: {'algorithm': 'auto', 'contamination': 0.1, 'leaf_size': 30, 'metric': 'minkowski', 'metric_params': None, 'n_jobs': 1, 'n_neighbors': 20, 'novelty': True, 'p': 2}\n",
      "\n",
      "Training set:\n",
      "Threshold: 2.1306418198975448\n",
      "Labels: [1 0 0 0 0]\n",
      "Scores: [9.18603848 1.05351953 1.00606752 0.97321997 0.99649222]\n",
      "Probabilities:\n",
      " [[0.49932156 0.50067844]\n",
      " [0.99307789 0.00692211]\n",
      " [0.99536482 0.00463518]\n",
      " [0.99754275 0.00245725]\n",
      " [0.9965391  0.0034609 ]]\n",
      "\n",
      "Test set\n",
      "Labels: [0 0 0 0 0 0 0 0 1 0]\n",
      "Scores: [0.98757305 1.24186462 1.06956712 1.41208462 1.32574674 1.02622924\n",
      " 1.00859827 1.13174932 3.17915913 1.03356339]\n",
      "Probabilities:\n",
      " [[0.99669246 0.00330754]\n",
      " [0.97976652 0.02023348]\n",
      " [0.99123484 0.00876516]\n",
      " [0.96843647 0.03156353]\n",
      " [0.97418322 0.02581678]\n",
      " [0.99411946 0.00588054]\n",
      " [0.995293   0.004707  ]\n",
      " [0.98709592 0.01290408]\n",
      " [0.85081789 0.14918211]\n",
      " [0.99363129 0.00636871]]\n"
     ]
    }
   ],
   "source": [
    "# train COF detector\n",
    "clf_name = 'LOF'\n",
    "clf = LOF()\n",
    "clf.fit(X_train)\n",
    "\n",
    "# get the prediction label and outlier scores of the training data\n",
    "y_train_pred = clf.labels_  # binary labels (0: inliers, 1: outliers)\n",
    "y_train_scores = clf.decision_scores_  # raw outlier scores\n",
    "y_train_proba = clf.predict_proba(X_train) # probability of outliers\n",
    "\n",
    "# get the prediction on the test data\n",
    "y_test_pred = clf.predict(X_test)  # outlier labels (0 or 1)\n",
    "y_test_scores = clf.decision_function(X_test)  # outlier scores\n",
    "y_test_proba = clf.predict_proba(X_test)  # probabilities in the range of [0,1]\n",
    "\n",
    "# Model instance\n",
    "print('Model instance:')\n",
    "print('Parameters:',clf.get_params())\n",
    "# Training set\n",
    "print(\"\\nTraining set:\")\n",
    "print('Threshold:',clf.threshold_)\n",
    "print('Labels:',clf.labels_[:5])\n",
    "print('Scores:',clf.decision_scores_[:5]) # y_train_scores[:5]\n",
    "print('Probabilities:\\n', y_train_proba[:5])\n",
    "# Test set\n",
    "print(\"\\nTest set\")\n",
    "print('Labels:',y_test_pred[15:25])\n",
    "print('Scores:',y_test_scores[15:25])\n",
    "print('Probabilities:\\n',y_test_proba[15:25])"
   ]
  },
  {
   "cell_type": "code",
   "execution_count": 11,
   "metadata": {},
   "outputs": [
    {
     "name": "stdout",
     "output_type": "stream",
     "text": [
      "\n",
      "On Training Data:\n",
      "LOF ROC:0.615, precision @ rank n:0.0562\n",
      "\n",
      "On Test Data:\n",
      "LOF ROC:0.6486, precision @ rank n:0.1316\n"
     ]
    }
   ],
   "source": [
    "from pyod.utils.data import evaluate_print\n",
    "\n",
    "# evaluate and print the results\n",
    "print(\"\\nOn Training Data:\")\n",
    "evaluate_print(clf_name, y_train, y_train_scores)\n",
    "print(\"\\nOn Test Data:\")\n",
    "evaluate_print(clf_name, y_test, y_test_scores)"
   ]
  },
  {
   "cell_type": "code",
   "execution_count": null,
   "metadata": {},
   "outputs": [],
   "source": []
  }
 ],
 "metadata": {
  "kernelspec": {
   "display_name": "Python 3 (ipykernel)",
   "language": "python",
   "name": "python3"
  },
  "language_info": {
   "codemirror_mode": {
    "name": "ipython",
    "version": 3
   },
   "file_extension": ".py",
   "mimetype": "text/x-python",
   "name": "python",
   "nbconvert_exporter": "python",
   "pygments_lexer": "ipython3",
   "version": "3.8.12"
  }
 },
 "nbformat": 4,
 "nbformat_minor": 4
}
