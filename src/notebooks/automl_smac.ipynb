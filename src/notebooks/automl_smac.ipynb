{
 "cells": [
  {
   "cell_type": "markdown",
   "id": "b024889c-4c4b-4d9b-a780-0c03c4afbb0b",
   "metadata": {},
   "source": [
    "### Automated anomaly detection using PyOD and Auto-Sklearn\n",
    "This notebook incorporates anomaly detection algorithms from PyOD into Auto-Sklearn. The following steps are followed:\n",
    "- Auto-Sklearn is extended to incorporate PyOD algorithms\n",
    "- Anomaly detection dataset(s) are imported and pre-processed\n",
    "- Dataset is passed to Auto-Sklearn automl object for automated modeling and prediction\n",
    "- Results and stats are obtained and analyzed"
   ]
  },
  {
   "cell_type": "code",
   "execution_count": 1,
   "id": "3b9869dd-9366-43d1-989e-573b7dd7e052",
   "metadata": {},
   "outputs": [],
   "source": [
    "# Imports\n",
    "import os, sys\n",
    "import pandas as pd\n",
    "from matplotlib import pyplot as plt\n",
    "from datetime import timedelta as td\n",
    "from sklearn.model_selection import train_test_split, PredefinedSplit\n",
    "from autosklearn.classification import AutoSklearnClassifier\n",
    "from autosklearn.metrics import roc_auc, average_precision\n",
    "p = os.path.abspath('..')\n",
    "sys.path.insert(1, p)\n",
    "from utils import add_pyod_models_to_pipeline, train_valid_split, get_metric_result\n",
    "# Add models to Auto-Sklearn\n",
    "add_pyod_models_to_pipeline()"
   ]
  },
  {
   "cell_type": "code",
   "execution_count": 2,
   "id": "0cbed104-f831-4b85-9914-c483fd1042f3",
   "metadata": {},
   "outputs": [],
   "source": [
    "import autosklearn.pipeline.components.data_preprocessing\n",
    "from autosklearn.pipeline.components.base import AutoSklearnPreprocessingAlgorithm\n",
    "from autosklearn.pipeline.constants import SPARSE, DENSE, UNSIGNED_DATA, INPUT\n",
    "from ConfigSpace.configuration_space import ConfigurationSpace\n",
    "\n",
    "class NoPreprocessing(AutoSklearnPreprocessingAlgorithm):\n",
    "\n",
    "    def __init__(self, **kwargs):\n",
    "        \"\"\" This preprocessors does not change the data \"\"\"\n",
    "        # Some internal checks makes sure parameters are set\n",
    "        for key, val in kwargs.items():\n",
    "            setattr(self, key, val)\n",
    "\n",
    "    def fit(self, X, Y=None):\n",
    "        return self\n",
    "\n",
    "    def transform(self, X):\n",
    "        return X\n",
    "\n",
    "    @staticmethod\n",
    "    def get_properties(dataset_properties=None):\n",
    "        return {\n",
    "            'shortname': 'NoPreprocessing',\n",
    "            'name': 'NoPreprocessing',\n",
    "            'handles_regression': True,\n",
    "            'handles_classification': True,\n",
    "            'handles_multiclass': True,\n",
    "            'handles_multilabel': True,\n",
    "            'handles_multioutput': True,\n",
    "            'is_deterministic': True,\n",
    "            'input': (SPARSE, DENSE, UNSIGNED_DATA),\n",
    "            'output': (INPUT,)\n",
    "        }\n",
    "\n",
    "    @staticmethod\n",
    "    def get_hyperparameter_search_space(dataset_properties=None):\n",
    "        return ConfigurationSpace()  # Return an empty configuration as there is None\n",
    "\n",
    "# Add NoPreprocessing component to auto-sklearn.\n",
    "autosklearn.pipeline.components.data_preprocessing.add_preprocessor(NoPreprocessing)"
   ]
  },
  {
   "cell_type": "code",
   "execution_count": 3,
   "id": "fc9dffe0-55f9-44d2-bb11-c725f4c711e1",
   "metadata": {},
   "outputs": [],
   "source": [
    "# Classifiers to be included\n",
    "classifiers = [\n",
    "    'CBLOFClassifier',\n",
    "    'COPODClassifier',\n",
    "    'IForestClassifier',\n",
    "    'KNNClassifier',\n",
    "    'LOFClassifier',\n",
    "]"
   ]
  },
  {
   "cell_type": "code",
   "execution_count": 4,
   "id": "63388c8e-e09b-4318-b3e0-3f6580ea5d47",
   "metadata": {},
   "outputs": [],
   "source": [
    "# Datasets to be included\n",
    "datasets = [\n",
    "    'Cardiotocography',\n",
    "]"
   ]
  },
  {
   "cell_type": "code",
   "execution_count": 7,
   "id": "863f3d61-0b56-4da1-900e-8e93175d9b6f",
   "metadata": {},
   "outputs": [
    {
     "name": "stdout",
     "output_type": "stream",
     "text": [
      "Outlier percentage: 0.5\n",
      "Size of the validation set: 507\n",
      "Number of outliers: 254\n",
      "Number of normal points: 253\n",
      "Fitting..\n",
      "[WARNING] [2022-03-28 22:21:13,455:Client-autosklearn.automl_common.common.utils.backend] Directory /tmp/auto-sklearn_tmp_fa46a2e2-aecb-11ec-b6d5-6120e6e80f6c/.auto-sklearn/ensembles does not exist\n",
      "auto-sklearn results:\n",
      "  Dataset name: Cardiotography\n",
      "  Metric: roc_auc\n",
      "  Best validation score: 0.806254\n",
      "  Number of target algorithm runs: 56\n",
      "  Number of successful target algorithm runs: 55\n",
      "  Number of crashed target algorithm runs: 1\n",
      "  Number of target algorithms that exceeded the time limit: 0\n",
      "  Number of target algorithms that exceeded the memory limit: 0\n",
      "\n"
     ]
    }
   ],
   "source": [
    "# Budget\n",
    "total_budget = 120 # in seconds\n",
    "per_run_budget = 30 # in seconds\n",
    "\n",
    "# Performance dicts\n",
    "valid_performance = {}\n",
    "test_performance = {}\n",
    "\n",
    "# Loop over datasets\n",
    "for dataset in datasets:\n",
    "\n",
    "    # Import X_train, y_train, X_test, y_test\n",
    "    dataset_dir = '../data/processed/'+dataset+'/iter1/'\n",
    "    X_train = pd.read_csv(dataset_dir + 'X_train.csv')\n",
    "    y_train = pd.read_csv(dataset_dir + 'y_train.csv')\n",
    "    X_test = pd.read_csv(dataset_dir + 'X_test.csv')\n",
    "    y_test = pd.read_csv(dataset_dir + 'y_test.csv')\n",
    "\n",
    "    # Train/validation split\n",
    "    valid_method = 'balanced' # balanced vs stratified\n",
    "    vsize = int(0.3 * len(y_train))\n",
    "    train_valid_indices = train_valid_split(y_train, valid_method, vsize)\n",
    "    resampling_strategy = PredefinedSplit(test_fold=train_valid_indices)\n",
    "\n",
    "    # Build AutoSklearnClassifier\n",
    "    automl = AutoSklearnClassifier(\n",
    "        include = {\n",
    "            'classifier': classifiers,\n",
    "            'feature_preprocessor': ['no_preprocessing'],\n",
    "            'data_preprocessor': ['NoPreprocessing']\n",
    "        },\n",
    "        exclude = None,\n",
    "        metric = roc_auc,\n",
    "        scoring_functions = [roc_auc, average_precision],\n",
    "        time_left_for_this_task = total_budget,\n",
    "        per_run_time_limit = per_run_budget,\n",
    "        ensemble_size = 0,\n",
    "        initial_configurations_via_metalearning = 0,\n",
    "        resampling_strategy = resampling_strategy,\n",
    "        delete_tmp_folder_after_terminate= False,\n",
    "        get_smac_object_callback = None\n",
    "    )\n",
    "\n",
    "    # Fit\n",
    "    print('Fitting..')\n",
    "    automl.fit(X_train, y_train, X_test, y_test, dataset_name='Cardiotography')\n",
    "\n",
    "    # Store performance metrics\n",
    "    valid_performance[dataset] = automl.performance_over_time_[\n",
    "        ['Timestamp', 'single_best_optimization_score']\n",
    "    ]\n",
    "    test_performance[dataset] = automl.performance_over_time_[\n",
    "        ['Timestamp', 'single_best_test_score']\n",
    "    ]\n",
    "\n",
    "    # Print stats\n",
    "    print(automl.sprint_statistics())"
   ]
  },
  {
   "cell_type": "code",
   "execution_count": 6,
   "id": "30066728-78a0-4534-bdc0-7dc28eca7d02",
   "metadata": {},
   "outputs": [
    {
     "data": {
      "image/png": "[encoded data removed]",
      "text/plain": [
       "<Figure size 864x360 with 2 Axes>"
      ]
     },
     "metadata": {
      "needs_background": "light"
     },
     "output_type": "display_data"
    }
   ],
   "source": [
    "# Figure\n",
    "fig, (ax1, ax2) = plt.subplots(1, 2, figsize=(12,5))\n",
    "#\n",
    "# Plot validation performance\n",
    "for d, results in valid_performance.items():\n",
    "    # exctract series\n",
    "    x1 = (results.Timestamp-results.Timestamp[0]).apply(td.total_seconds)\n",
    "    y1 = results.single_best_optimization_score\n",
    "    # modify for plotting\n",
    "    x1.at[x1.shape[0]] = total_budget\n",
    "    y1.at[y1.shape[0]] = y1.at[y1.shape[0]-1]\n",
    "    ax1.plot(x1, y1)\n",
    "ax1.legend(list(datasets), loc='lower right')\n",
    "ax1.set_ylim([0.5, 1.])\n",
    "ax1.set_xlabel('seconds')\n",
    "ax1.set_ylabel('score')\n",
    "ax1.set_title('Performance on validation set ({})'.format(valid_method))\n",
    "ax1.grid()\n",
    "#\n",
    "# Plot test set performance\n",
    "for d, results in test_performance.items():\n",
    "    # exctract series\n",
    "    x2 = (results.Timestamp-results.Timestamp[0]).apply(td.total_seconds)\n",
    "    y2 = results.single_best_test_score\n",
    "    # modify plotting\n",
    "    x2.at[x2.shape[0]] = total_budget\n",
    "    y2.at[y2.shape[0]] = y2.at[y2.shape[0]-1]\n",
    "    ax2.plot(x2, y2)\n",
    "ax2.legend(list(datasets), loc='lower right')\n",
    "ax2.set_ylim([0.5, 1.])\n",
    "ax2.set_xlabel('seconds')\n",
    "#ax2.set_ylabel('score')\n",
    "ax2.set_title('Performance on test set')\n",
    "ax2.grid()"
   ]
  }
 ],
 "metadata": {
  "kernelspec": {
   "display_name": "Python 3",
   "language": "python",
   "name": "python3"
  },
  "language_info": {
   "codemirror_mode": {
    "name": "ipython",
    "version": 3
   },
   "file_extension": ".py",
   "mimetype": "text/x-python",
   "name": "python",
   "nbconvert_exporter": "python",
   "pygments_lexer": "ipython3",
   "version": "3.8.12"
  }
 },
 "nbformat": 4,
 "nbformat_minor": 5
}
