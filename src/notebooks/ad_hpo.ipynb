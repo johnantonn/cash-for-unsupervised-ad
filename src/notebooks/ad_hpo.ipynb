{
 "cells": [
  {
   "cell_type": "code",
   "execution_count": 8,
   "id": "c45c8b91-a242-4f8f-86c8-e4685f049ba5",
   "metadata": {},
   "outputs": [],
   "source": [
    "import os\n",
    "import pandas as pd\n",
    "import seaborn as sns\n",
    "from sklearn.metrics import roc_auc_score, f1_score, average_precision_score\n",
    "from matplotlib import pyplot as plt"
   ]
  },
  {
   "cell_type": "code",
   "execution_count": 23,
   "id": "8bd9cb26-ec17-4203-a326-f6dafa71f33e",
   "metadata": {},
   "outputs": [],
   "source": [
    "# Import train/test data\n",
    "data_dir = '../data/processed/Annthyroid/iter1'\n",
    "X_train = pd.read_csv(os.path.join(data_dir, 'X_train.csv'))\n",
    "y_train = pd.read_csv(os.path.join(data_dir, 'y_train.csv'))\n",
    "X_test = pd.read_csv(os.path.join(data_dir, 'X_test.csv'))\n",
    "y_test = pd.read_csv(os.path.join(data_dir, 'y_test.csv'))"
   ]
  },
  {
   "cell_type": "code",
   "execution_count": 24,
   "id": "097e3305-2c62-4975-acb7-d4993ea31ede",
   "metadata": {},
   "outputs": [
    {
     "data": {
      "image/png": "[encoded data removed]",
      "text/plain": [
       "<Figure size 432x288 with 1 Axes>"
      ]
     },
     "metadata": {
      "needs_background": "light"
     },
     "output_type": "display_data"
    }
   ],
   "source": [
    "# Example 1\n",
    "from pyod.models.lof import LOF\n",
    "#\n",
    "# Hyperpameters\n",
    "n_neighbors = list(range(10,201,10))\n",
    "auc_scores_1 = []\n",
    "# loop\n",
    "for n in n_neighbors:\n",
    "    # Model\n",
    "    clf1 = LOF(n_neighbors=n)\n",
    "    # Training\n",
    "    clf1.fit(X_train)\n",
    "    # get the anomaly scores on the test data\n",
    "    y_test_scores = clf1.decision_function(X_test)  # outlier scores\n",
    "    auc_scores_1.append(roc_auc_score(y_test, y_test_scores))\n",
    "plt.plot(n_neighbors, auc_scores_1)\n",
    "plt.xlabel('n_neighbors')\n",
    "plt.ylabel('AUC score')\n",
    "plt.show()"
   ]
  },
  {
   "cell_type": "code",
   "execution_count": 26,
   "id": "c8d225b5-4f63-4dee-89ea-7b33f171bfb3",
   "metadata": {},
   "outputs": [
    {
     "ename": "ValueError",
     "evalue": "Shape of passed values is (40, 19), indices imply (20, 19)",
     "output_type": "error",
     "traceback": [
      "\u001b[0;31m---------------------------------------------------------------------------\u001b[0m",
      "\u001b[0;31mValueError\u001b[0m                                Traceback (most recent call last)",
      "File \u001b[0;32m~/anaconda3/envs/kul_thesis/lib/python3.8/site-packages/pandas/core/internals/managers.py:1702\u001b[0m, in \u001b[0;36mcreate_block_manager_from_arrays\u001b[0;34m(arrays, names, axes)\u001b[0m\n\u001b[1;32m   1701\u001b[0m blocks \u001b[38;5;241m=\u001b[39m _form_blocks(arrays, names, axes)\n\u001b[0;32m-> 1702\u001b[0m mgr \u001b[38;5;241m=\u001b[39m \u001b[43mBlockManager\u001b[49m\u001b[43m(\u001b[49m\u001b[43mblocks\u001b[49m\u001b[43m,\u001b[49m\u001b[43m \u001b[49m\u001b[43maxes\u001b[49m\u001b[43m)\u001b[49m\n\u001b[1;32m   1703\u001b[0m mgr\u001b[38;5;241m.\u001b[39m_consolidate_inplace()\n",
      "File \u001b[0;32m~/anaconda3/envs/kul_thesis/lib/python3.8/site-packages/pandas/core/internals/managers.py:143\u001b[0m, in \u001b[0;36mBlockManager.__init__\u001b[0;34m(self, blocks, axes, do_integrity_check)\u001b[0m\n\u001b[1;32m    142\u001b[0m \u001b[38;5;28;01mif\u001b[39;00m do_integrity_check:\n\u001b[0;32m--> 143\u001b[0m     \u001b[38;5;28;43mself\u001b[39;49m\u001b[38;5;241;43m.\u001b[39;49m\u001b[43m_verify_integrity\u001b[49m\u001b[43m(\u001b[49m\u001b[43m)\u001b[49m\n\u001b[1;32m    145\u001b[0m \u001b[38;5;66;03m# Populate known_consolidate, blknos, and blklocs lazily\u001b[39;00m\n",
      "File \u001b[0;32m~/anaconda3/envs/kul_thesis/lib/python3.8/site-packages/pandas/core/internals/managers.py:323\u001b[0m, in \u001b[0;36mBlockManager._verify_integrity\u001b[0;34m(self)\u001b[0m\n\u001b[1;32m    322\u001b[0m     \u001b[38;5;28;01mif\u001b[39;00m block\u001b[38;5;241m.\u001b[39mshape[\u001b[38;5;241m1\u001b[39m:] \u001b[38;5;241m!=\u001b[39m mgr_shape[\u001b[38;5;241m1\u001b[39m:]:\n\u001b[0;32m--> 323\u001b[0m         \u001b[38;5;28;01mraise\u001b[39;00m construction_error(tot_items, block\u001b[38;5;241m.\u001b[39mshape[\u001b[38;5;241m1\u001b[39m:], \u001b[38;5;28mself\u001b[39m\u001b[38;5;241m.\u001b[39maxes)\n\u001b[1;32m    324\u001b[0m \u001b[38;5;28;01mif\u001b[39;00m \u001b[38;5;28mlen\u001b[39m(\u001b[38;5;28mself\u001b[39m\u001b[38;5;241m.\u001b[39mitems) \u001b[38;5;241m!=\u001b[39m tot_items:\n",
      "\u001b[0;31mValueError\u001b[0m: Shape of passed values is (40, 19), indices imply (20, 19)",
      "\nDuring handling of the above exception, another exception occurred:\n",
      "\u001b[0;31mValueError\u001b[0m                                Traceback (most recent call last)",
      "Input \u001b[0;32mIn [26]\u001b[0m, in \u001b[0;36m<module>\u001b[0;34m\u001b[0m\n\u001b[1;32m     20\u001b[0m     f1_scores_2\u001b[38;5;241m.\u001b[39mappend(temp_scores)\n\u001b[1;32m     21\u001b[0m \u001b[38;5;66;03m# Plot heatmap\u001b[39;00m\n\u001b[0;32m---> 22\u001b[0m f1_scores_2_df \u001b[38;5;241m=\u001b[39m \u001b[43mpd\u001b[49m\u001b[38;5;241;43m.\u001b[39;49m\u001b[43mDataFrame\u001b[49m\u001b[43m(\u001b[49m\u001b[43mf1_scores_2\u001b[49m\u001b[43m,\u001b[49m\u001b[43m \u001b[49m\u001b[43mindex\u001b[49m\u001b[38;5;241;43m=\u001b[39;49m\u001b[43mn_neighbors\u001b[49m\u001b[43m,\u001b[49m\u001b[43m \u001b[49m\u001b[43mcolumns\u001b[49m\u001b[38;5;241;43m=\u001b[39;49m\u001b[43mcontamination\u001b[49m\u001b[43m)\u001b[49m\n\u001b[1;32m     23\u001b[0m ax \u001b[38;5;241m=\u001b[39m sns\u001b[38;5;241m.\u001b[39mheatmap(f1_scores_2_df, cmap\u001b[38;5;241m=\u001b[39m\u001b[38;5;124m\"\u001b[39m\u001b[38;5;124mYlGnBu\u001b[39m\u001b[38;5;124m\"\u001b[39m)\n\u001b[1;32m     24\u001b[0m ax\u001b[38;5;241m.\u001b[39mset_xlabel(\u001b[38;5;124m'\u001b[39m\u001b[38;5;124mcontamination\u001b[39m\u001b[38;5;124m'\u001b[39m)\n",
      "File \u001b[0;32m~/anaconda3/envs/kul_thesis/lib/python3.8/site-packages/pandas/core/frame.py:582\u001b[0m, in \u001b[0;36mDataFrame.__init__\u001b[0;34m(self, data, index, columns, dtype, copy)\u001b[0m\n\u001b[1;32m    579\u001b[0m         \u001b[38;5;28;01melse\u001b[39;00m:\n\u001b[1;32m    580\u001b[0m             index \u001b[38;5;241m=\u001b[39m ibase\u001b[38;5;241m.\u001b[39mdefault_index(\u001b[38;5;28mlen\u001b[39m(data))\n\u001b[0;32m--> 582\u001b[0m     mgr \u001b[38;5;241m=\u001b[39m \u001b[43marrays_to_mgr\u001b[49m\u001b[43m(\u001b[49m\u001b[43marrays\u001b[49m\u001b[43m,\u001b[49m\u001b[43m \u001b[49m\u001b[43mcolumns\u001b[49m\u001b[43m,\u001b[49m\u001b[43m \u001b[49m\u001b[43mindex\u001b[49m\u001b[43m,\u001b[49m\u001b[43m \u001b[49m\u001b[43mcolumns\u001b[49m\u001b[43m,\u001b[49m\u001b[43m \u001b[49m\u001b[43mdtype\u001b[49m\u001b[38;5;241;43m=\u001b[39;49m\u001b[43mdtype\u001b[49m\u001b[43m)\u001b[49m\n\u001b[1;32m    583\u001b[0m \u001b[38;5;28;01melse\u001b[39;00m:\n\u001b[1;32m    584\u001b[0m     mgr \u001b[38;5;241m=\u001b[39m init_ndarray(data, index, columns, dtype\u001b[38;5;241m=\u001b[39mdtype, copy\u001b[38;5;241m=\u001b[39mcopy)\n",
      "File \u001b[0;32m~/anaconda3/envs/kul_thesis/lib/python3.8/site-packages/pandas/core/internals/construction.py:95\u001b[0m, in \u001b[0;36marrays_to_mgr\u001b[0;34m(arrays, arr_names, index, columns, dtype, verify_integrity)\u001b[0m\n\u001b[1;32m     92\u001b[0m \u001b[38;5;66;03m# from BlockManager perspective\u001b[39;00m\n\u001b[1;32m     93\u001b[0m axes \u001b[38;5;241m=\u001b[39m [columns, index]\n\u001b[0;32m---> 95\u001b[0m \u001b[38;5;28;01mreturn\u001b[39;00m \u001b[43mcreate_block_manager_from_arrays\u001b[49m\u001b[43m(\u001b[49m\u001b[43marrays\u001b[49m\u001b[43m,\u001b[49m\u001b[43m \u001b[49m\u001b[43marr_names\u001b[49m\u001b[43m,\u001b[49m\u001b[43m \u001b[49m\u001b[43maxes\u001b[49m\u001b[43m)\u001b[49m\n",
      "File \u001b[0;32m~/anaconda3/envs/kul_thesis/lib/python3.8/site-packages/pandas/core/internals/managers.py:1706\u001b[0m, in \u001b[0;36mcreate_block_manager_from_arrays\u001b[0;34m(arrays, names, axes)\u001b[0m\n\u001b[1;32m   1704\u001b[0m     \u001b[38;5;28;01mreturn\u001b[39;00m mgr\n\u001b[1;32m   1705\u001b[0m \u001b[38;5;28;01mexcept\u001b[39;00m \u001b[38;5;167;01mValueError\u001b[39;00m \u001b[38;5;28;01mas\u001b[39;00m e:\n\u001b[0;32m-> 1706\u001b[0m     \u001b[38;5;28;01mraise\u001b[39;00m construction_error(\u001b[38;5;28mlen\u001b[39m(arrays), arrays[\u001b[38;5;241m0\u001b[39m]\u001b[38;5;241m.\u001b[39mshape, axes, e)\n",
      "\u001b[0;31mValueError\u001b[0m: Shape of passed values is (40, 19), indices imply (20, 19)"
     ]
    }
   ],
   "source": [
    "# Example 2\n",
    "#\n",
    "n_estimators= list(range(5,201,5))\n",
    "contamination = [0.05, 0.07, 0.1, 0.12, 0.15, 0.17, 0.2, 0.23, 0.25, 0.27, 0.3, 0.32, 0.35, 0.38, 0.4, 0.42, 0.45, 0.47, 0.5]\n",
    "f1_scores_2 = [] # scores list\n",
    "# loop\n",
    "for n in n_estimators:\n",
    "    # Temp scores\n",
    "    temp_scores = []\n",
    "    for c in contamination:\n",
    "        # Model\n",
    "        clf2 = LOF(n_neighbors=n, contamination=c)\n",
    "        # Training\n",
    "        clf2.fit(X_train)\n",
    "        # get the anomaly scores on the test data\n",
    "        # \n",
    "        y_pred = clf2.predict(X_test) # predictions\n",
    "        temp_scores.append(f1_score(y_test, y_pred))\n",
    "        #\n",
    "    f1_scores_2.append(temp_scores)\n",
    "# Plot heatmap\n",
    "f1_scores_2_df = pd.DataFrame(f1_scores_2, index=n_neighbors, columns=contamination)\n",
    "ax = sns.heatmap(f1_scores_2_df, cmap=\"YlGnBu\")\n",
    "ax.set_xlabel('contamination')\n",
    "ax.set_ylabel('n_neighbors')"
   ]
  },
  {
   "cell_type": "code",
   "execution_count": null,
   "id": "a72da786-8e28-49fa-ae11-157ac20f2506",
   "metadata": {},
   "outputs": [],
   "source": [
    "# Example 3\n",
    "from pyod.models.iforest import IForest\n",
    "#\n",
    "n_estimators= list(range(20,401,20))\n",
    "max_features = [0.1, 0.2, 0.3, 0.4, 0.5, 0.6, 0.7, 0.8, 0.9, 1.0]\n",
    "auc_scores_3 = [] # scores list\n",
    "# loop\n",
    "for n in n_estimators:\n",
    "    # Temp scores\n",
    "    temp_scores = []\n",
    "    for m in max_features:\n",
    "        # Model\n",
    "        clf3 = IForest(n_estimators=n, max_features=m)\n",
    "        # Training\n",
    "        clf3.fit(X_train)\n",
    "        # get the anomaly scores on the test data\n",
    "        y_test_scores = clf3.decision_function(X_test)  # outlier scores\n",
    "        temp_scores.append(roc_auc_score(y_test, y_test_scores))\n",
    "    auc_scores_3.append(temp_scores)\n",
    "# Plot heatmap\n",
    "auc_scores_3_df = pd.DataFrame(auc_scores_3, index=n_estimators, columns=max_features)\n",
    "ax = sns.heatmap(auc_scores_3_df, cmap=\"YlGnBu\")\n",
    "ax.set_xlabel('max_feautres')\n",
    "ax.set_ylabel('n_estimators')"
   ]
  }
 ],
 "metadata": {
  "kernelspec": {
   "display_name": "Python 3",
   "language": "python",
   "name": "python3"
  },
  "language_info": {
   "codemirror_mode": {
    "name": "ipython",
    "version": 3
   },
   "file_extension": ".py",
   "mimetype": "text/x-python",
   "name": "python",
   "nbconvert_exporter": "python",
   "pygments_lexer": "ipython3",
   "version": "3.8.12"
  }
 },
 "nbformat": 4,
 "nbformat_minor": 5
}
