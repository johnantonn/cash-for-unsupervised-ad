{
 "cells": [
  {
   "cell_type": "markdown",
   "id": "e1d23e9f-2c4a-48f4-a7c9-4afd22cd2d4d",
   "metadata": {},
   "source": [
    "## Aggregator\n",
    "This notebook contains the aggregation logic behind the summarization of experiment results with the same parameters on different dataset splits."
   ]
  },
  {
   "cell_type": "code",
   "execution_count": 1,
   "id": "873e496c-e544-420e-9ac4-ac2b1ac4cbc4",
   "metadata": {},
   "outputs": [],
   "source": [
    "# Imports\n",
    "import os\n",
    "import pandas as pd\n",
    "from pathlib import Path\n",
    "from matplotlib import pyplot as plt\n",
    "from datetime import timedelta as td"
   ]
  },
  {
   "cell_type": "code",
   "execution_count": 2,
   "id": "86119bfd-43b7-4993-811e-2b850eaeb028",
   "metadata": {},
   "outputs": [],
   "source": [
    "def fill_values(df, total_budget):\n",
    "    # Fill the missing values for `Timestamp` column\n",
    "    ref_idx = 0 # the df index to copy from\n",
    "    for i in range(1, total_budget): # 150\n",
    "        if i not in df.Timestamp.values:\n",
    "            n = df.shape[0]\n",
    "            df.at[n, 'Timestamp'] = int(i)\n",
    "            df.at[n, 'single_best_optimization_score'] = df.at[ref_idx, 'single_best_optimization_score']\n",
    "            df.at[n, 'single_best_test_score'] = df.at[ref_idx, 'single_best_test_score']\n",
    "        else:\n",
    "            ref_idx = df.index[df['Timestamp'] == i][0]\n",
    "            #print('Changing index at Timestamp =', i)\n",
    "    df = df.iloc[1: , :]\n",
    "    df = df.sort_values(by='Timestamp').reset_index(drop=True)\n",
    "    df = df.astype({\"Timestamp\": int})\n",
    "    return df"
   ]
  },
  {
   "cell_type": "code",
   "execution_count": 3,
   "id": "14c5a039-285f-4277-8dc7-667c1f933d92",
   "metadata": {},
   "outputs": [
    {
     "name": "stdout",
     "output_type": "stream",
     "text": [
      "Total budget: 150\n",
      "Dataset list: ['ALOI']\n",
      "Search algorithm list: ['edb', 'random', 'smac']\n",
      "Validation strategy list: ['stratified', 'balanced']\n",
      "Validation size list: [1125]\n"
     ]
    }
   ],
   "source": [
    "# Output directories\n",
    "output_dirname = 'results'\n",
    "output_path = os.path.join(Path.cwd(), output_dirname)\n",
    "output_performance_path = os.path.join(output_path, 'performance')\n",
    "# Import metadata\n",
    "metadata_filepath = os.path.join(output_path, 'metadata.csv')\n",
    "metadata_df = pd.read_csv(metadata_filepath)\n",
    "# Remove individual edb (random search) runs\n",
    "metadata_df = metadata_df[metadata_df['total_budget'] != 30]\n",
    "# Extract experiment parameters\n",
    "total_budget = metadata_df.total_budget[0]\n",
    "dataset_list = list(metadata_df.dataset_name.unique())\n",
    "validation_strategy_list = list(metadata_df.validation_strategy.unique())\n",
    "validation_size_list = list(metadata_df.validation_size.unique())\n",
    "search_algorithm_list = ['edb', 'random', 'smac']\n",
    "# Print the parameters\n",
    "print('Total budget:', total_budget)\n",
    "print('Dataset list:', dataset_list)\n",
    "print('Search algorithm list:', search_algorithm_list)\n",
    "print('Validation strategy list:', validation_strategy_list)\n",
    "print('Validation size list:', validation_size_list)"
   ]
  },
  {
   "cell_type": "code",
   "execution_count": 4,
   "id": "d3ffd964-54db-4808-b139-343080c68c85",
   "metadata": {},
   "outputs": [],
   "source": [
    "# Calculate combinations\n",
    "cross_prod = []\n",
    "for algorithm in search_algorithm_list:\n",
    "    for strategy in validation_strategy_list:\n",
    "        for size in validation_size_list:\n",
    "            cross_prod.append(\n",
    "                '{}_{}_{}.csv'.format(\n",
    "                    algorithm,\n",
    "                    strategy,\n",
    "                    size\n",
    "                )\n",
    "            )"
   ]
  },
  {
   "cell_type": "code",
   "execution_count": 5,
   "id": "1457e012-86ac-46ea-9082-1db18965dc6e",
   "metadata": {},
   "outputs": [
    {
     "name": "stdout",
     "output_type": "stream",
     "text": [
      "ALOI\n",
      "\tedb_stratified_1125.csv\n",
      "\tedb_balanced_1125.csv\n",
      "\trandom_stratified_1125.csv\n",
      "\trandom_balanced_1125.csv\n",
      "\tsmac_stratified_1125.csv\n"
     ]
    },
    {
     "data": {
      "image/png": "[encoded data removed]",
      "text/plain": [
       "<Figure size 432x288 with 1 Axes>"
      ]
     },
     "metadata": {
      "needs_background": "light"
     },
     "output_type": "display_data"
    },
    {
     "name": "stdout",
     "output_type": "stream",
     "text": [
      "\tsmac_balanced_1125.csv\n"
     ]
    }
   ],
   "source": [
    "# Iterate over datasets\n",
    "dataset_list = ['ALOI']\n",
    "for dataset in dataset_list:\n",
    "    print(dataset)\n",
    "    for cp in cross_prod:\n",
    "        df_list = []\n",
    "        print('\\t'+cp)\n",
    "        for filename in os.listdir(output_performance_path):\n",
    "            if dataset in filename and cp in filename:\n",
    "                df = pd.read_csv(\n",
    "                    os.path.join(\n",
    "                        output_performance_path,\n",
    "                        filename\n",
    "                    ),\n",
    "                    parse_dates=['Timestamp']\n",
    "                )\n",
    "                df.drop(columns=['single_best_train_score'], inplace=True)\n",
    "                # Transform timestamp and boundary values\n",
    "                df.Timestamp = (df.Timestamp-df.Timestamp[0]).apply(td.total_seconds)\n",
    "                n = df.shape[0]\n",
    "                df.at[n, 'Timestamp'] = total_budget\n",
    "                df = df.astype({\"Timestamp\": int})\n",
    "                df.at[n, 'single_best_optimization_score'] = df.at[n-1, 'single_best_optimization_score']\n",
    "                df.at[n, 'single_best_test_score'] = df.at[n-1, 'single_best_test_score']\n",
    "                df = df.drop_duplicates().reset_index(drop=True)\n",
    "                plt.plot(df.Timestamp, df.single_best_test_score, '--')\n",
    "                df = fill_values(df, total_budget)\n",
    "                df_list.append(df)\n",
    "                #print(df['single_best_test_score'].values[4])\n",
    "                #df.to_csv(os.path.join(output_performance_path, '_'+filename), index=False)\n",
    "        # Average\n",
    "        if len(df_list) > 0:\n",
    "            title = dataset+'_'+cp\n",
    "            dff = df_list[0] # total\n",
    "            for df in df_list[1:]:\n",
    "                dff['single_best_optimization_score'] += df['single_best_optimization_score']\n",
    "                dff['single_best_test_score'] += df['single_best_test_score']\n",
    "            dff['single_best_optimization_score'] = dff['single_best_optimization_score'] / len(df_list)\n",
    "            dff['single_best_test_score'] = dff['single_best_test_score'] / len(df_list)\n",
    "            dff = dff.astype({\"Timestamp\": int})\n",
    "            #print('avg:', dff['single_best_test_score'].values[4])\n",
    "            dff.to_csv(os.path.join(output_performance_path, title), index=False)\n",
    "            plt.plot(dff.Timestamp, dff.single_best_test_score)\n",
    "            plt.ylim([0.5, 0.8])\n",
    "            plt.show()"
   ]
  }
 ],
 "metadata": {
  "kernelspec": {
   "display_name": "Python 3",
   "language": "python",
   "name": "python3"
  },
  "language_info": {
   "codemirror_mode": {
    "name": "ipython",
    "version": 3
   },
   "file_extension": ".py",
   "mimetype": "text/x-python",
   "name": "python",
   "nbconvert_exporter": "python",
   "pygments_lexer": "ipython3",
   "version": "3.8.12"
  }
 },
 "nbformat": 4,
 "nbformat_minor": 5
}
