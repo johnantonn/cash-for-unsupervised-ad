{
 "cells": [
  {
   "cell_type": "markdown",
   "id": "70ba3c3e-177c-4051-b7bd-def702574389",
   "metadata": {},
   "source": [
    "### Automated anomaly detection using PyOD and Auto-Sklearn\n",
    "This notebook incorporates anomaly detection algorithms from PyOD into Auto-Sklearn. The following steps are followed:\n",
    "- Auto-Sklearn is extended to incorporate PyOD algorithms\n",
    "- Anomaly detection dataset(s) are imported and pre-processed\n",
    "- Dataset is passed to Auto-Sklearn automl object for automated modeling and prediction\n",
    "- Results and stats are obtained and analyzed"
   ]
  },
  {
   "cell_type": "code",
   "execution_count": 8,
   "id": "59f6d5d8-2dd9-481a-98a0-9c84a6c2fe6e",
   "metadata": {},
   "outputs": [],
   "source": [
    "# Imports\n",
    "import os, sys\n",
    "import pandas as pd\n",
    "import numpy as np\n",
    "import sklearn.metrics\n",
    "import autosklearn.classification\n",
    "from sklearn.model_selection import train_test_split\n",
    "from autosklearn.pipeline.components.classification import add_classifier\n",
    "from autosklearn.metrics import roc_auc, average_precision\n",
    "from scipy.io import arff\n",
    "from matplotlib import pyplot as plt\n",
    "p = os.path.abspath('..')\n",
    "sys.path.insert(1, p)\n",
    "from utils import custom_split, balanced_split, add_pyod_models_to_pipeline, \\\n",
    "    get_metric_result\n",
    "# Add models to Auto-Sklearn\n",
    "add_pyod_models_to_pipeline()"
   ]
  },
  {
   "cell_type": "code",
   "execution_count": 9,
   "id": "b1464bd5-9d7d-4a4a-86e9-5f2a4ba912a9",
   "metadata": {},
   "outputs": [
    {
     "name": "stdout",
     "output_type": "stream",
     "text": [
      "Ratio of outliers in training set: 0.0675\n",
      "Ratio of outliers in test set: 0.068\n",
      "Training size: 4000\n",
      "Test size: 1000\n"
     ]
    }
   ],
   "source": [
    "# Shuttle dataset\n",
    "from scipy.io import loadmat  # this is the SciPy module that loads mat-files\n",
    "mat = loadmat('../../data/shuttle.mat')  # load mat-file\n",
    "X = mat['X']\n",
    "y = mat['y']\n",
    "X = pd.DataFrame(X)\n",
    "y = pd.DataFrame(y)\n",
    "y = y[0]\n",
    "N = 5000\n",
    "if(len(X) > N):\n",
    "    X = X.sample(n=N, ignore_index=True, random_state=1)\n",
    "    y = y.sample(n=N, ignore_index=True, random_state=1)\n",
    "X_train, X_test, y_train, y_test = train_test_split(X, y, test_size=0.2, random_state=1, stratify=y) # stratified split\n",
    "# Reset indexes\n",
    "X_train.reset_index(drop=True, inplace=True)\n",
    "y_train.reset_index(drop=True, inplace=True)\n",
    "X_test.reset_index(drop=True, inplace=True)\n",
    "y_test.reset_index(drop=True, inplace=True)\n",
    "print(\"Ratio of outliers in training set:\", len(y_train[y_train==1])/len(y_train))\n",
    "print(\"Ratio of outliers in test set:\", len(y_test[y_test==1])/len(y_test))\n",
    "print(\"Training size:\", len(X_train))\n",
    "print(\"Test size:\", len(X_test))"
   ]
  },
  {
   "cell_type": "code",
   "execution_count": 10,
   "id": "21302870-7540-4392-b114-2c25305b84a2",
   "metadata": {},
   "outputs": [
    {
     "name": "stdout",
     "output_type": "stream",
     "text": [
      "Number of total samples to split: 4000\n",
      "Number of outliers in training: 1\n",
      "Number of outliers in test: 269\n",
      "Number of normal points in training: 3461\n",
      "Number of normal points in test: 269\n",
      "Running fit...\n"
     ]
    },
    {
     "data": {
      "text/plain": [
       "AutoSklearnClassifier(ensemble_size=1,\n",
       "                      include={'classifier': ['ABODClassifier',\n",
       "                                              'CBLOFClassifier',\n",
       "                                              'COPODClassifier',\n",
       "                                              'ECODClassifier',\n",
       "                                              'HBOSClassifier',\n",
       "                                              'IForestClassifier',\n",
       "                                              'KNNClassifier', 'LMDDClassifier',\n",
       "                                              'LOFClassifier', 'MCDClassifier',\n",
       "                                              'OCSVMClassifier',\n",
       "                                              'PCAClassifier', 'RODClassifier',\n",
       "                                              'SOSClassifier'],\n",
       "                               'feature_preprocessor': ['no_preprocessing']},\n",
       "                      initial_configurations_via_metalearning=0, metric=roc_auc,\n",
       "                      per_run_time_limit=20,\n",
       "                      resampling_strategy=PredefinedSplit(test_fold=array([-1, -1, ..., -1, -1])),\n",
       "                      scoring_functions=[roc_auc, average_precision],\n",
       "                      time_left_for_this_task=120)"
      ]
     },
     "execution_count": 10,
     "metadata": {},
     "output_type": "execute_result"
    }
   ],
   "source": [
    "# Pre-defined split indices for train and validation\n",
    "#selected_indices = custom_split(y_train)\n",
    "selected_indices = balanced_split(y_train)\n",
    "# Define custom resampling strategy\n",
    "resampling_strategy = sklearn.model_selection.PredefinedSplit(test_fold=selected_indices)\n",
    "# Build and fit a classifier\n",
    "automl = autosklearn.classification.AutoSklearnClassifier(\n",
    "    include = {\n",
    "      'classifier': [\n",
    "          'ABODClassifier',\n",
    "          'CBLOFClassifier',\n",
    "          'COPODClassifier',\n",
    "          'ECODClassifier',\n",
    "          'HBOSClassifier',\n",
    "          'IForestClassifier',\n",
    "          'KNNClassifier',\n",
    "          'LMDDClassifier',\n",
    "          'LOFClassifier',\n",
    "          'MCDClassifier',\n",
    "          'OCSVMClassifier',\n",
    "          'PCAClassifier',\n",
    "          'RODClassifier',\n",
    "          'SOSClassifier'\n",
    "      ],\n",
    "      'feature_preprocessor': [\"no_preprocessing\"],\n",
    "    },\n",
    "    exclude = None,\n",
    "    metric = roc_auc,\n",
    "    scoring_functions = [roc_auc, average_precision],\n",
    "    time_left_for_this_task = 120,\n",
    "    per_run_time_limit = 20,\n",
    "    ensemble_size = 1,\n",
    "    initial_configurations_via_metalearning = 0,\n",
    "    resampling_strategy = resampling_strategy,\n",
    ")\n",
    "# Fit\n",
    "print('Running fit...')\n",
    "automl.fit(X_train, y_train, X_test, y_test, dataset_name='Shuttle')"
   ]
  },
  {
   "cell_type": "code",
   "execution_count": 11,
   "id": "17a82302-1d15-4a73-bba4-04057f3f47c8",
   "metadata": {},
   "outputs": [
    {
     "name": "stdout",
     "output_type": "stream",
     "text": [
      "auto-sklearn results:\n",
      "  Dataset name: Shuttle\n",
      "  Metric: roc_auc\n",
      "  Best validation score: 0.999986\n",
      "  Number of target algorithm runs: 10\n",
      "  Number of successful target algorithm runs: 6\n",
      "  Number of crashed target algorithm runs: 1\n",
      "  Number of target algorithms that exceeded the time limit: 3\n",
      "  Number of target algorithms that exceeded the memory limit: 0\n",
      "\n",
      " rank_test_scores  status param_classifier:__choice__  mean_test_score  mean_fit_time  metric_roc_auc  metric_average_precision\n",
      "                1 Success               LOFClassifier         0.999986       2.054908        0.999986                  0.999986\n",
      "                2 Success               RODClassifier         0.998521      18.074966        0.998521                  0.998594\n",
      "                3 Success              HBOSClassifier         0.997305       4.912902        0.997305                  0.996410\n",
      "                4 Success              HBOSClassifier         0.996324       4.995302        0.996324                  0.994255\n",
      "                5 Success               MCDClassifier         0.996061       3.484714        0.996061                  0.982380\n",
      "                6 Success              ABODClassifier         0.955390      14.977090        0.955390                  0.918089\n",
      "                7 Timeout               RODClassifier         0.000000      20.049692             NaN                       NaN\n",
      "                7   Crash               PCAClassifier         0.000000       1.377341             NaN                       NaN\n",
      "                7 Timeout               SOSClassifier         0.000000      20.056183             NaN                       NaN\n",
      "                7 Timeout               KNNClassifier         0.000000       2.050896             NaN                       NaN\n"
     ]
    }
   ],
   "source": [
    "# auto-sklearn execution details\n",
    "print(automl.sprint_statistics())\n",
    "# Top ranked model\n",
    "#print(automl.leaderboard(top_k=10))\n",
    "# Top ranked model configuration\n",
    "#print()\n",
    "#print(automl.show_models())\n",
    "# Call the function\n",
    "print(get_metric_result(automl.cv_results_).to_string(index=False))"
   ]
  },
  {
   "cell_type": "code",
   "execution_count": 12,
   "id": "2548eea3-a5ac-4845-b883-61141f5b10da",
   "metadata": {},
   "outputs": [
    {
     "data": {
      "image/png": "[encoded data removed]",
      "text/plain": [
       "<Figure size 432x288 with 1 Axes>"
      ]
     },
     "metadata": {
      "needs_background": "light"
     },
     "output_type": "display_data"
    }
   ],
   "source": [
    "# Plot performance over time\n",
    "automl.performance_over_time_.plot(\n",
    "   x='Timestamp',\n",
    "   kind='line',\n",
    "   legend=True,\n",
    "   title='Auto-sklearn ROC AUC score over time',\n",
    "   grid=True,\n",
    ")\n",
    "plt.show()"
   ]
  },
  {
   "cell_type": "code",
   "execution_count": 13,
   "id": "69622ced-cd05-4169-9306-feb7e90df933",
   "metadata": {},
   "outputs": [
    {
     "name": "stdout",
     "output_type": "stream",
     "text": [
      "Running refit...\n",
      "ROC AUC score: 0.5161417571320374\n"
     ]
    }
   ],
   "source": [
    "print('Running refit...')\n",
    "automl.refit(X_train, y_train)\n",
    "# Evaluate on test set\n",
    "y_pred=automl.predict_proba(X_test)\n",
    "# score\n",
    "score=sklearn.metrics.roc_auc_score(y_test,y_pred[:,1])\n",
    "print(\"ROC AUC score:\", score)"
   ]
  },
  {
   "cell_type": "code",
   "execution_count": null,
   "id": "e8c4ba02-7726-4647-bc32-d6f047d3c9fe",
   "metadata": {},
   "outputs": [],
   "source": []
  }
 ],
 "metadata": {
  "kernelspec": {
   "display_name": "Python 3 (ipykernel)",
   "language": "python",
   "name": "python3"
  },
  "language_info": {
   "codemirror_mode": {
    "name": "ipython",
    "version": 3
   },
   "file_extension": ".py",
   "mimetype": "text/x-python",
   "name": "python",
   "nbconvert_exporter": "python",
   "pygments_lexer": "ipython3",
   "version": "3.8.12"
  }
 },
 "nbformat": 4,
 "nbformat_minor": 5
}
