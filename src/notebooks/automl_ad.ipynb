{
 "cells": [
  {
   "cell_type": "markdown",
   "id": "b024889c-4c4b-4d9b-a780-0c03c4afbb0b",
   "metadata": {},
   "source": [
    "### Automated anomaly detection using PyOD and Auto-Sklearn\n",
    "This notebook incorporates anomaly detection algorithms from PyOD into Auto-Sklearn. The following steps are followed:\n",
    "- Auto-Sklearn is extended to incorporate PyOD algorithms\n",
    "- Anomaly detection dataset(s) are imported and pre-processed\n",
    "- Dataset is passed to Auto-Sklearn automl object for automated modeling and prediction\n",
    "- Results and stats are obtained and analyzed"
   ]
  },
  {
   "cell_type": "code",
   "execution_count": 1,
   "id": "3b9869dd-9366-43d1-989e-573b7dd7e052",
   "metadata": {},
   "outputs": [],
   "source": [
    "# Imports\n",
    "import os, sys\n",
    "import pandas as pd\n",
    "import numpy as np\n",
    "from matplotlib import pyplot as plt\n",
    "import sklearn.metrics\n",
    "from sklearn.model_selection import train_test_split, PredefinedSplit, StratifiedShuffleSplit\n",
    "from autosklearn.pipeline.components.classification import add_classifier\n",
    "from autosklearn.classification import AutoSklearnClassifier\n",
    "from autosklearn.metrics import roc_auc, average_precision\n",
    "p = os.path.abspath('..')\n",
    "sys.path.insert(1, p)\n",
    "from utils import import_dataset, add_pyod_models_to_pipeline, custom_split, get_metric_result\n",
    "# Add models to Auto-Sklearn\n",
    "add_pyod_models_to_pipeline()"
   ]
  },
  {
   "cell_type": "code",
   "execution_count": 2,
   "id": "863f3d61-0b56-4da1-900e-8e93175d9b6f",
   "metadata": {},
   "outputs": [
    {
     "name": "stdout",
     "output_type": "stream",
     "text": [
      "Dataset: ../../data/Annthyroid_withoutdupl_norm_02_v01.arff\n",
      "Fitting..\n",
      "[WARNING] [2022-02-23 20:16:35,124:Client-autosklearn.automl_common.common.utils.backend] Directory /tmp/auto-sklearn_tmp_5adb3eaf-94d3-11ec-9313-c8d9d2ea2351/.auto-sklearn/ensembles does not exist\n",
      "auto-sklearn results:\n",
      "  Dataset name: Annthyroid\n",
      "  Metric: roc_auc\n",
      "  Best validation score: 0.892964\n",
      "  Number of target algorithm runs: 62\n",
      "  Number of successful target algorithm runs: 60\n",
      "  Number of crashed target algorithm runs: 0\n",
      "  Number of target algorithms that exceeded the time limit: 2\n",
      "  Number of target algorithms that exceeded the memory limit: 0\n",
      "\n",
      "Dataset: ../../data/Annthyroid_withoutdupl_norm_05_v01.arff\n",
      "Fitting..\n",
      "[WARNING] [2022-02-23 20:26:30,688:Client-autosklearn.automl_common.common.utils.backend] Directory /tmp/auto-sklearn_tmp_bf9527be-94d4-11ec-9313-c8d9d2ea2351/.auto-sklearn/ensembles does not exist\n",
      "auto-sklearn results:\n",
      "  Dataset name: Annthyroid\n",
      "  Metric: roc_auc\n",
      "  Best validation score: 0.916687\n",
      "  Number of target algorithm runs: 62\n",
      "  Number of successful target algorithm runs: 58\n",
      "  Number of crashed target algorithm runs: 1\n",
      "  Number of target algorithms that exceeded the time limit: 3\n",
      "  Number of target algorithms that exceeded the memory limit: 0\n",
      "\n",
      "Dataset: ../../data/Annthyroid_withoutdupl_norm_07.arff\n",
      "Fitting..\n",
      "[WARNING] [2022-02-23 20:36:27,002:Client-autosklearn.automl_common.common.utils.backend] Directory /tmp/auto-sklearn_tmp_233045ee-94d6-11ec-9313-c8d9d2ea2351/.auto-sklearn/ensembles does not exist\n",
      "auto-sklearn results:\n",
      "  Dataset name: Annthyroid\n",
      "  Metric: roc_auc\n",
      "  Best validation score: 0.864177\n",
      "  Number of target algorithm runs: 61\n",
      "  Number of successful target algorithm runs: 56\n",
      "  Number of crashed target algorithm runs: 0\n",
      "  Number of target algorithms that exceeded the time limit: 5\n",
      "  Number of target algorithms that exceeded the memory limit: 0\n",
      "\n"
     ]
    }
   ],
   "source": [
    "# Sample number\n",
    "N = 5000\n",
    "# Datasets\n",
    "datasets = [\n",
    "    '../../data/Annthyroid_withoutdupl_norm_02_v01.arff',\n",
    "    '../../data/Annthyroid_withoutdupl_norm_05_v01.arff',\n",
    "    '../../data/Annthyroid_withoutdupl_norm_07.arff'\n",
    "]\n",
    "# Test performance dict\n",
    "test_performance = {}\n",
    "\n",
    "# Loop\n",
    "for dataset in datasets:\n",
    "    print('Dataset:', dataset)\n",
    "    # Import DataFrame\n",
    "    df = import_dataset(dataset)\n",
    "    if(len(df) > N):\n",
    "        df = df.sample(n=N)\n",
    "    # Extract X, y\n",
    "    X  = df.iloc[:, :-1]\n",
    "    y = df['outlier']\n",
    "    X_train, X_test, y_train, y_test = train_test_split(X, y, test_size=0.3, stratify=y, random_state=10)\n",
    "    \n",
    "    # Method 1 - Custom split\n",
    "    #selected_indices = custom_split(y_train)\n",
    "    #resampling_strategy = PredefinedSplit(test_fold=selected_indices)\n",
    "\n",
    "    # Method 2 - Stratified Shuffle Split\n",
    "    resampling_strategy = StratifiedShuffleSplit(n_splits=5, test_size=0.25)\n",
    "\n",
    "    # Build and fit a classifier\n",
    "    automl = AutoSklearnClassifier(\n",
    "        include = {\n",
    "          'classifier': [\n",
    "              #'ABODClassifier',\n",
    "              'CBLOFClassifier',\n",
    "              'COPODClassifier',\n",
    "              'ECODClassifier',\n",
    "              'HBOSClassifier',\n",
    "              'IForestClassifier',\n",
    "              'KNNClassifier',\n",
    "              #'LMDDClassifier',\n",
    "              'LOFClassifier',\n",
    "              'MCDClassifier',\n",
    "              'OCSVMClassifier',\n",
    "              'PCAClassifier',\n",
    "              #'RODClassifier',\n",
    "              'SOSClassifier'\n",
    "          ],\n",
    "          'feature_preprocessor': [\"no_preprocessing\"],\n",
    "        },\n",
    "        exclude = None,\n",
    "        metric = roc_auc,\n",
    "        scoring_functions = [roc_auc, average_precision],\n",
    "        time_left_for_this_task = 600,\n",
    "        per_run_time_limit = 30,\n",
    "        ensemble_size = 0,\n",
    "        initial_configurations_via_metalearning = 0,\n",
    "        resampling_strategy = resampling_strategy,\n",
    "    )\n",
    "    # Fit\n",
    "    print('Fitting..')\n",
    "    automl.fit(X_train, y_train, X_test, y_test, dataset_name='Annthyroid')\n",
    "\n",
    "    # Print stats\n",
    "    print(automl.sprint_statistics())\n",
    "    #print(get_metric_result(automl.cv_results_).to_string(index=False))\n",
    "    # Store test set performance\n",
    "    test_performance[dataset] = automl.performance_over_time_[['Timestamp', 'single_best_test_score']]"
   ]
  },
  {
   "cell_type": "code",
   "execution_count": 3,
   "id": "30066728-78a0-4534-bdc0-7dc28eca7d02",
   "metadata": {},
   "outputs": [
    {
     "data": {
      "image/png": "[encoded data removed]",
      "text/plain": [
       "<Figure size 432x288 with 1 Axes>"
      ]
     },
     "metadata": {
      "needs_background": "light"
     },
     "output_type": "display_data"
    },
    {
     "data": {
      "text/plain": [
       "<Figure size 432x288 with 0 Axes>"
      ]
     },
     "metadata": {},
     "output_type": "display_data"
    }
   ],
   "source": [
    "# Plot test performance\n",
    "for d, results in test_performance.items():\n",
    "    plt.plot(results.Timestamp-results.Timestamp[0], results.single_best_test_score)\n",
    "plt.legend(['Annthyroid-2%', 'Annthyroid-5%', 'Annthyroid-7%'])\n",
    "plt.title('StratifiedShuffleSplit(n_splits=5, test_size=0.25)')\n",
    "plt.grid()\n",
    "plt.show()\n",
    "plt.savefig('annthyroid-stratified.png')"
   ]
  },
  {
   "cell_type": "code",
   "execution_count": null,
   "id": "16712655-84e0-47f7-bd89-14cfb28e40b3",
   "metadata": {},
   "outputs": [],
   "source": []
  }
 ],
 "metadata": {
  "kernelspec": {
   "display_name": "Python 3 (ipykernel)",
   "language": "python",
   "name": "python3"
  },
  "language_info": {
   "codemirror_mode": {
    "name": "ipython",
    "version": 3
   },
   "file_extension": ".py",
   "mimetype": "text/x-python",
   "name": "python",
   "nbconvert_exporter": "python",
   "pygments_lexer": "ipython3",
   "version": "3.8.12"
  }
 },
 "nbformat": 4,
 "nbformat_minor": 5
}
