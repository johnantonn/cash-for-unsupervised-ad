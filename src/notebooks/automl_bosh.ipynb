{
 "cells": [
  {
   "cell_type": "markdown",
   "id": "b024889c-4c4b-4d9b-a780-0c03c4afbb0b",
   "metadata": {},
   "source": [
    "### Automated anomaly detection using PyOD and Auto-Sklearn\n",
    "Successive Halving algorithm for search"
   ]
  },
  {
   "cell_type": "code",
   "execution_count": 1,
   "id": "3b9869dd-9366-43d1-989e-573b7dd7e052",
   "metadata": {},
   "outputs": [],
   "source": [
    "# Imports\n",
    "import os, sys\n",
    "import pandas as pd\n",
    "from matplotlib import pyplot as plt\n",
    "from datetime import timedelta as td\n",
    "from sklearn.model_selection import train_test_split, PredefinedSplit, StratifiedShuffleSplit\n",
    "from autosklearn.pipeline.components.classification import add_classifier\n",
    "from autosklearn.classification import AutoSklearnClassifier\n",
    "from autosklearn.metrics import roc_auc, average_precision\n",
    "p = os.path.abspath('..')\n",
    "sys.path.insert(1, p)\n",
    "from utils import import_dataset, add_pyod_models_to_pipeline, balanced_split, get_metric_result\n",
    "# Add models to Auto-Sklearn\n",
    "add_pyod_models_to_pipeline()"
   ]
  },
  {
   "cell_type": "code",
   "execution_count": 2,
   "id": "34e36a22-9046-429d-8058-385d68879a56",
   "metadata": {},
   "outputs": [],
   "source": [
    "import autosklearn.pipeline.components.data_preprocessing\n",
    "from autosklearn.pipeline.components.base import AutoSklearnPreprocessingAlgorithm\n",
    "from autosklearn.pipeline.constants import SPARSE, DENSE, UNSIGNED_DATA, INPUT\n",
    "from ConfigSpace.configuration_space import ConfigurationSpace\n",
    "\n",
    "class NoPreprocessing(AutoSklearnPreprocessingAlgorithm):\n",
    "\n",
    "    def __init__(self, **kwargs):\n",
    "        \"\"\" This preprocessors does not change the data \"\"\"\n",
    "        # Some internal checks makes sure parameters are set\n",
    "        for key, val in kwargs.items():\n",
    "            setattr(self, key, val)\n",
    "\n",
    "    def fit(self, X, Y=None):\n",
    "        return self\n",
    "\n",
    "    def transform(self, X):\n",
    "        return X\n",
    "\n",
    "    @staticmethod\n",
    "    def get_properties(dataset_properties=None):\n",
    "        return {\n",
    "            'shortname': 'NoPreprocessing',\n",
    "            'name': 'NoPreprocessing',\n",
    "            'handles_regression': True,\n",
    "            'handles_classification': True,\n",
    "            'handles_multiclass': True,\n",
    "            'handles_multilabel': True,\n",
    "            'handles_multioutput': True,\n",
    "            'is_deterministic': True,\n",
    "            'input': (SPARSE, DENSE, UNSIGNED_DATA),\n",
    "            'output': (INPUT,)\n",
    "        }\n",
    "\n",
    "    @staticmethod\n",
    "    def get_hyperparameter_search_space(dataset_properties=None):\n",
    "        return ConfigurationSpace()  # Return an empty configuration as there is None\n",
    "\n",
    "# Add NoPreprocessing component to auto-sklearn.\n",
    "autosklearn.pipeline.components.data_preprocessing.add_preprocessor(NoPreprocessing)"
   ]
  },
  {
   "cell_type": "code",
   "execution_count": 3,
   "id": "fc9dffe0-55f9-44d2-bb11-c725f4c711e1",
   "metadata": {},
   "outputs": [],
   "source": [
    "# Classifiers to be included\n",
    "classifiers = [\n",
    "    'CBLOFClassifier',\n",
    "    'COPODClassifier',\n",
    "    'IForestClassifier',\n",
    "    'KNNClassifier',\n",
    "    'LOFClassifier',\n",
    "]"
   ]
  },
  {
   "cell_type": "code",
   "execution_count": 4,
   "id": "63388c8e-e09b-4318-b3e0-3f6580ea5d47",
   "metadata": {},
   "outputs": [],
   "source": [
    "# Datasets to be included\n",
    "datasets = {\n",
    "    #'cardio_02': '../../data/Cardiotocography_withoutdupl_norm_02_v10.arff',\n",
    "    #'cardio_05': '../../data/Cardiotocography_withoutdupl_norm_05_v10.arff',\n",
    "    'cardio_10': '../../data/Cardiotocography_withoutdupl_norm_10_v10.arff',\n",
    "    #'cardio_20': '../../data/Cardiotocography_withoutdupl_norm_20_v10.arff',\n",
    "    #'cardio_22': '../../data/Cardiotocography_withoutdupl_norm_22.arff'\n",
    "}"
   ]
  },
  {
   "cell_type": "code",
   "execution_count": 5,
   "id": "6a9a5396-8bfc-4652-a690-73a856473fee",
   "metadata": {},
   "outputs": [],
   "source": [
    "def get_smac_object_callback(budget_type):\n",
    "    \"\"\" Successive Halving \"\"\"\n",
    "    def get_smac_object(\n",
    "        scenario_dict,\n",
    "        seed,\n",
    "        ta,\n",
    "        ta_kwargs,\n",
    "        metalearning_configurations,\n",
    "        n_jobs,\n",
    "        dask_client,\n",
    "    ):\n",
    "        from smac.facade.smac_ac_facade import SMAC4AC\n",
    "        from smac.intensification.successive_halving import SuccessiveHalving\n",
    "        from smac.runhistory.runhistory2epm import RunHistory2EPM4LogCost\n",
    "        from smac.scenario.scenario import Scenario\n",
    "\n",
    "        if n_jobs > 1 or (dask_client and len(dask_client.nthreads()) > 1):\n",
    "            raise ValueError(\"Please make sure to guard the code invoking Auto-sklearn by \"\n",
    "                             \"`if __name__ == '__main__'` and remove this exception.\")\n",
    "\n",
    "        scenario = Scenario(scenario_dict)\n",
    "        if len(metalearning_configurations) > 0:\n",
    "            default_config = scenario.cs.get_default_configuration()\n",
    "            initial_configurations = [\n",
    "                default_config] + metalearning_configurations\n",
    "        else:\n",
    "            initial_configurations = None\n",
    "        rh2EPM = RunHistory2EPM4LogCost\n",
    "\n",
    "        ta_kwargs['budget_type'] = budget_type\n",
    "\n",
    "        return SMAC4AC(\n",
    "            scenario=scenario,\n",
    "            rng=seed,\n",
    "            runhistory2epm=rh2EPM,\n",
    "            tae_runner=ta,\n",
    "            tae_runner_kwargs=ta_kwargs,\n",
    "            initial_configurations=initial_configurations,\n",
    "            run_id=seed,\n",
    "            intensifier=SuccessiveHalving,\n",
    "            intensifier_kwargs={\n",
    "                'initial_budget': 10.0,\n",
    "                'max_budget': 100,\n",
    "                'eta': 2,\n",
    "                'min_chall': 1\n",
    "            },\n",
    "            n_jobs=n_jobs,\n",
    "            dask_client=dask_client,\n",
    "        )\n",
    "    return get_smac_object\n"
   ]
  },
  {
   "cell_type": "code",
   "execution_count": 14,
   "id": "863f3d61-0b56-4da1-900e-8e93175d9b6f",
   "metadata": {},
   "outputs": [
    {
     "name": "stdout",
     "output_type": "stream",
     "text": [
      "Dataset: cardio_10, shape: (1831, 22)\n",
      "Fitting..\n"
     ]
    },
    {
     "name": "stderr",
     "output_type": "stream",
     "text": [
      "/home/johneegr/anaconda3/envs/env_thesis/lib/python3.8/site-packages/smac/intensification/parallel_scheduling.py:153: UserWarning: SuccessiveHalving is executed with 1 workers only. Consider to use pynisher to use all available workers.\n",
      "  warnings.warn(\n"
     ]
    },
    {
     "name": "stdout",
     "output_type": "stream",
     "text": [
      "[WARNING] [2022-03-21 14:23:21,692:Client-autosklearn.automl_common.common.utils.backend] Directory /tmp/auto-sklearn_tmp_9582f328-a911-11ec-94b9-279385af2577/.auto-sklearn/ensembles does not exist\n",
      "auto-sklearn results:\n",
      "  Dataset name: Cardiotography\n",
      "  Metric: roc_auc\n",
      "  Number of target algorithm runs: 50\n",
      "  Number of successful target algorithm runs: 0\n",
      "  Number of crashed target algorithm runs: 50\n",
      "  Number of target algorithms that exceeded the time limit: 0\n",
      "  Number of target algorithms that exceeded the memory limit: 0\n",
      "\n"
     ]
    }
   ],
   "source": [
    "# Sampling size\n",
    "N = 5000\n",
    "# Budget\n",
    "total_budget = 60 # in seconds\n",
    "per_run_budget = 20 # in seconds\n",
    "\n",
    "# Performance dicts\n",
    "valid_performance = {}\n",
    "test_performance = {}\n",
    "\n",
    "# Loop over datasets\n",
    "for d_name, d_file in datasets.items():\n",
    "    # Import DataFrame\n",
    "    df = import_dataset(d_file)\n",
    "    print('Dataset: {}, shape: {}'.format(d_name, df.shape))\n",
    "    # Subsample\n",
    "    if(len(df) > N):\n",
    "        df = df.sample(n=N)\n",
    "    # Extract X, y\n",
    "    X  = df.iloc[:, :-1]\n",
    "    y = df['outlier']\n",
    "    # Split to train, test\n",
    "    X_train, X_test, y_train, y_test = train_test_split(X, y, test_size=0.3, stratify=y, random_state=10)\n",
    "\n",
    "    # Choose validation strategy\n",
    "    validation_type = 'stratified' # balanced vs stratified\n",
    "    if validation_type == 'balanced':\n",
    "        selected_indices = balanced_split(y_train)\n",
    "        resampling_strategy = PredefinedSplit(test_fold=selected_indices)\n",
    "    else: # 'stratified'\n",
    "        resampling_strategy = StratifiedShuffleSplit(n_splits=5, test_size=0.3)\n",
    "\n",
    "    \n",
    "    # Build autosklearn classifier\n",
    "    automl = AutoSklearnClassifier(\n",
    "        include = {\n",
    "            'classifier': classifiers,\n",
    "            'feature_preprocessor': [\"no_preprocessing\"],\n",
    "            'data_preprocessor': ['NoPreprocessing']\n",
    "        },\n",
    "        exclude = None,\n",
    "        metric = roc_auc,\n",
    "        scoring_functions = [roc_auc, average_precision],\n",
    "        time_left_for_this_task = total_budget,\n",
    "        per_run_time_limit = per_run_budget,\n",
    "        ensemble_size = 0,\n",
    "        initial_configurations_via_metalearning = 0,\n",
    "        resampling_strategy = resampling_strategy,\n",
    "        delete_tmp_folder_after_terminate=False,\n",
    "        # Passing the callback to get the SMAC object\n",
    "        get_smac_object_callback=get_smac_object_callback('subsample')\n",
    "    )\n",
    "    # Fit\n",
    "    print('Fitting..')\n",
    "    automl.fit(X_train, y_train, X_test, y_test, dataset_name='Cardiotography')\n",
    "\n",
    "    # Print stats\n",
    "    print(automl.sprint_statistics())\n",
    "    #print(get_metric_result(automl.cv_results_).to_string(index=False))\n",
    "    #print('\\n\\n')\n",
    "    # Store performance metrics\n",
    "    valid_performance[d_name] = automl.performance_over_time_[['Timestamp', 'single_best_optimization_score']]\n",
    "    test_performance[d_name] = automl.performance_over_time_[['Timestamp', 'single_best_test_score']]"
   ]
  },
  {
   "cell_type": "code",
   "execution_count": null,
   "id": "c6024c4a-e617-412f-9f6e-fa3d637358be",
   "metadata": {},
   "outputs": [
    {
     "name": "stdout",
     "output_type": "stream",
     "text": [
      "Accuracy score 0.946590909090909\n"
     ]
    }
   ],
   "source": []
  },
  {
   "cell_type": "code",
   "execution_count": 7,
   "id": "30066728-78a0-4534-bdc0-7dc28eca7d02",
   "metadata": {},
   "outputs": [
    {
     "data": {
      "image/png": "[encoded data removed]",
      "text/plain": [
       "<Figure size 864x360 with 2 Axes>"
      ]
     },
     "metadata": {
      "needs_background": "light"
     },
     "output_type": "display_data"
    }
   ],
   "source": [
    "# Figure\n",
    "fig, (ax1, ax2) = plt.subplots(1, 2, figsize=(12,5))\n",
    "#\n",
    "# Plot validation performance\n",
    "for d, results in valid_performance.items():\n",
    "    # exctract series\n",
    "    x1 = (results.Timestamp-results.Timestamp[0]).apply(td.total_seconds)\n",
    "    y1 = results.single_best_optimization_score\n",
    "    # modify for plotting\n",
    "    x1.at[x1.shape[0]] = total_budget\n",
    "    y1.at[y1.shape[0]] = y1.at[y1.shape[0]-1]\n",
    "    ax1.plot(x1, y1)\n",
    "ax1.legend(list(datasets.keys()), loc='lower right')\n",
    "ax1.set_ylim([0.5, 1.])\n",
    "ax1.set_xlabel('seconds')\n",
    "ax1.set_ylabel('score')\n",
    "ax1.set_title('Performance on validation set ({})'.format(validation_type))\n",
    "ax1.grid()\n",
    "#\n",
    "# Plot test set performance\n",
    "for d, results in test_performance.items():\n",
    "    # exctract series\n",
    "    x2 = (results.Timestamp-results.Timestamp[0]).apply(td.total_seconds)\n",
    "    y2 = results.single_best_test_score\n",
    "    # modify plotting\n",
    "    x2.at[x2.shape[0]] = total_budget\n",
    "    y2.at[y2.shape[0]] = y2.at[y2.shape[0]-1]\n",
    "    ax2.plot(x2, y2)\n",
    "ax2.legend(list(datasets.keys()), loc='lower right')\n",
    "ax2.set_ylim([0.5, 1.])\n",
    "ax2.set_xlabel('seconds')\n",
    "#ax2.set_ylabel('score')\n",
    "ax2.set_title('Performance on test set')\n",
    "ax2.grid()"
   ]
  },
  {
   "cell_type": "code",
   "execution_count": 13,
   "id": "a4e7cdd6-edca-4837-8a29-389a8e8428ee",
   "metadata": {},
   "outputs": [
    {
     "data": {
      "text/plain": [
       "AutoSklearnClassifier(delete_tmp_folder_after_terminate=False, ensemble_size=0,\n",
       "                      get_smac_object_callback=<function get_smac_object_callback.<locals>.get_smac_object at 0x7fd65c357d30>,\n",
       "                      include={'classifier': ['CBLOFClassifier',\n",
       "                                              'COPODClassifier',\n",
       "                                              'IForestClassifier',\n",
       "                                              'KNNClassifier',\n",
       "                                              'LOFClassifier'],\n",
       "                               'data_preprocessor': ['NoPreprocessing'],\n",
       "                               'feature_preprocessor': ['no_preprocessing']},\n",
       "                      initial_configurations_via_metalearning=0, metric=roc_auc,\n",
       "                      per_run_time_limit=30,\n",
       "                      resampling_strategy=PredefinedSplit(test_fold=array([-1, -1, ..., -1, -1])),\n",
       "                      scoring_functions=[roc_auc, average_precision],\n",
       "                      time_left_for_this_task=120)"
      ]
     },
     "execution_count": 13,
     "metadata": {},
     "output_type": "execute_result"
    }
   ],
   "source": [
    "automl."
   ]
  },
  {
   "cell_type": "code",
   "execution_count": null,
   "id": "950951ab-f6cb-4698-b91b-8ee261981ca8",
   "metadata": {},
   "outputs": [],
   "source": []
  }
 ],
 "metadata": {
  "kernelspec": {
   "display_name": "Python 3",
   "language": "python",
   "name": "python3"
  },
  "language_info": {
   "codemirror_mode": {
    "name": "ipython",
    "version": 3
   },
   "file_extension": ".py",
   "mimetype": "text/x-python",
   "name": "python",
   "nbconvert_exporter": "python",
   "pygments_lexer": "ipython3",
   "version": "3.8.12"
  }
 },
 "nbformat": 4,
 "nbformat_minor": 5
}
