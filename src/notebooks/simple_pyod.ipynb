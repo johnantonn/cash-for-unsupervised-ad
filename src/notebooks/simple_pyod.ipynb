{
 "cells": [
  {
   "cell_type": "markdown",
   "metadata": {},
   "source": [
    "### Simple PyOD code example\n",
    "This notebook illustrates a simple example of applying PyOD models to real-world anomaly detection dataset"
   ]
  },
  {
   "cell_type": "code",
   "execution_count": 1,
   "metadata": {},
   "outputs": [],
   "source": [
    "import os, sys\n",
    "from scipy.io import arff\n",
    "import pandas as pd\n",
    "import numpy as np\n",
    "from sklearn.model_selection import train_test_split\n",
    "from pyod.models.lof import LOF\n",
    "p = os.path.abspath('..')\n",
    "sys.path.insert(1, p)\n",
    "from utils import import_dataset"
   ]
  },
  {
   "cell_type": "code",
   "execution_count": 3,
   "metadata": {},
   "outputs": [
    {
     "name": "stdout",
     "output_type": "stream",
     "text": [
      "Ratio of outliers in training set: 0.07306666666666667\n",
      "Ratio of outliers in test set: 0.0728\n",
      "Training size: 3750\n",
      "Test size: 1250\n"
     ]
    }
   ],
   "source": [
    "# Import dataset\n",
    "df = import_dataset('../../data/Annthyroid_withoutdupl_norm_07.arff')\n",
    "\n",
    "# Subsample\n",
    "N = 5000\n",
    "if(len(df) > N):\n",
    "    df = df.sample(n=N)\n",
    "    \n",
    "# Extract X, y\n",
    "X  = df.iloc[:, :-1]\n",
    "y = df['outlier']\n",
    "\n",
    "# Split\n",
    "X_train, X_test, y_train, y_test = train_test_split(X, y, test_size=0.25, stratify=y, random_state=10)\n",
    "\n",
    "# print\n",
    "print(\"Ratio of outliers in training set:\", len(y_train[y_train==1])/len(y_train))\n",
    "print(\"Ratio of outliers in test set:\", len(y_test[y_test==1])/len(y_test))\n",
    "print(\"Training size:\", len(X_train))\n",
    "print(\"Test size:\", len(X_test))"
   ]
  },
  {
   "cell_type": "code",
   "execution_count": 4,
   "metadata": {},
   "outputs": [
    {
     "name": "stdout",
     "output_type": "stream",
     "text": [
      "Model instance:\n",
      "Parameters: {'algorithm': 'auto', 'contamination': 0.1, 'leaf_size': 30, 'metric': 'minkowski', 'metric_params': None, 'n_jobs': 1, 'n_neighbors': 20, 'novelty': True, 'p': 2}\n",
      "\n",
      "Training set:\n",
      "Threshold: 1.8853842582808247\n",
      "Labels: [0 0 0 0 0]\n",
      "Scores: [1.14344662 1.01508758 1.01111714 1.56998712 1.15525702]\n",
      "Probabilities:\n",
      " [[0.98652094 0.01347906]\n",
      " [0.99514648 0.00485352]\n",
      " [0.99559484 0.00440516]\n",
      " [0.96185361 0.03814639]\n",
      " [0.98615844 0.01384156]]\n",
      "\n",
      "Test set\n",
      "Labels: [0 0 0 0 0 0 0 0 0 1]\n",
      "Scores: [1.24108456 1.10130986 0.9769059  1.5563613  1.52652011 1.10223906\n",
      " 1.10602042 0.99298255 0.96697086 5.14123119]\n",
      "Probabilities:\n",
      " [[0.97959304 0.02040696]\n",
      " [0.98903298 0.01096702]\n",
      " [0.99743484 0.00256516]\n",
      " [0.95830023 0.04169977]\n",
      " [0.96031561 0.03968439]\n",
      " [0.98897023 0.01102977]\n",
      " [0.98871485 0.01128515]\n",
      " [0.99634907 0.00365093]\n",
      " [0.99810582 0.00189418]\n",
      " [0.7161893  0.2838107 ]]\n"
     ]
    }
   ],
   "source": [
    "# train COF detector\n",
    "clf_name = 'LOF'\n",
    "clf = LOF()\n",
    "clf.fit(X_train)\n",
    "\n",
    "# get the prediction label and outlier scores of the training data\n",
    "y_train_pred = clf.labels_  # binary labels (0: inliers, 1: outliers)\n",
    "y_train_scores = clf.decision_scores_  # raw outlier scores\n",
    "y_train_proba = clf.predict_proba(X_train) # probability of outliers\n",
    "\n",
    "# get the prediction on the test data\n",
    "y_test_pred = clf.predict(X_test)  # outlier labels (0 or 1)\n",
    "y_test_scores = clf.decision_function(X_test)  # outlier scores\n",
    "y_test_proba = clf.predict_proba(X_test)  # probabilities in the range of [0,1]\n",
    "\n",
    "# Model instance\n",
    "print('Model instance:')\n",
    "print('Parameters:',clf.get_params())\n",
    "# Training set\n",
    "print(\"\\nTraining set:\")\n",
    "print('Threshold:',clf.threshold_)\n",
    "print('Labels:',clf.labels_[:5])\n",
    "print('Scores:',clf.decision_scores_[:5]) # y_train_scores[:5]\n",
    "print('Probabilities:\\n', y_train_proba[:5])\n",
    "# Test set\n",
    "print(\"\\nTest set\")\n",
    "print('Labels:',y_test_pred[15:25])\n",
    "print('Scores:',y_test_scores[15:25])\n",
    "print('Probabilities:\\n',y_test_proba[15:25])"
   ]
  },
  {
   "cell_type": "code",
   "execution_count": 5,
   "metadata": {},
   "outputs": [
    {
     "name": "stdout",
     "output_type": "stream",
     "text": [
      "\n",
      "On Training Data:\n",
      "LOF ROC:0.6235, precision @ rank n:0.0693\n",
      "\n",
      "On Test Data:\n",
      "LOF ROC:0.6502, precision @ rank n:0.033\n"
     ]
    }
   ],
   "source": [
    "from pyod.utils.data import evaluate_print\n",
    "\n",
    "# evaluate and print the results\n",
    "print(\"\\nOn Training Data:\")\n",
    "evaluate_print(clf_name, y_train, y_train_scores)\n",
    "print(\"\\nOn Test Data:\")\n",
    "evaluate_print(clf_name, y_test, y_test_scores)"
   ]
  }
 ],
 "metadata": {
  "kernelspec": {
   "display_name": "Python 3 (ipykernel)",
   "language": "python",
   "name": "python3"
  },
  "language_info": {
   "codemirror_mode": {
    "name": "ipython",
    "version": 3
   },
   "file_extension": ".py",
   "mimetype": "text/x-python",
   "name": "python",
   "nbconvert_exporter": "python",
   "pygments_lexer": "ipython3",
   "version": "3.8.12"
  }
 },
 "nbformat": 4,
 "nbformat_minor": 4
}
