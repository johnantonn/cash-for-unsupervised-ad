{
 "cells": [
  {
   "cell_type": "code",
   "execution_count": 1,
   "id": "c6ee10de-2194-4cc6-beba-1e82972e3fa2",
   "metadata": {},
   "outputs": [],
   "source": [
    "import os, sys, time, random, warnings\n",
    "# Disable warnings\n",
    "warnings.filterwarnings('ignore')\n",
    "import pandas as pd\n",
    "import numpy as np\n",
    "from scipy.io import arff\n",
    "from sklearn.model_selection import train_test_split\n",
    "p = os.path.abspath('..')\n",
    "sys.path.insert(1, p)\n",
    "from utils import import_dataset, create_search_space"
   ]
  },
  {
   "cell_type": "code",
   "execution_count": 2,
   "id": "4c198379-d0dd-4d31-8344-2a887c281bb2",
   "metadata": {},
   "outputs": [
    {
     "name": "stdout",
     "output_type": "stream",
     "text": [
      "Ratio of outliers in training set: 0.09992193598750976\n",
      "Ratio of outliers in test set: 0.1\n",
      "Training size: 1281\n",
      "Test size: 550\n"
     ]
    }
   ],
   "source": [
    "# Import dataset\n",
    "df = import_dataset(\n",
    "    '../../data/Cardiotocography_withoutdupl_norm_10_v10.arff',\n",
    ")\n",
    "\n",
    "# Maximum number of points\n",
    "N = 5000\n",
    "\n",
    "# Subsample if necessary\n",
    "if(len(df) > N):\n",
    "    df = df.sample(n=N)\n",
    "\n",
    "# Extract X, y\n",
    "X  = df.iloc[:, :-1]\n",
    "y = df['outlier']\n",
    "\n",
    "# Split to train and test sets\n",
    "X_train, X_test, y_train, y_test = train_test_split(X, y, test_size=0.3, stratify=y, random_state=10)\n",
    "\n",
    "print(\"Ratio of outliers in training set:\", len(y_train[y_train==1])/len(y_train))\n",
    "print(\"Ratio of outliers in test set:\", len(y_test[y_test==1])/len(y_test))\n",
    "print(\"Training size:\", len(X_train))\n",
    "print(\"Test size:\", len(X_test))"
   ]
  },
  {
   "cell_type": "code",
   "execution_count": 3,
   "id": "37227461-73e4-48bb-a7eb-9466b967ac4d",
   "metadata": {},
   "outputs": [
    {
     "name": "stdout",
     "output_type": "stream",
     "text": [
      "Number of algorithms: 3\n"
     ]
    }
   ],
   "source": [
    "models, search_space, evaluated = create_search_space()\n",
    "print('Number of algorithms:', len(models))"
   ]
  },
  {
   "cell_type": "code",
   "execution_count": 4,
   "id": "7288bd6b-151b-47b9-9b68-faeda86b875d",
   "metadata": {},
   "outputs": [
    {
     "name": "stdout",
     "output_type": "stream",
     "text": [
      "Run  1 took: 0.353 seconds\n",
      "Run  2 took: 0.116 seconds\n",
      "Run  3 took: 0.054 seconds\n",
      "Run  4 took: 0.015 seconds\n",
      "Run  5 took: 0.058 seconds\n",
      "Run  6 took: 0.053 seconds\n",
      "Run  7 took: 0.068 seconds\n",
      "Run  8 took: 0.060 seconds\n",
      "Run  9 took: 0.079 seconds\n",
      "Run 10 took: 0.061 seconds\n",
      "Run 11 took: 0.061 seconds\n",
      "Run 12 took: 0.056 seconds\n",
      "Run 13 took: 0.017 seconds\n",
      "Run 14 took: 0.054 seconds\n",
      "Run 15 took: 0.017 seconds\n",
      "Run 16 took: 0.084 seconds\n",
      "Run 17 took: 0.078 seconds\n",
      "Run 18 took: 0.015 seconds\n",
      "Run 19 took: 0.026 seconds\n",
      "Run 20 took: 0.102 seconds\n",
      "Run 21 took: 0.045 seconds\n",
      "Run 22 took: 0.061 seconds\n",
      "Run 23 took: 0.085 seconds\n",
      "Run 24 took: 0.064 seconds\n",
      "Run 25 took: 0.079 seconds\n",
      "Run 26 took: 0.017 seconds\n",
      "Run 27 took: 0.018 seconds\n",
      "Run 28 took: 0.069 seconds\n",
      "Run 29 took: 0.073 seconds\n",
      "Run 30 took: 0.079 seconds\n",
      "Run 31 took: 0.067 seconds\n",
      "Run 32 took: 0.041 seconds\n",
      "Run 33 took: 0.022 seconds\n",
      "Run 34 took: 0.080 seconds\n",
      "Run 35 took: 0.024 seconds\n",
      "Run 36 took: 0.068 seconds\n",
      "Run 37 took: 0.065 seconds\n",
      "Run 38 took: 0.054 seconds\n",
      "Run 39 took: 0.025 seconds\n",
      "Run 40 took: 0.080 seconds\n",
      "Run 41 took: 0.129 seconds\n",
      "Run 42 took: 0.026 seconds\n",
      "Run 43 took: 0.025 seconds\n",
      "Run 44 took: 0.085 seconds\n",
      "Run 45 took: 0.075 seconds\n",
      "Run 46 took: 0.074 seconds\n",
      "Run 47 took: 0.071 seconds\n",
      "Run 48 took: 0.055 seconds\n",
      "Run 49 took: 0.025 seconds\n",
      "Run 50 took: 0.055 seconds\n"
     ]
    }
   ],
   "source": [
    "# Time\n",
    "times = []\n",
    "# Sample from the model-hyperparam space\n",
    "n = 50 # how many sample runs?\n",
    "for i in range(n):\n",
    "    # Step 1 - Sample a model uniformally\n",
    "    [key] = random.sample(list(models), 1)\n",
    "    model = models[key]\n",
    "    hp_space = search_space[key]\n",
    "\n",
    "    # Step 2 - Sample a configuration from its hyperparam space\n",
    "    params = hp_space.sample_configuration().get_dictionary()\n",
    "    model.set_params(**params)\n",
    "    start = time.time() # start ticking\n",
    "    model.fit(X_train, y_train)\n",
    "    end = time.time() # end ticking\n",
    "    elapsed = end - start # fit time\n",
    "    print('Run {:2d} took: {:2.3f} seconds'.format(i+1, elapsed))\n",
    "    times.append(elapsed)"
   ]
  },
  {
   "cell_type": "code",
   "execution_count": 5,
   "id": "e42ec991-0c1f-4dfc-8eee-e94bcbd80179",
   "metadata": {},
   "outputs": [
    {
     "name": "stdout",
     "output_type": "stream",
     "text": [
      "Total time: 3.1606605052948\n",
      "Average time: 0.06321321010589599\n",
      "Standard deviation: 0.04924485501333547\n",
      "Estimated budget: 21.09477751459024\n"
     ]
    }
   ],
   "source": [
    "# Cap large execution times\n",
    "lim = 60 # seconds, should be equal to the max allowed threshold for fit()\n",
    "times_cap = []\n",
    "for val in times:\n",
    "    if val > lim:\n",
    "        times_cap.append(lim)\n",
    "    else:\n",
    "        times_cap.append(val)\n",
    "# Print statistics\n",
    "print('Total time:', sum(times_cap))\n",
    "print('Average time:', np.average(times_cap))\n",
    "print('Standard deviation:', np.std(times_cap))\n",
    "print('Estimated budget:', 100 * (np.average(times_cap) + 3 * np.std(times_cap)))"
   ]
  }
 ],
 "metadata": {
  "kernelspec": {
   "display_name": "Python 3",
   "language": "python",
   "name": "python3"
  },
  "language_info": {
   "codemirror_mode": {
    "name": "ipython",
    "version": 3
   },
   "file_extension": ".py",
   "mimetype": "text/x-python",
   "name": "python",
   "nbconvert_exporter": "python",
   "pygments_lexer": "ipython3",
   "version": "3.8.12"
  }
 },
 "nbformat": 4,
 "nbformat_minor": 5
}
