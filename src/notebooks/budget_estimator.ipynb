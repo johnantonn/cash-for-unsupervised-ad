{
 "cells": [
  {
   "cell_type": "code",
   "execution_count": 1,
   "id": "c6ee10de-2194-4cc6-beba-1e82972e3fa2",
   "metadata": {},
   "outputs": [],
   "source": [
    "import os, sys, time, random, warnings\n",
    "# Disable warnings\n",
    "warnings.filterwarnings('ignore')\n",
    "from scipy.io import arff\n",
    "import pandas as pd\n",
    "import numpy as np\n",
    "from sklearn.model_selection import train_test_split\n",
    "p = os.path.abspath('..')\n",
    "sys.path.insert(1, p)\n",
    "from utils import import_dataset, create_search_space"
   ]
  },
  {
   "cell_type": "code",
   "execution_count": 2,
   "id": "4c198379-d0dd-4d31-8344-2a887c281bb2",
   "metadata": {},
   "outputs": [
    {
     "name": "stdout",
     "output_type": "stream",
     "text": [
      "Ratio of outliers in training set: 0.07466666666666667\n",
      "Ratio of outliers in test set: 0.0752\n",
      "Training size: 3750\n",
      "Test size: 1250\n"
     ]
    }
   ],
   "source": [
    "# Import dataset\n",
    "df = import_dataset('../../data/Annthyroid_withoutdupl_norm_07.arff')\n",
    "\n",
    "# Maximum number of points\n",
    "N = 5000\n",
    "\n",
    "# Subsample if necessary\n",
    "if(len(df) > N):\n",
    "    df = df.sample(n=N)\n",
    "\n",
    "# Extract X, y\n",
    "X  = df.iloc[:, :-1]\n",
    "y = df['outlier']\n",
    "\n",
    "# Split to train and test sets\n",
    "X_train, X_test, y_train, y_test = train_test_split(X, y, test_size=0.25, stratify=y, random_state=10)\n",
    "\n",
    "print(\"Ratio of outliers in training set:\", len(y_train[y_train==1])/len(y_train))\n",
    "print(\"Ratio of outliers in test set:\", len(y_test[y_test==1])/len(y_test))\n",
    "print(\"Training size:\", len(X_train))\n",
    "print(\"Test size:\", len(X_test))"
   ]
  },
  {
   "cell_type": "code",
   "execution_count": 3,
   "id": "37227461-73e4-48bb-a7eb-9466b967ac4d",
   "metadata": {},
   "outputs": [
    {
     "name": "stdout",
     "output_type": "stream",
     "text": [
      "Number of algorithms: 11\n"
     ]
    }
   ],
   "source": [
    "# Create algorithm entries and their search spaces\n",
    "models, search_space, evaluated = create_search_space()\n",
    "print('Number of algorithms:', len(models))"
   ]
  },
  {
   "cell_type": "code",
   "execution_count": 4,
   "id": "7288bd6b-151b-47b9-9b68-faeda86b875d",
   "metadata": {},
   "outputs": [
    {
     "name": "stdout",
     "output_type": "stream",
     "text": [
      "Elapsed: 0.6228451728820801\n",
      "Elapsed: 2.7018861770629883\n",
      "Elapsed: 5.560974836349487\n",
      "Elapsed: 1.5814154148101807\n",
      "Elapsed: 0.09375333786010742\n",
      "Elapsed: 3.5412116050720215\n",
      "Elapsed: 17.39661407470703\n",
      "Elapsed: 0.0344696044921875\n",
      "Elapsed: 11.768535375595093\n",
      "Elapsed: 0.015494346618652344\n"
     ]
    }
   ],
   "source": [
    "# Time\n",
    "times = []\n",
    "# Sample from the model-hyperparam space\n",
    "n = 10 # how many sample runs?\n",
    "for i in range(n):\n",
    "    # Step 1 - Sample a model uniformally\n",
    "    [key] = random.sample(list(models), 1)\n",
    "    model = models[key]\n",
    "    hp_space = search_space[key]\n",
    "    # Step 2 - Sample a configuration from its hyperparam space\n",
    "    params = hp_space.sample_configuration().get_dictionary()\n",
    "    model.set_params(**params)\n",
    "\n",
    "    start = time.time()\n",
    "    model.fit(X_train, y_train)\n",
    "    end = time.time()\n",
    "    elapsed = end - start\n",
    "    print('Elapsed:', elapsed)\n",
    "    times.append(elapsed)"
   ]
  },
  {
   "cell_type": "code",
   "execution_count": 5,
   "id": "e42ec991-0c1f-4dfc-8eee-e94bcbd80179",
   "metadata": {},
   "outputs": [
    {
     "name": "stdout",
     "output_type": "stream",
     "text": [
      "Total time: 43.31719994544983\n",
      "Average time: 4.331719994544983\n",
      "Standard deviation: 5.542260039515339\n",
      "Estimated budget: 2095.8500113091\n"
     ]
    }
   ],
   "source": [
    "# Cap large execution times\n",
    "lim = 60 # seconds, should be equal to the max allowed threshold for fit()\n",
    "times_cap = []\n",
    "for val in times:\n",
    "    if val > lim:\n",
    "        times_cap.append(lim)\n",
    "    else:\n",
    "        times_cap.append(val)\n",
    "        \n",
    "# Print statistics\n",
    "print('Total time:', sum(times_cap))\n",
    "print('Average time:', np.average(times_cap))\n",
    "print('Standard deviation:', np.std(times_cap))\n",
    "print('Estimated budget:', 100 * (np.average(times_cap) + 3 * np.std(times_cap)))"
   ]
  }
 ],
 "metadata": {
  "kernelspec": {
   "display_name": "Python 3 (ipykernel)",
   "language": "python",
   "name": "python3"
  },
  "language_info": {
   "codemirror_mode": {
    "name": "ipython",
    "version": 3
   },
   "file_extension": ".py",
   "mimetype": "text/x-python",
   "name": "python",
   "nbconvert_exporter": "python",
   "pygments_lexer": "ipython3",
   "version": "3.8.12"
  }
 },
 "nbformat": 4,
 "nbformat_minor": 5
}
