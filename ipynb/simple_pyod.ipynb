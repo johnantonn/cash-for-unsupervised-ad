{
 "cells": [
  {
   "cell_type": "code",
   "execution_count": 11,
   "metadata": {},
   "outputs": [
    {
     "name": "stdout",
     "output_type": "stream",
     "text": [
      "Ratio of outliers in training set: 0.0675\n",
      "Ratio of outliers in test set: 0.068\n",
      "Training size: 4000\n",
      "Test size: 1000\n"
     ]
    }
   ],
   "source": [
    "# Shuttle dataset\n",
    "import pandas as pd\n",
    "import numpy as np\n",
    "from sklearn.model_selection import train_test_split\n",
    "from scipy.io import loadmat  # this is the SciPy module that loads mat-files\n",
    "mat = loadmat('data/shuttle.mat')  # load mat-file\n",
    "X = mat['X']\n",
    "y = mat['y']\n",
    "X = pd.DataFrame(X)\n",
    "y = pd.DataFrame(y)\n",
    "y = y[0]\n",
    "N = 5000\n",
    "if(len(X) > N):\n",
    "    X = X.sample(n=N, ignore_index=True, random_state=1)\n",
    "    y = y.sample(n=N, ignore_index=True, random_state=1)\n",
    "X_train, X_test, y_train, y_test = train_test_split(X, y, test_size=0.2, random_state=1, stratify=y) # stratified split\n",
    "# Reset indexes\n",
    "X_train.reset_index(drop=True, inplace=True)\n",
    "y_train.reset_index(drop=True, inplace=True)\n",
    "X_test.reset_index(drop=True, inplace=True)\n",
    "y_test.reset_index(drop=True, inplace=True)\n",
    "#X_train_norm = X_train.copy()\n",
    "#X_test_norm = X_test.copy()\n",
    "#for col in X_train_norm.columns:\n",
    "#    mu = X_train_norm[col].mean()\n",
    "#    sig = X_train_norm[col].std()\n",
    "#    X_train_norm[col] = (X_train_norm[col] - mu) / sig\n",
    "#    X_test_norm[col] = (X_test_norm[col] - mu) / sig\n",
    "#X_train = X_train_norm.copy()\n",
    "#X_test = X_test_norm.copy()\n",
    "print(\"Ratio of outliers in training set:\", len(y_train[y_train==1])/len(y_train))\n",
    "print(\"Ratio of outliers in test set:\", len(y_test[y_test==1])/len(y_test))\n",
    "print(\"Training size:\", len(X_train))\n",
    "print(\"Test size:\", len(X_test))"
   ]
  },
  {
   "cell_type": "code",
   "execution_count": 14,
   "metadata": {},
   "outputs": [
    {
     "name": "stdout",
     "output_type": "stream",
     "text": [
      "Model instance:\n",
      "Parameters: {'contamination': 0.2, 'method': 'fast', 'n_neighbors': None}\n",
      "\n",
      "Training set:\n",
      "Threshold: 1.1448777012994211\n",
      "Labels: [0 0 0 1 0]\n",
      "Scores: [0.9932974  0.92896782 1.01327518 1.47554265 1.05499819]\n",
      "Probabilities:\n",
      " [[9.98595828e-01 1.40417212e-03]\n",
      " [9.99146877e-01 8.53123218e-04]\n",
      " [9.98424698e-01 1.57530238e-03]\n",
      " [9.94464902e-01 5.53509829e-03]\n",
      " [9.98067297e-01 1.93270280e-03]]\n",
      "\n",
      "Test set\n",
      "Labels: [0 0 0 0 0 0 0 0 1 1]\n",
      "Scores: [1.02050582 0.91765847 1.00646129 1.10521261 1.07361277 1.12382384\n",
      " 1.14405579 1.04720045 5.5881038  1.2861105 ]\n",
      "Probabilities:\n",
      " [[9.98362760e-01 1.63724025e-03]\n",
      " [9.99243753e-01 7.56246976e-04]\n",
      " [9.98483066e-01 1.51693441e-03]\n",
      " [9.97637159e-01 2.36284091e-03]\n",
      " [9.97907844e-01 2.09215587e-03]\n",
      " [9.97477735e-01 2.52226528e-03]\n",
      " [9.97304427e-01 2.69557274e-03]\n",
      " [9.98134093e-01 1.86590718e-03]\n",
      " [9.59236589e-01 4.07634108e-02]\n",
      " [9.96087583e-01 3.91241723e-03]]\n"
     ]
    }
   ],
   "source": [
    "from pyod.models.cof import COF\n",
    "\n",
    "# train COF detector\n",
    "clf_name = 'COF'\n",
    "clf = COF(contamination=0.2, n_neighbors=20, method='fast')\n",
    "clf.fit(X_train)\n",
    "\n",
    "# get the prediction label and outlier scores of the training data\n",
    "y_train_pred = clf.labels_  # binary labels (0: inliers, 1: outliers)\n",
    "y_train_scores = clf.decision_scores_  # raw outlier scores\n",
    "y_train_proba = clf.predict_proba(X_train) # probability of outliers\n",
    "\n",
    "# get the prediction on the test data\n",
    "y_test_pred = clf.predict(X_test)  # outlier labels (0 or 1)\n",
    "y_test_scores = clf.decision_function(X_test)  # outlier scores\n",
    "y_test_proba = clf.predict_proba(X_test)  # probabilities in the range of [0,1]\n",
    "\n",
    "# Model instance\n",
    "print('Model instance:')\n",
    "print('Parameters:',clf.get_params())\n",
    "# Training set\n",
    "print(\"\\nTraining set:\")\n",
    "print('Threshold:',clf.threshold_)\n",
    "print('Labels:',clf.labels_[:5])\n",
    "print('Scores:',clf.decision_scores_[:5]) # y_train_scores[:5]\n",
    "print('Probabilities:\\n', y_train_proba[:5])\n",
    "# Test set\n",
    "print(\"\\nTest set\")\n",
    "print('Labels:',y_test_pred[15:25])\n",
    "print('Scores:',y_test_scores[15:25])\n",
    "print('Probabilities:\\n',y_test_proba[15:25])"
   ]
  },
  {
   "cell_type": "code",
   "execution_count": 15,
   "metadata": {},
   "outputs": [
    {
     "name": "stdout",
     "output_type": "stream",
     "text": [
      "\n",
      "On Training Data:\n",
      "COF ROC:0.6569, precision @ rank n:0.2667\n",
      "\n",
      "On Test Data:\n",
      "COF ROC:0.5, precision @ rank n:0.2206\n"
     ]
    }
   ],
   "source": [
    "from pyod.utils.data import evaluate_print\n",
    "\n",
    "# evaluate and print the results\n",
    "print(\"\\nOn Training Data:\")\n",
    "evaluate_print(clf_name, y_train, y_train_scores)\n",
    "print(\"\\nOn Test Data:\")\n",
    "evaluate_print(clf_name, y_test, y_test_scores)"
   ]
  },
  {
   "cell_type": "code",
   "execution_count": null,
   "metadata": {},
   "outputs": [],
   "source": []
  }
 ],
 "metadata": {
  "kernelspec": {
   "display_name": "Python 3 (ipykernel)",
   "language": "python",
   "name": "python3"
  },
  "language_info": {
   "codemirror_mode": {
    "name": "ipython",
    "version": 3
   },
   "file_extension": ".py",
   "mimetype": "text/x-python",
   "name": "python",
   "nbconvert_exporter": "python",
   "pygments_lexer": "ipython3",
   "version": "3.8.12"
  }
 },
 "nbformat": 4,
 "nbformat_minor": 4
}
