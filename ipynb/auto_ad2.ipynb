{
 "cells": [
  {
   "cell_type": "markdown",
   "id": "70ba3c3e-177c-4051-b7bd-def702574389",
   "metadata": {},
   "source": [
    "### Automated anomaly detection using PyOD and Auto-Sklearn\n",
    "This notebook incorporates anomaly detection algorithms from PyOD into Auto-Sklearn. The following steps are followed:\n",
    "- Auto-Sklearn is extended to incorporate PyOD algorithms\n",
    "- Anomaly detection dataset(s) are imported and pre-processed\n",
    "- Dataset is passed to Auto-Sklearn automl object for automated modeling and prediction\n",
    "- Results and stats are obtained and analyzed"
   ]
  },
  {
   "cell_type": "code",
   "execution_count": 1,
   "id": "59f6d5d8-2dd9-481a-98a0-9c84a6c2fe6e",
   "metadata": {},
   "outputs": [],
   "source": [
    "# Imports\n",
    "import os\n",
    "import pandas as pd\n",
    "import numpy as np\n",
    "from matplotlib import pyplot as plt\n",
    "from scipy.io import arff\n",
    "import sklearn.metrics\n",
    "from sklearn.model_selection import train_test_split, PredefinedSplit\n",
    "from autosklearn.pipeline.components.classification import add_classifier\n",
    "from autosklearn.classification import AutoSklearnClassifier\n",
    "from autosklearn.metrics import roc_auc, average_precision"
   ]
  },
  {
   "cell_type": "code",
   "execution_count": 2,
   "id": "b1464bd5-9d7d-4a4a-86e9-5f2a4ba912a9",
   "metadata": {},
   "outputs": [],
   "source": [
    "def import_dataset(filepath):\n",
    "    \"\"\" Function that reads the KDDCup99 dataset and returns a dataframe.\n",
    "\n",
    "    Args:\n",
    "        filename (str): The name of the file\n",
    "\n",
    "    Returns:\n",
    "        (df): The dataframe with the data contents\n",
    "    \"\"\"\n",
    "\n",
    "    # If file does not exist\n",
    "    if not os.path.exists(filepath):\n",
    "        raise FileNotFoundError(\"filepath %s does not exist\" % filepath)\n",
    "\n",
    "    # Load file to a df\n",
    "    data = arff.loadarff(filepath)\n",
    "    df = pd.DataFrame(data[0])\n",
    "    df.outlier = df.outlier.str.decode(\"utf-8\")\n",
    "    df['outlier'] = df['outlier'].map({'yes':1,'no':0}) \n",
    "    if 'id' in df:\n",
    "        del df['id']\n",
    "\n",
    "    return df"
   ]
  },
  {
   "cell_type": "code",
   "execution_count": 3,
   "id": "b0f26024-6f00-4c6e-a816-1e85b7aa8159",
   "metadata": {},
   "outputs": [
    {
     "name": "stdout",
     "output_type": "stream",
     "text": [
      "(1600, 21)\n",
      "(400, 21)\n"
     ]
    }
   ],
   "source": [
    "# Import DataFrame\n",
    "N = 2000\n",
    "df = import_dataset('data/Annthyroid_withoutdupl_norm_02_v01.arff')\n",
    "if(len(df) > N):\n",
    "    df = df.sample(n=N)\n",
    "# Extract X, y\n",
    "X  = df.iloc[:, :-1]\n",
    "y = df['outlier']\n",
    "X_train, X_test, y_train, y_test = train_test_split(X, y, test_size=0.2, random_state=10)\n",
    "print(X_train.shape)\n",
    "print(X_test.shape)"
   ]
  },
  {
   "cell_type": "code",
   "execution_count": 4,
   "id": "40dabce0-814b-4e9b-851b-ebb0c5988993",
   "metadata": {},
   "outputs": [],
   "source": [
    "# Import Auto-Sklearn implemented PyOD classifiers\n",
    "from src.pyod_models.abod import ABODClassifier # probabilistic\n",
    "from src.pyod_models.cblof import CBLOFClassifier # proximity-based\n",
    "from src.pyod_models.cof import COFClassifier # proximity-based\n",
    "from src.pyod_models.copod import COPODClassifier # probabilistic\n",
    "from src.pyod_models.ecod import ECODClassifier # probabilistic\n",
    "from src.pyod_models.hbos import HBOSClassifier # proximity-based\n",
    "from src.pyod_models.iforest import IForestClassifier # outlier ensembles\n",
    "from src.pyod_models.knn import KNNClassifier # proximity-based\n",
    "from src.pyod_models.lmdd import LMDDClassifier # linear model\n",
    "from src.pyod_models.loci import LOCIClassifier # proximity-based\n",
    "from src.pyod_models.lof import LOFClassifier # proximity-based\n",
    "from src.pyod_models.mad import MADClassifier # probabilistic\n",
    "from src.pyod_models.mcd import MCDClassifier # linear model\n",
    "from src.pyod_models.ocsvm import OCSVMClassifier # linear model\n",
    "from src.pyod_models.pca import PCAClassifier # linear model\n",
    "from src.pyod_models.rod import RODClassifier # proximity-based\n",
    "from src.pyod_models.sod import SODClassifier # proximity-based\n",
    "from src.pyod_models.sos import SOSClassifier # probabilistic\n",
    "# Add algorithms to the pipeline components of Auto-Sklearn\n",
    "add_classifier(ABODClassifier)\n",
    "add_classifier(CBLOFClassifier)\n",
    "add_classifier(COFClassifier)\n",
    "add_classifier(COPODClassifier)\n",
    "add_classifier(ECODClassifier)\n",
    "add_classifier(HBOSClassifier)\n",
    "add_classifier(IForestClassifier)\n",
    "add_classifier(KNNClassifier)\n",
    "add_classifier(LMDDClassifier)\n",
    "add_classifier(LOCIClassifier)\n",
    "add_classifier(LOFClassifier)\n",
    "add_classifier(MADClassifier)\n",
    "add_classifier(MCDClassifier)\n",
    "add_classifier(OCSVMClassifier)\n",
    "add_classifier(PCAClassifier)\n",
    "add_classifier(RODClassifier)\n",
    "add_classifier(SODClassifier)\n",
    "add_classifier(SOSClassifier)"
   ]
  },
  {
   "cell_type": "code",
   "execution_count": 7,
   "id": "2840b86b-ea73-4820-b0fb-07177118b537",
   "metadata": {},
   "outputs": [
    {
     "name": "stdout",
     "output_type": "stream",
     "text": [
      "Number of outliers: 30\n",
      "Number of sacrificed outliers: 1\n",
      "Number of validation samples: 189\n",
      "Number of training samples: 1411\n"
     ]
    }
   ],
   "source": [
    "# Pre-defined split indices for train and validation\n",
    "selected_indices = []\n",
    "sacrificed_outliers = 0 # count of outliers sampled for the training set\n",
    "for v in y_train:\n",
    "    if v==1: # outlier\n",
    "        if np.random.rand()>0.05:\n",
    "            selected_indices.append(1) # validation\n",
    "        else:\n",
    "            selected_indices.append(0) # training\n",
    "            sacrificed_outliers += 1 # will not be used for evaluation\n",
    "    else:\n",
    "        if np.random.rand()>0.9:\n",
    "            selected_indices.append(1) # validation\n",
    "        else:\n",
    "            selected_indices.append(0) # training\n",
    "# prints\n",
    "print('Number of outliers:', sum(y_train))\n",
    "print('Number of sacrificed outliers:', sacrificed_outliers)\n",
    "print('Number of validation samples:', sum(selected_indices))\n",
    "print('Number of training samples:', len(y_train) - sum(selected_indices))"
   ]
  },
  {
   "cell_type": "code",
   "execution_count": 8,
   "id": "21302870-7540-4392-b114-2c25305b84a2",
   "metadata": {},
   "outputs": [
    {
     "data": {
      "text/plain": [
       "AutoSklearnClassifier(delete_tmp_folder_after_terminate=False, ensemble_size=1,\n",
       "                      include={'classifier': ['ABODClassifier',\n",
       "                                              'CBLOFClassifier',\n",
       "                                              'COPODClassifier',\n",
       "                                              'ECODClassifier',\n",
       "                                              'HBOSClassifier',\n",
       "                                              'IForestClassifier',\n",
       "                                              'KNNClassifier', 'LMDDClassifier',\n",
       "                                              'LOCIClassifier', 'LOFClassifier',\n",
       "                                              'MCDClassifier',\n",
       "                                              'OCSVMClassifier',\n",
       "                                              'PCAClassifier', 'RODClassifier',\n",
       "                                              'SOSClassifier'],\n",
       "                               'feature_preprocessor': ['no_preprocessing']},\n",
       "                      initial_configurations_via_metalearning=0, metric=roc_auc,\n",
       "                      per_run_time_limit=10,\n",
       "                      resampling_strategy=PredefinedSplit(test_fold=array([0, 0, ..., 0, 0])),\n",
       "                      scoring_functions=[roc_auc, average_precision],\n",
       "                      time_left_for_this_task=60)"
      ]
     },
     "execution_count": 8,
     "metadata": {},
     "output_type": "execute_result"
    }
   ],
   "source": [
    "# Build and fit a classifier\n",
    "resampling_strategy = PredefinedSplit(test_fold=selected_indices)\n",
    "automl = AutoSklearnClassifier(\n",
    "    include = {\n",
    "      'classifier': [\n",
    "          'ABODClassifier',\n",
    "          'CBLOFClassifier',\n",
    "          #'COFClassifier',\n",
    "          'COPODClassifier',\n",
    "          'ECODClassifier',\n",
    "          'HBOSClassifier',\n",
    "          'IForestClassifier',\n",
    "          'KNNClassifier',\n",
    "          'LMDDClassifier',\n",
    "          'LOCIClassifier',\n",
    "          'LOFClassifier',\n",
    "          #'MADClassifier', # only for univariate data\n",
    "          'MCDClassifier',\n",
    "          'OCSVMClassifier',\n",
    "          'PCAClassifier',\n",
    "          'RODClassifier',\n",
    "          #'SODClassifier',\n",
    "          'SOSClassifier'\n",
    "      ],\n",
    "      'feature_preprocessor': [\"no_preprocessing\"],\n",
    "    },\n",
    "    exclude = None,\n",
    "    metric = roc_auc,\n",
    "    scoring_functions = [roc_auc, average_precision],\n",
    "    time_left_for_this_task = 60,\n",
    "    per_run_time_limit = 10,\n",
    "    ensemble_size = 1,\n",
    "    initial_configurations_via_metalearning = 0,\n",
    "    delete_tmp_folder_after_terminate = False,\n",
    "    resampling_strategy = resampling_strategy,\n",
    ")\n",
    "# Fit\n",
    "automl.fit(X_train, y_train, X_test, y_test, dataset_name='Annthyroid')"
   ]
  },
  {
   "cell_type": "code",
   "execution_count": 9,
   "id": "17a82302-1d15-4a73-bba4-04057f3f47c8",
   "metadata": {},
   "outputs": [
    {
     "name": "stdout",
     "output_type": "stream",
     "text": [
      "auto-sklearn results:\n",
      "  Dataset name: Annthyroid\n",
      "  Metric: roc_auc\n",
      "  Best validation score: 0.418934\n",
      "  Number of target algorithm runs: 8\n",
      "  Number of successful target algorithm runs: 7\n",
      "  Number of crashed target algorithm runs: 0\n",
      "  Number of target algorithms that exceeded the time limit: 1\n",
      "  Number of target algorithms that exceeded the memory limit: 0\n",
      "\n",
      "          rank  ensemble_weight            type      cost  duration\n",
      "model_id                                                           \n",
      "2            1              1.0  ABODClassifier  0.748985   6.94044\n",
      "\n",
      "{2: {'model_id': 2, 'rank': 1, 'cost': 0.7489850991226461, 'ensemble_weight': 1.0, 'data_preprocessor': <autosklearn.pipeline.components.data_preprocessing.DataPreprocessorChoice object at 0x7ff4fa3a1f70>, 'balancing': Balancing(random_state=1), 'feature_preprocessor': <autosklearn.pipeline.components.feature_preprocessing.FeaturePreprocessorChoice object at 0x7ff4ea58cfa0>, 'classifier': <autosklearn.pipeline.components.classification.ClassifierChoice object at 0x7ff4ea58c850>, 'sklearn_classifier': None}}\n"
     ]
    }
   ],
   "source": [
    "# auto-sklearn execution details\n",
    "print(automl.sprint_statistics())\n",
    "# Top ranked model\n",
    "print(automl.leaderboard(top_k=10))\n",
    "# Top ranked model configuration\n",
    "print()\n",
    "print(automl.show_models())"
   ]
  },
  {
   "cell_type": "code",
   "execution_count": 10,
   "id": "394c7915-2386-43f7-8036-5f77061198c8",
   "metadata": {},
   "outputs": [
    {
     "name": "stdout",
     "output_type": "stream",
     "text": [
      "ROC AUC score on test set: 0.8495092693565977\n"
     ]
    }
   ],
   "source": [
    "# Refit due to PredefinedSplit\n",
    "automl.refit(X_train, y_train)\n",
    "# Evaluate on test set\n",
    "y_pred = automl.predict_proba(X_test)\n",
    "# score\n",
    "score = roc_auc(y_test,y_pred[:,1])\n",
    "print(\"ROC AUC score on test set:\", score)"
   ]
  },
  {
   "cell_type": "code",
   "execution_count": 13,
   "id": "a33a7330-2800-460b-9649-21b2f56a2955",
   "metadata": {},
   "outputs": [
    {
     "name": "stdout",
     "output_type": "stream",
     "text": [
      " rank_test_scores  status param_classifier:__choice__  mean_test_score  mean_fit_time  metric_roc_auc  metric_average_precision\n",
      "                1 Success              ECODClassifier         0.418934       2.618977        0.418934                  0.054557\n",
      "                2 Success               KNNClassifier         0.391217       3.272346        0.391217                  0.032272\n",
      "                3 Success           IForestClassifier         0.282947       4.358127        0.282947                  0.049599\n",
      "                4 Success              ABODClassifier         0.251015       6.940440        0.251015                  0.058224\n",
      "                5 Success              HBOSClassifier         0.203849       5.329703        0.203849                  0.080602\n",
      "                6 Success               LOFClassifier         0.107975       3.036151        0.107975                  0.030317\n",
      "                7 Success               KNNClassifier         0.082820       4.275295        0.082820                  0.034123\n",
      "                8 Timeout              LMDDClassifier         0.000000      10.038338             NaN                       NaN\n"
     ]
    }
   ],
   "source": [
    "# Get metric results function definition\n",
    "def get_metric_result(cv_results):\n",
    "    results = pd.DataFrame.from_dict(cv_results)\n",
    "    cols = ['rank_test_scores', 'status', 'param_classifier:__choice__', 'mean_test_score', 'mean_fit_time']\n",
    "    cols.extend([key for key in cv_results.keys() if key.startswith('metric_')]) # if there are additional metrics\n",
    "    return results[cols].sort_values(['rank_test_scores'])\n",
    "\n",
    "# Call the function\n",
    "print(get_metric_result(automl.cv_results_).to_string(index=False))"
   ]
  },
  {
   "cell_type": "code",
   "execution_count": 14,
   "id": "2548eea3-a5ac-4845-b883-61141f5b10da",
   "metadata": {},
   "outputs": [
    {
     "data": {
      "image/png": "[encoded data removed]",
      "text/plain": [
       "<Figure size 432x288 with 1 Axes>"
      ]
     },
     "metadata": {
      "needs_background": "light"
     },
     "output_type": "display_data"
    }
   ],
   "source": [
    "# Plot training performance over time\n",
    "automl.performance_over_time_.plot(\n",
    "   x='Timestamp',\n",
    "   kind='line',\n",
    "   legend=True,\n",
    "   title='Auto-sklearn: ROC AUC score over time',\n",
    "   grid=True,\n",
    ")\n",
    "plt.show()"
   ]
  },
  {
   "cell_type": "code",
   "execution_count": null,
   "id": "709d8ab2-1923-41a4-bc6d-7fb5dfe0c2e2",
   "metadata": {},
   "outputs": [],
   "source": []
  }
 ],
 "metadata": {
  "kernelspec": {
   "display_name": "Python 3 (ipykernel)",
   "language": "python",
   "name": "python3"
  },
  "language_info": {
   "codemirror_mode": {
    "name": "ipython",
    "version": 3
   },
   "file_extension": ".py",
   "mimetype": "text/x-python",
   "name": "python",
   "nbconvert_exporter": "python",
   "pygments_lexer": "ipython3",
   "version": "3.8.12"
  }
 },
 "nbformat": 4,
 "nbformat_minor": 5
}
