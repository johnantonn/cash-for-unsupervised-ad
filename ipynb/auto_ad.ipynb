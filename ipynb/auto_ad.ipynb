{
 "cells": [
  {
   "cell_type": "markdown",
   "id": "70ba3c3e-177c-4051-b7bd-def702574389",
   "metadata": {},
   "source": [
    "### Automated anomaly detection using PyOD and Auto-Sklearn\n",
    "This notebook incorporates anomaly detection algorithms from PyOD into Auto-Sklearn. The following steps are followed:\n",
    "- Auto-Sklearn is extended to incorporate PyOD algorithms\n",
    "- Anomaly detection dataset(s) are imported and pre-processed\n",
    "- Dataset is passed to Auto-Sklearn automl object for automated modeling and prediction\n",
    "- Results and stats are obtained and analyzed"
   ]
  },
  {
   "cell_type": "code",
   "execution_count": 1,
   "id": "59f6d5d8-2dd9-481a-98a0-9c84a6c2fe6e",
   "metadata": {},
   "outputs": [],
   "source": [
    "# Imports\n",
    "import pandas as pd\n",
    "import numpy as np\n",
    "import sklearn.metrics\n",
    "import autosklearn.classification\n",
    "from sklearn.model_selection import train_test_split\n",
    "from autosklearn.metrics import roc_auc, average_precision\n",
    "from scipy.io import arff\n",
    "from matplotlib import pyplot as plt"
   ]
  },
  {
   "cell_type": "code",
   "execution_count": 2,
   "id": "b1464bd5-9d7d-4a4a-86e9-5f2a4ba912a9",
   "metadata": {},
   "outputs": [
    {
     "name": "stdout",
     "output_type": "stream",
     "text": [
      "Ratio of outliers in training set: 0.0675\n",
      "Ratio of outliers in test set: 0.068\n",
      "Training size: 4000\n",
      "Test size: 1000\n"
     ]
    }
   ],
   "source": [
    "# Shuttle dataset\n",
    "from scipy.io import loadmat  # this is the SciPy module that loads mat-files\n",
    "mat = loadmat('../data/shuttle.mat')  # load mat-file\n",
    "X = mat['X']\n",
    "y = mat['y']\n",
    "X = pd.DataFrame(X)\n",
    "y = pd.DataFrame(y)\n",
    "y = y[0]\n",
    "N = 5000\n",
    "if(len(X) > N):\n",
    "    X = X.sample(n=N, ignore_index=True, random_state=1)\n",
    "    y = y.sample(n=N, ignore_index=True, random_state=1)\n",
    "X_train, X_test, y_train, y_test = train_test_split(X, y, test_size=0.2, random_state=1, stratify=y) # stratified split\n",
    "# Reset indexes\n",
    "X_train.reset_index(drop=True, inplace=True)\n",
    "y_train.reset_index(drop=True, inplace=True)\n",
    "X_test.reset_index(drop=True, inplace=True)\n",
    "y_test.reset_index(drop=True, inplace=True)\n",
    "#X_train_norm = X_train.copy()\n",
    "#X_test_norm = X_test.copy()\n",
    "#for col in X_train_norm.columns:\n",
    "#    mu = X_train_norm[col].mean()\n",
    "#    sig = X_train_norm[col].std()\n",
    "#    X_train_norm[col] = (X_train_norm[col] - mu) / sig\n",
    "#    X_test_norm[col] = (X_test_norm[col] - mu) / sig\n",
    "#X_train = X_train_norm.copy()\n",
    "#X_test = X_test_norm.copy()\n",
    "print(\"Ratio of outliers in training set:\", len(y_train[y_train==1])/len(y_train))\n",
    "print(\"Ratio of outliers in test set:\", len(y_test[y_test==1])/len(y_test))\n",
    "print(\"Training size:\", len(X_train))\n",
    "print(\"Test size:\", len(X_test))"
   ]
  },
  {
   "cell_type": "code",
   "execution_count": null,
   "id": "40dabce0-814b-4e9b-851b-ebb0c5988993",
   "metadata": {},
   "outputs": [
    {
     "ename": "SyntaxError",
     "evalue": "invalid syntax (3481494486.py, line 2)",
     "output_type": "error",
     "traceback": [
      "\u001b[0;36m  Input \u001b[0;32mIn [5]\u001b[0;36m\u001b[0m\n\u001b[0;31m    from ../src.pyod_models.abod import ABODClassifier # probabilistic\u001b[0m\n\u001b[0m           ^\u001b[0m\n\u001b[0;31mSyntaxError\u001b[0m\u001b[0;31m:\u001b[0m invalid syntax\n"
     ]
    }
   ],
   "source": [
    "# Import Auto-Sklearn implemented PyOD classifiers\n",
    "from pyod_models.abod import ABODClassifier # probabilistic\n",
    "from pyod_models.cblof import CBLOFClassifier # proximity-based\n",
    "from pyod_models.cof import COFClassifier # proximity-based\n",
    "from pyod_models.copod import COPODClassifier # probabilistic\n",
    "from pyod_models.ecod import ECODClassifier # probabilistic\n",
    "from pyod_models.hbos import HBOSClassifier # proximity-based\n",
    "from pyod_models.iforest import IForestClassifier # outlier ensembles\n",
    "from pyod_models.knn import KNNClassifier # proximity-based\n",
    "from pyod_models.lmdd import LMDDClassifier # linear model\n",
    "from pyod_models.loci import LOCIClassifier # proximity-based\n",
    "from pyod_models.lof import LOFClassifier # proximity-based\n",
    "from pyod_models.mad import MADClassifier # probabilistic\n",
    "from pyod_models.mcd import MCDClassifier # linear model\n",
    "from pyod_models.ocsvm import OCSVMClassifier # linear model\n",
    "from pyod_models.pca import PCAClassifier # linear model\n",
    "from pyod_models.rod import RODClassifier # proximity-based\n",
    "from pyod_models.sod import SODClassifier # proximity-based\n",
    "from pyod_models.sos import SOSClassifier # probabilistic\n",
    "# Add algorithms to the pipeline components of Auto-Sklearn\n",
    "autosklearn.pipeline.components.classification.add_classifier(ABODClassifier)\n",
    "autosklearn.pipeline.components.classification.add_classifier(CBLOFClassifier)\n",
    "autosklearn.pipeline.components.classification.add_classifier(COFClassifier)\n",
    "autosklearn.pipeline.components.classification.add_classifier(COPODClassifier)\n",
    "autosklearn.pipeline.components.classification.add_classifier(ECODClassifier)\n",
    "autosklearn.pipeline.components.classification.add_classifier(HBOSClassifier)\n",
    "autosklearn.pipeline.components.classification.add_classifier(IForestClassifier)\n",
    "autosklearn.pipeline.components.classification.add_classifier(KNNClassifier)\n",
    "autosklearn.pipeline.components.classification.add_classifier(LMDDClassifier)\n",
    "autosklearn.pipeline.components.classification.add_classifier(LOCIClassifier)\n",
    "autosklearn.pipeline.components.classification.add_classifier(LOFClassifier)\n",
    "autosklearn.pipeline.components.classification.add_classifier(MADClassifier)\n",
    "autosklearn.pipeline.components.classification.add_classifier(MCDClassifier)\n",
    "autosklearn.pipeline.components.classification.add_classifier(OCSVMClassifier)\n",
    "autosklearn.pipeline.components.classification.add_classifier(PCAClassifier)\n",
    "autosklearn.pipeline.components.classification.add_classifier(RODClassifier)\n",
    "autosklearn.pipeline.components.classification.add_classifier(SODClassifier)\n",
    "autosklearn.pipeline.components.classification.add_classifier(SOSClassifier)"
   ]
  },
  {
   "cell_type": "code",
   "execution_count": 14,
   "id": "2840b86b-ea73-4820-b0fb-07177118b537",
   "metadata": {},
   "outputs": [
    {
     "name": "stdout",
     "output_type": "stream",
     "text": [
      "Length of selected indices: 4000\n",
      "Number of total samples: 4000\n",
      "Number of outliers: 270\n",
      "Number of sacrificed outliers: 11\n",
      "Number of validation samples: 609\n",
      "Number of training samples: 3391\n"
     ]
    }
   ],
   "source": [
    "# Pre-defined split indices for train and validation\n",
    "selected_indices = []\n",
    "sacrificed_outliers = 0 # count of outliers sampled for the training set\n",
    "for v in y_train:\n",
    "    if v==1: # outlier\n",
    "        if np.random.rand()>0.05:\n",
    "            selected_indices.append(1) # validation\n",
    "        else:\n",
    "            selected_indices.append(0) # training\n",
    "            sacrificed_outliers += 1 # will not be used for evaluation\n",
    "    else:\n",
    "        if np.random.rand()>0.9:\n",
    "            selected_indices.append(1) # validation\n",
    "        else:\n",
    "            selected_indices.append(0) # training\n",
    "# prints\n",
    "print('Length of selected indices:', len(selected_indices))\n",
    "print('Number of total samples:', len(y_train))\n",
    "print('Number of outliers:', sum(y_train))\n",
    "print('Number of sacrificed outliers:', sacrificed_outliers)\n",
    "print('Number of validation samples:', sum(selected_indices))\n",
    "print('Number of training samples:', len(y_train) - sum(selected_indices))"
   ]
  },
  {
   "cell_type": "code",
   "execution_count": 15,
   "id": "21302870-7540-4392-b114-2c25305b84a2",
   "metadata": {},
   "outputs": [
    {
     "name": "stdout",
     "output_type": "stream",
     "text": [
      "Running fit...\n"
     ]
    },
    {
     "data": {
      "text/plain": [
       "AutoSklearnClassifier(delete_tmp_folder_after_terminate=False, ensemble_size=1,\n",
       "                      include={'classifier': ['ABODClassifier',\n",
       "                                              'CBLOFClassifier',\n",
       "                                              'COPODClassifier',\n",
       "                                              'ECODClassifier',\n",
       "                                              'HBOSClassifier',\n",
       "                                              'IForestClassifier',\n",
       "                                              'KNNClassifier', 'LMDDClassifier',\n",
       "                                              'LOCIClassifier', 'LOFClassifier',\n",
       "                                              'MCDClassifier',\n",
       "                                              'OCSVMClassifier',\n",
       "                                              'PCAClassifier', 'RODClassifier',\n",
       "                                              'SODClassifier',\n",
       "                                              'SOSClassifier'],\n",
       "                               'feature_preprocessor': ['no_preprocessing']},\n",
       "                      initial_configurations_via_metalearning=0, metric=roc_auc,\n",
       "                      per_run_time_limit=30,\n",
       "                      resampling_strategy=PredefinedSplit(test_fold=array([1, 0, ..., 1, 0])),\n",
       "                      scoring_functions=[roc_auc, average_precision],\n",
       "                      time_left_for_this_task=600)"
      ]
     },
     "execution_count": 15,
     "metadata": {},
     "output_type": "execute_result"
    }
   ],
   "source": [
    "# Build and fit a classifier\n",
    "resampling_strategy = sklearn.model_selection.PredefinedSplit(test_fold=selected_indices)\n",
    "automl = autosklearn.classification.AutoSklearnClassifier(\n",
    "    include = {\n",
    "      'classifier': [\n",
    "          'ABODClassifier',\n",
    "          'CBLOFClassifier',\n",
    "          #'COFClassifier',\n",
    "          'COPODClassifier',\n",
    "          'ECODClassifier',\n",
    "          'HBOSClassifier',\n",
    "          'IForestClassifier',\n",
    "          'KNNClassifier',\n",
    "          'LMDDClassifier',\n",
    "          'LOCIClassifier',\n",
    "          'LOFClassifier',\n",
    "          #'MADClassifier', # only for univariate data\n",
    "          'MCDClassifier',\n",
    "          'OCSVMClassifier',\n",
    "          'PCAClassifier',\n",
    "          'RODClassifier',\n",
    "          'SODClassifier',\n",
    "          'SOSClassifier'\n",
    "      ],\n",
    "      'feature_preprocessor': [\"no_preprocessing\"],\n",
    "    },\n",
    "    exclude=None,\n",
    "    metric=roc_auc,\n",
    "    scoring_functions = [ roc_auc, average_precision],\n",
    "    time_left_for_this_task=600,\n",
    "    per_run_time_limit=30,\n",
    "    ensemble_size=1,\n",
    "    initial_configurations_via_metalearning=0,\n",
    "    delete_tmp_folder_after_terminate=False,\n",
    "    resampling_strategy=resampling_strategy,\n",
    "    #resampling_strategy_arguments={'train_size': 0.67}\n",
    "    #resampling_strategy='cv',\n",
    "    #resampling_strategy_arguments={'folds': 10}\n",
    ")\n",
    "# Fit\n",
    "print('Running fit...')\n",
    "automl.fit(X_train, y_train, X_test, y_test, dataset_name='Shuttle')"
   ]
  },
  {
   "cell_type": "code",
   "execution_count": 16,
   "id": "17a82302-1d15-4a73-bba4-04057f3f47c8",
   "metadata": {},
   "outputs": [
    {
     "name": "stdout",
     "output_type": "stream",
     "text": [
      "auto-sklearn results:\n",
      "  Dataset name: Shuttle\n",
      "  Metric: roc_auc\n",
      "  Best validation score: 0.995356\n",
      "  Number of target algorithm runs: 69\n",
      "  Number of successful target algorithm runs: 54\n",
      "  Number of crashed target algorithm runs: 6\n",
      "  Number of target algorithms that exceeded the time limit: 9\n",
      "  Number of target algorithms that exceeded the memory limit: 0\n",
      "\n"
     ]
    }
   ],
   "source": [
    "# auto-sklearn execution details\n",
    "print(automl.sprint_statistics())\n",
    "# Top ranked model\n",
    "#print(automl.leaderboard(top_k=10))\n",
    "# Top ranked model configuration\n",
    "#print()\n",
    "#print(automl.show_models())"
   ]
  },
  {
   "cell_type": "code",
   "execution_count": 17,
   "id": "394c7915-2386-43f7-8036-5f77061198c8",
   "metadata": {},
   "outputs": [
    {
     "name": "stdout",
     "output_type": "stream",
     "text": [
      "Running refit...\n",
      "ROC AUC score: 0.985972607927291\n"
     ]
    }
   ],
   "source": [
    "print('Running refit...')\n",
    "automl.refit(X_train, y_train)\n",
    "# Evaluate on test set\n",
    "y_pred=automl.predict_proba(X_test)\n",
    "# score\n",
    "score=sklearn.metrics.roc_auc_score(y_test,y_pred[:,1])\n",
    "print(\"ROC AUC score:\", score)"
   ]
  },
  {
   "cell_type": "code",
   "execution_count": 18,
   "id": "a33a7330-2800-460b-9649-21b2f56a2955",
   "metadata": {},
   "outputs": [
    {
     "name": "stdout",
     "output_type": "stream",
     "text": [
      " rank_test_scores  status param_classifier:__choice__  mean_test_score  mean_fit_time  metric_roc_auc  metric_average_precision\n",
      "                1 Success             COPODClassifier         0.995356       1.798468        0.995356                  0.428383\n",
      "                1 Success             COPODClassifier         0.995356       2.119617        0.995356                  0.428383\n",
      "                1 Success             COPODClassifier         0.995356       2.097987        0.995356                  0.428383\n",
      "                1 Success             COPODClassifier         0.995356       2.325945        0.995356                  0.428383\n",
      "                1 Success             COPODClassifier         0.995356       2.381931        0.995356                  0.428383\n",
      "                1 Success             COPODClassifier         0.995356       2.282411        0.995356                  0.428383\n",
      "                1 Success             COPODClassifier         0.995356       2.206191        0.995356                  0.428383\n",
      "                1 Success             COPODClassifier         0.995356       2.429363        0.995356                  0.428383\n",
      "                1 Success             COPODClassifier         0.995356       1.849719        0.995356                  0.428383\n",
      "                1 Success             COPODClassifier         0.995356       2.401506        0.995356                  0.428383\n",
      "                1 Success             COPODClassifier         0.995356       2.060582        0.995356                  0.428383\n",
      "                1 Success             COPODClassifier         0.995356       2.470187        0.995356                  0.428383\n",
      "                1 Success             COPODClassifier         0.995356       2.149921        0.995356                  0.428383\n",
      "                1 Success             COPODClassifier         0.995356       2.405604        0.995356                  0.428383\n",
      "                1 Success             COPODClassifier         0.995356       2.098316        0.995356                  0.428383\n",
      "                1 Success             COPODClassifier         0.995356       1.729685        0.995356                  0.428383\n",
      "                1 Success             COPODClassifier         0.995356       2.392230        0.995356                  0.428383\n",
      "               18 Success             COPODClassifier         0.993366       2.217144        0.993366                  0.381913\n",
      "               19 Success              ECODClassifier         0.989477       1.724312        0.989477                  0.302171\n",
      "               19 Success              ECODClassifier         0.989477       2.430182        0.989477                  0.302171\n",
      "               19 Success              ECODClassifier         0.989477       1.889080        0.989477                  0.302171\n",
      "               19 Success              ECODClassifier         0.989477       2.065628        0.989477                  0.302171\n",
      "               19 Success              ECODClassifier         0.989477       2.003330        0.989477                  0.302171\n",
      "               19 Success              ECODClassifier         0.989477       2.188189        0.989477                  0.302171\n",
      "               25 Success             COPODClassifier         0.987730       1.878310        0.987730                  0.256430\n",
      "               25 Success             COPODClassifier         0.987730       2.455016        0.987730                  0.256430\n",
      "               27 Success              ECODClassifier         0.983598       2.436580        0.983598                  0.226275\n",
      "               28 Success               RODClassifier         0.878055      14.675817        0.878055                  0.188113\n",
      "               29 Success               SOSClassifier         0.858870      18.290594        0.858870                  0.146336\n",
      "               30 Success               RODClassifier         0.857946      15.489835        0.857946                  0.179991\n",
      "               31 Success               SOSClassifier         0.839558      12.838599        0.839558                  0.262226\n",
      "               32 Success               KNNClassifier         0.813927       3.900129        0.813927                  0.159450\n",
      "               33 Success               RODClassifier         0.799029      13.514783        0.799029                  0.181846\n",
      "               34 Success             COPODClassifier         0.780849       2.171498        0.780849                  0.173278\n",
      "               35 Success               PCAClassifier         0.757098       2.041086        0.757098                  0.159250\n",
      "               36 Success              HBOSClassifier         0.749584       5.770454        0.749584                  0.159666\n",
      "               37 Success              HBOSClassifier         0.736319       4.520706        0.736319                  0.143195\n",
      "               38 Success              HBOSClassifier         0.714364       4.663912        0.714364                  0.153998\n",
      "               39 Success           IForestClassifier         0.702515       6.137724        0.702515                  0.194565\n",
      "               40 Success           IForestClassifier         0.697115       3.984354        0.697115                  0.171634\n",
      "               41 Success               LOFClassifier         0.688906       2.457813        0.688906                  0.165731\n",
      "               42 Success           IForestClassifier         0.615454       7.916240        0.615454                  0.157123\n",
      "               43 Success              HBOSClassifier         0.612685       3.949118        0.612685                  0.157958\n",
      "               44 Success             OCSVMClassifier         0.605720       2.999299        0.605720                  0.166279\n",
      "               45 Success               KNNClassifier         0.593778       3.174405        0.593778                  0.157434\n",
      "               46 Success               MCDClassifier         0.556379       3.218946        0.556379                  0.145356\n",
      "               47 Success               LOFClassifier         0.552294       2.504781        0.552294                  0.166458\n",
      "               48 Success               LOFClassifier         0.539620       2.738481        0.539620                  0.154958\n",
      "               49 Success             OCSVMClassifier         0.477104       2.768018        0.477104                  0.061660\n",
      "               50 Success             CBLOFClassifier         0.427225       3.805395        0.427225                  0.154206\n",
      "               51 Success               MCDClassifier         0.426813       5.376346        0.426813                  0.155385\n",
      "               52 Success              ABODClassifier         0.339915      11.416590        0.339915                  0.134685\n",
      "               53 Success               KNNClassifier         0.325062       2.587631        0.325062                  0.158898\n",
      "               54 Success             OCSVMClassifier         0.005799       1.870539        0.005799                  0.040588\n",
      "               55   Crash               SODClassifier         0.000000       1.311812             NaN                       NaN\n",
      "               55   Crash               SODClassifier         0.000000       6.786714             NaN                       NaN\n",
      "               55   Crash               SODClassifier         0.000000       8.362355             NaN                       NaN\n",
      "               55 Timeout              LMDDClassifier         0.000000      30.039121             NaN                       NaN\n",
      "               55 Timeout              ABODClassifier         0.000000      30.036159             NaN                       NaN\n",
      "               55 Timeout              LMDDClassifier         0.000000      30.035744             NaN                       NaN\n",
      "               55   Crash               SODClassifier         0.000000       6.971220             NaN                       NaN\n",
      "               55   Crash             CBLOFClassifier         0.000000       0.948117             NaN                       NaN\n",
      "               55 Timeout              LOCIClassifier         0.000000      30.039263             NaN                       NaN\n",
      "               55   Crash               SODClassifier         0.000000       6.936909             NaN                       NaN\n",
      "               55 Timeout              LOCIClassifier         0.000000      30.035486             NaN                       NaN\n",
      "               55 Timeout              LOCIClassifier         0.000000      30.039846             NaN                       NaN\n",
      "               55 Timeout              ABODClassifier         0.000000      30.038949             NaN                       NaN\n",
      "               55 Timeout              LMDDClassifier         0.000000      30.042561             NaN                       NaN\n",
      "               55 Timeout             COPODClassifier         0.000000       2.040699             NaN                       NaN\n"
     ]
    }
   ],
   "source": [
    "# Get metric results function definition\n",
    "def get_metric_result(cv_results):\n",
    "    results = pd.DataFrame.from_dict(cv_results)\n",
    "    #results = results[results['status'] == \"Success\"] # if we're interested only in successful runs\n",
    "    cols = ['rank_test_scores', 'status', 'param_classifier:__choice__', 'mean_test_score', 'mean_fit_time']\n",
    "    cols.extend([key for key in cv_results.keys() if key.startswith('metric_')]) # if there are additional metrics\n",
    "    return results[cols].sort_values(['rank_test_scores'])\n",
    "# Call the function\n",
    "print(get_metric_result(automl.cv_results_).to_string(index=False))"
   ]
  },
  {
   "cell_type": "code",
   "execution_count": 19,
   "id": "2548eea3-a5ac-4845-b883-61141f5b10da",
   "metadata": {},
   "outputs": [
    {
     "data": {
      "image/png": "[encoded data removed]",
      "text/plain": [
       "<Figure size 432x288 with 1 Axes>"
      ]
     },
     "metadata": {
      "needs_background": "light"
     },
     "output_type": "display_data"
    }
   ],
   "source": [
    "# Plot training performance over time\n",
    "automl.performance_over_time_.plot(\n",
    "   x='Timestamp',\n",
    "   kind='line',\n",
    "   legend=True,\n",
    "   title='Auto-sklearn ROC AUC score over time',\n",
    "   grid=True,\n",
    ")\n",
    "plt.show()"
   ]
  },
  {
   "cell_type": "code",
   "execution_count": null,
   "id": "57a26e0e-2d54-4362-9acf-30e779ce9afa",
   "metadata": {},
   "outputs": [],
   "source": [
    "#import pickle\n",
    "# Save trained model\n",
    "#with open('model.pkl', 'wb') as f:\n",
    "#    pickle.dump(automl, f)\n",
    "# Load saved model\n",
    "#with open('model.pkl' , 'rb') as f:\n",
    "#    mdl = pickle.load(f)\n",
    "#mdl.show_models()"
   ]
  },
  {
   "cell_type": "code",
   "execution_count": null,
   "id": "f52e8c7b-280b-47ec-81fb-81281fd38642",
   "metadata": {},
   "outputs": [],
   "source": []
  }
 ],
 "metadata": {
  "kernelspec": {
   "display_name": "Python 3 (ipykernel)",
   "language": "python",
   "name": "python3"
  },
  "language_info": {
   "codemirror_mode": {
    "name": "ipython",
    "version": 3
   },
   "file_extension": ".py",
   "mimetype": "text/x-python",
   "name": "python",
   "nbconvert_exporter": "python",
   "pygments_lexer": "ipython3",
   "version": "3.8.12"
  }
 },
 "nbformat": 4,
 "nbformat_minor": 5
}
