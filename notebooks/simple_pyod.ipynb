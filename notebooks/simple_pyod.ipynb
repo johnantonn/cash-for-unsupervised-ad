{
 "cells": [
  {
   "cell_type": "code",
   "execution_count": 66,
   "metadata": {},
   "outputs": [],
   "source": [
    "# This is a simple example of PyOD usage\n",
    "# Its goal is to understand the basic functionality of a PyOD algorithm\n",
    "# and the way the scores, probabilities and final predicted labels are calculated."
   ]
  },
  {
   "cell_type": "code",
   "execution_count": 67,
   "metadata": {},
   "outputs": [
    {
     "name": "stdout",
     "output_type": "stream",
     "text": [
      "Size of sampled dataset: 10000\n",
      "Ratio of outliers in training set: 0.0285\n",
      "Ratio of outliers in test set: 0.0285\n",
      "Training size: 8000\n",
      "Test size: 2000\n"
     ]
    }
   ],
   "source": [
    "import pandas as pd\n",
    "from scipy.io import arff\n",
    "from sklearn.model_selection import train_test_split\n",
    "\n",
    "# Import dataset\n",
    "data = arff.loadarff(\"ALOI_withoutdupl.arff\") # unnormalized\n",
    "df = pd.DataFrame(data[0])\n",
    "df.outlier = df.outlier.str.decode(\"utf-8\")\n",
    "df['outlier'] = df['outlier'].map({'yes':1,'no':0}) # convert yes/no to 1/0\n",
    "df.dropna()\n",
    "if 'id' in df:\n",
    "    del df['id'] # drop id column\n",
    "#\n",
    "# Define problem params\n",
    "N_max = 10000 # number of max input instances\n",
    "# Subsample if N > N_max\n",
    "if(len(df) > N_max):\n",
    "        df = df.sample(n=N_max)\n",
    "print(\"Size of sampled dataset:\",len(df))\n",
    "# Split (stratified) train and test sets\n",
    "X  = df.iloc[:, :-1] # drop labels for X\n",
    "y = df['outlier'] # keep labels for y\n",
    "# Random state set for reproducible results\n",
    "X_train, X_test, y_train, y_test = train_test_split(X, y, test_size=0.2, random_state=1, stratify=y) # stratified split\n",
    "print(\"Ratio of outliers in training set:\", len(y_train[y_train==1])/len(y_train))\n",
    "print(\"Ratio of outliers in test set:\", len(y_test[y_test==1])/len(y_test))\n",
    "print(\"Training size:\", len(X_train))\n",
    "print(\"Test size:\", len(X_test))\n",
    "# Normalize training set\n",
    "X_train_norm = X_train.copy()\n",
    "X_test_norm = X_test.copy()\n",
    "for col in X_train_norm.columns:\n",
    "    mu = X_train_norm[col].mean()\n",
    "    sig = X_train_norm[col].std()\n",
    "    X_train_norm[col] = (X_train_norm[col] - mu) / sig\n",
    "    X_test_norm[col] = (X_test_norm[col] - mu) / sig"
   ]
  },
  {
   "cell_type": "code",
   "execution_count": 70,
   "metadata": {},
   "outputs": [
    {
     "name": "stdout",
     "output_type": "stream",
     "text": [
      "Model instance:\n",
      "Parameters: {'algorithm': 'auto', 'contamination': 0.1, 'leaf_size': 30, 'metric': 'minkowski', 'metric_params': None, 'n_jobs': 1, 'n_neighbors': 20, 'p': 2}\n",
      "\n",
      "Training set:\n",
      "Threshold: 1.258477607088302\n",
      "Labels: [1 0 0 0 0]\n",
      "Scores: [2.27862817 1.02058725 1.04285717 1.05412967 1.01592581]\n",
      "Probabilities:\n",
      " [[0.6032966  0.3967034 ]\n",
      " [0.97186057 0.02813943]\n",
      " [0.96834258 0.03165742]\n",
      " [0.96121165 0.03878835]\n",
      " [0.97140909 0.02859091]]\n",
      "\n",
      "Test set\n",
      "Labels: [0 0 0 0 0 0 1 0 0 0]\n",
      "Scores: [1.03357017 1.08291163 1.13134372 1.1243341  0.9906937  1.12643377\n",
      " 1.29778837 1.03298952 1.02717508 1.02767294]\n",
      "Probabilities:\n",
      " [[0.96552287 0.03447713]\n",
      " [0.95026717 0.04973283]\n",
      " [0.93529263 0.06470737]\n",
      " [0.93745991 0.06254009]\n",
      " [0.97877968 0.02122032]\n",
      " [0.93681072 0.06318928]\n",
      " [0.88383025 0.11616975]\n",
      " [0.9657024  0.0342976 ]\n",
      " [0.96750014 0.03249986]\n",
      " [0.96734621 0.03265379]]\n"
     ]
    }
   ],
   "source": [
    "from pyod.models.knn import KNN   # kNN detector\n",
    "from pyod.models.lof import LOF # LOF detector\n",
    "\n",
    "# train kNN detector\n",
    "clf_name = 'LOF' #'KNN'\n",
    "clf = LOF() # contamination = 0.1 by default\n",
    "clf.fit(X_train)\n",
    "\n",
    "# get the prediction label and outlier scores of the training data\n",
    "y_train_pred = clf.labels_  # binary labels (0: inliers, 1: outliers)\n",
    "y_train_scores = clf.decision_scores_  # raw outlier scores\n",
    "y_train_proba = clf.predict_proba(X_train) # probability of outliers\n",
    "\n",
    "# get the prediction on the test data\n",
    "y_test_pred = clf.predict(X_test)  # outlier labels (0 or 1)\n",
    "y_test_scores = clf.decision_function(X_test)  # outlier scores\n",
    "y_test_proba = clf.predict_proba(X_test)  # probabilities in the range of [0,1]\n",
    "\n",
    "# Model instance\n",
    "print('Model instance:')\n",
    "print('Parameters:',clf.get_params())\n",
    "# Training set\n",
    "print(\"\\nTraining set:\")\n",
    "print('Threshold:',clf.threshold_)\n",
    "print('Labels:',clf.labels_[:5])\n",
    "print('Scores:',clf.decision_scores_[:5]) # y_train_scores[:5]\n",
    "print('Probabilities:\\n', y_train_proba[:5])\n",
    "# Test set\n",
    "print(\"\\nTest set\")\n",
    "print('Labels:',y_test_pred[15:25])\n",
    "print('Scores:',y_test_scores[15:25])\n",
    "print('Probabilities:\\n',y_test_proba[15:25])"
   ]
  },
  {
   "cell_type": "code",
   "execution_count": 71,
   "metadata": {},
   "outputs": [
    {
     "name": "stdout",
     "output_type": "stream",
     "text": [
      "\n",
      "On Training Data:\n",
      "LOF ROC:0.6501, precision @ rank n:0.0789\n",
      "\n",
      "On Test Data:\n",
      "LOF ROC:0.6799, precision @ rank n:0.1754\n"
     ]
    }
   ],
   "source": [
    "from pyod.utils.data import evaluate_print\n",
    "\n",
    "# evaluate and print the results\n",
    "print(\"\\nOn Training Data:\")\n",
    "evaluate_print(clf_name, y_train, y_train_scores)\n",
    "print(\"\\nOn Test Data:\")\n",
    "evaluate_print(clf_name, y_test, y_test_scores)"
   ]
  },
  {
   "cell_type": "code",
   "execution_count": null,
   "metadata": {},
   "outputs": [],
   "source": []
  }
 ],
 "metadata": {
  "kernelspec": {
   "display_name": "Python 3",
   "language": "python",
   "name": "python3"
  },
  "language_info": {
   "codemirror_mode": {
    "name": "ipython",
    "version": 3
   },
   "file_extension": ".py",
   "mimetype": "text/x-python",
   "name": "python",
   "nbconvert_exporter": "python",
   "pygments_lexer": "ipython3",
   "version": "3.8.5"
  }
 },
 "nbformat": 4,
 "nbformat_minor": 4
}
